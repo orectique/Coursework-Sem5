{
 "cells": [
  {
   "cell_type": "markdown",
   "metadata": {},
   "source": [
    "# Assessment 1\n",
    "## Database Management Systems\n",
    "Sreehari P Sreedhar\n",
    "CB.SC.I5DAS20032"
   ]
  },
  {
   "cell_type": "code",
   "execution_count": 1,
   "metadata": {},
   "outputs": [],
   "source": [
    "import os\n",
    "\n",
    "try:\n",
    "    os.remove('../Dumps/Assessment1.db')\n",
    "except FileNotFoundError:\n",
    "    pass"
   ]
  },
  {
   "cell_type": "code",
   "execution_count": 2,
   "metadata": {},
   "outputs": [],
   "source": [
    "import sqlite3"
   ]
  },
  {
   "cell_type": "code",
   "execution_count": 3,
   "metadata": {},
   "outputs": [],
   "source": [
    "conn = sqlite3.connect('../Dumps/Assessment1.db')\n",
    "\n",
    "cur = conn.cursor()"
   ]
  },
  {
   "cell_type": "code",
   "execution_count": 4,
   "metadata": {},
   "outputs": [],
   "source": [
    "createTables = '''\n",
    "    BEGIN;\n",
    "\n",
    "    CREATE TABLE IF NOT EXISTS SALESMAN (\n",
    "        SALESMAN_ID INTEGER PRIMARY KEY,\n",
    "        NAME VARCHAR(25),\n",
    "        CITY VARCHAR(25),\n",
    "        COMMISSION INTEGER(2, 2)\n",
    "        );\n",
    "\n",
    "    CREATE TABLE IF NOT EXISTS CUSTOMER (\n",
    "        CUSTOMER_ID INTEGER PRIMARY KEY,\n",
    "        CUST_NAME VARCHAR(25),\n",
    "        CITY VARCHAR(25),\n",
    "        GRADE INTEGER,\n",
    "        SALESMAN_ID INTEGER REFERENCES SALESMAN(SALESMAN_ID) ON UPDATE CASCADE\n",
    "        );\n",
    "\n",
    "    CREATE TABLE IF NOT EXISTS ORDERS (\n",
    "        ORD_NO INTEGER PRIMARY KEY,\n",
    "        PURCH_AMT INTEGER(5, 2),\n",
    "        ORD_DATE DATE,\n",
    "        CUSTOMER_ID INTEGER REFERENCES CUSTOMER(CUSTOMER_ID) ON UPDATE CASCADE,\n",
    "        SALESMAN_ID INTEGER REFERENCES SALESMAN(SALESMAN_ID) ON UPDATE CASCADE\n",
    "        );\n",
    "\n",
    "    COMMIT; \n",
    "'''"
   ]
  },
  {
   "cell_type": "code",
   "execution_count": 5,
   "metadata": {},
   "outputs": [
    {
     "data": {
      "text/plain": [
       "<sqlite3.Cursor at 0x17f807fbc40>"
      ]
     },
     "execution_count": 5,
     "metadata": {},
     "output_type": "execute_result"
    }
   ],
   "source": [
    "cur.executescript(createTables)"
   ]
  },
  {
   "cell_type": "code",
   "execution_count": 6,
   "metadata": {},
   "outputs": [],
   "source": [
    "salesMen = [\n",
    "    (1001, 'zavier', 'new york', 0.11),\n",
    "    (1002, 'zenpaul', 'denmark', 0.23), \n",
    "    (1003, 'alen', 'chicago', 0.45), \n",
    "    (1004, 'boby', 'new delhi', 0.33),\n",
    "    (1005, 'cheran', 'denmark', 0.24),\n",
    "    (1006, 'alex', 'new york', 0.21)\n",
    "]\n",
    "\n",
    "cur.executemany('INSERT INTO SALESMAN VALUES (?, ?, ?, ?)', salesMen)\n",
    "\n",
    "conn.commit(); "
   ]
  },
  {
   "cell_type": "code",
   "execution_count": 7,
   "metadata": {},
   "outputs": [],
   "source": [
    "customers = [\n",
    "    (2001, 'nicklado', 'new york', 100, 1001), \n",
    "    (2002, 'ritwik', 'denmark', 200, 1003),\n",
    "    (2003, 'sachin', 'chicago', 300, 1002),\n",
    "    (2004, 'dora', 'new delhi', 100, 1004),\n",
    "    (2005, 'alwin', 'denmark', 100, 1005), \n",
    "    (2006, 'simon', 'chicago', 200, 1002),\n",
    "    (2007, 'rohan', 'pitsberg', 200, 1003), \n",
    "    (2008, 'aswin', 'pitsberg', 300, 1006)\n",
    "]\n",
    "\n",
    "cur.executemany('INSERT INTO CUSTOMER VALUES (?, ?, ?, ?, ?)', customers)\n",
    "\n",
    "conn.commit()"
   ]
  },
  {
   "cell_type": "code",
   "execution_count": 8,
   "metadata": {},
   "outputs": [],
   "source": [
    "orders = [\n",
    "    (1, 1000, '2012-02-01', 2001, 1001), \n",
    "    (2, 2000, '2012-01-01', 2002, 1003),\n",
    "    (3, 3000, '2012-03-01', 2003, 1002), \n",
    "    (4, 4000, '2012-07-01', 2004, 1004),\n",
    "    (5, 5000, '2012-12-01', 2005, 1005),\n",
    "    (6, 1000, '2012-03-01', 2006, 1006),\n",
    "    (7, 2500, '2012-11-01', 2007, 1003),\n",
    "    (8, 3000, '2012-09-01', 2008, 1006), \n",
    "    (9, 5000, '2012-02-02', 2001, 1001), \n",
    "    (10, 5000, '2012-12-15', 2001, 1001)\n",
    "]\n",
    "\n",
    "cur.executemany('INSERT INTO ORDERS VALUES (?, ?, ?, ?, ?)', orders)\n",
    "\n",
    "conn.commit()"
   ]
  },
  {
   "cell_type": "markdown",
   "metadata": {},
   "source": [
    "## Questions:"
   ]
  },
  {
   "cell_type": "markdown",
   "metadata": {},
   "source": [
    "1. Identify the Purchase_amount between 2000 to 5000 and print the ord_no, purchase_amount and customer city."
   ]
  },
  {
   "cell_type": "code",
   "execution_count": 9,
   "metadata": {},
   "outputs": [
    {
     "data": {
      "text/plain": [
       "[(2, 2000, 'denmark'),\n",
       " (3, 3000, 'chicago'),\n",
       " (4, 4000, 'new delhi'),\n",
       " (5, 5000, 'denmark'),\n",
       " (7, 2500, 'pitsberg'),\n",
       " (8, 3000, 'pitsberg'),\n",
       " (9, 5000, 'new york'),\n",
       " (10, 5000, 'new york')]"
      ]
     },
     "execution_count": 9,
     "metadata": {},
     "output_type": "execute_result"
    }
   ],
   "source": [
    "cur.execute('''\n",
    "    SELECT O.ORD_NO, O.PURCH_AMT, C.CITY \n",
    "    FROM ORDERS O INNER JOIN CUSTOMER C ON O.CUSTOMER_ID = C.CUSTOMER_ID\n",
    "    WHERE (O.PURCH_AMT >= 2000 AND O.PURCH_AMT <= 5000);\n",
    "    ''').fetchall()"
   ]
  },
  {
   "cell_type": "markdown",
   "metadata": {},
   "source": [
    "2. Find the commission associated to each customer and salesman and display customer name, salesman name, commission percentile."
   ]
  },
  {
   "cell_type": "code",
   "execution_count": 10,
   "metadata": {},
   "outputs": [
    {
     "data": {
      "text/plain": [
       "[('nicklado', 'zavier', 0.11),\n",
       " ('ritwik', 'alen', 0.45),\n",
       " ('sachin', 'zenpaul', 0.23),\n",
       " ('dora', 'boby', 0.33),\n",
       " ('alwin', 'cheran', 0.24),\n",
       " ('simon', 'zenpaul', 0.23),\n",
       " ('rohan', 'alen', 0.45),\n",
       " ('aswin', 'alex', 0.21)]"
      ]
     },
     "execution_count": 10,
     "metadata": {},
     "output_type": "execute_result"
    }
   ],
   "source": [
    "cur.execute('''\n",
    "    SELECT C.CUST_NAME, S.NAME, S.COMMISSION \n",
    "    FROM CUSTOMER C INNER JOIN SALESMAN S ON C.SALESMAN_ID = S.SALESMAN_ID;\n",
    "''').fetchall()"
   ]
  },
  {
   "cell_type": "markdown",
   "metadata": {},
   "source": [
    "3. Identify the salesman who fixed commission above 20% and display salesman name, customer name, commission. "
   ]
  },
  {
   "cell_type": "code",
   "execution_count": 11,
   "metadata": {},
   "outputs": [
    {
     "data": {
      "text/plain": [
       "[('ritwik', 'alen', 0.45),\n",
       " ('sachin', 'zenpaul', 0.23),\n",
       " ('dora', 'boby', 0.33),\n",
       " ('alwin', 'cheran', 0.24),\n",
       " ('simon', 'zenpaul', 0.23),\n",
       " ('rohan', 'alen', 0.45),\n",
       " ('aswin', 'alex', 0.21)]"
      ]
     },
     "execution_count": 11,
     "metadata": {},
     "output_type": "execute_result"
    }
   ],
   "source": [
    "cur.execute('''\n",
    "    SELECT C.CUST_NAME, S.NAME, S.COMMISSION \n",
    "    FROM CUSTOMER C INNER JOIN SALESMAN S ON C.SALESMAN_ID = S.SALESMAN_ID\n",
    "    WHERE S.COMMISSION > 0.2;\n",
    "''').fetchall()"
   ]
  },
  {
   "cell_type": "markdown",
   "metadata": {},
   "source": [
    "4. Display the customer name, customer city, salesman name , salesman city where condition is salesman city != customer city."
   ]
  },
  {
   "cell_type": "code",
   "execution_count": 12,
   "metadata": {},
   "outputs": [
    {
     "data": {
      "text/plain": [
       "[('ritwik', 'denmark', 'alen', 'chicago'),\n",
       " ('sachin', 'chicago', 'zenpaul', 'denmark'),\n",
       " ('simon', 'chicago', 'zenpaul', 'denmark'),\n",
       " ('rohan', 'pitsberg', 'alen', 'chicago'),\n",
       " ('aswin', 'pitsberg', 'alex', 'new york')]"
      ]
     },
     "execution_count": 12,
     "metadata": {},
     "output_type": "execute_result"
    }
   ],
   "source": [
    "cur.execute('''\n",
    "    SELECT C.CUST_NAME, C.CITY, S.NAME, S.CITY\n",
    "    FROM CUSTOMER C INNER JOIN SALESMAN S ON C.SALESMAN_ID = S.SALESMAN_ID\n",
    "    WHERE C.CITY != S.CITY;\n",
    "''').fetchall()"
   ]
  },
  {
   "cell_type": "markdown",
   "metadata": {},
   "source": [
    "5. Display the following information of all the orders like order number, order date, purchase_amt, Customer Name, Salesman name."
   ]
  },
  {
   "cell_type": "code",
   "execution_count": 13,
   "metadata": {},
   "outputs": [
    {
     "data": {
      "text/plain": [
       "[(1, '2012-02-01', 1000, 'nicklado', 'zavier'),\n",
       " (2, '2012-01-01', 2000, 'ritwik', 'alen'),\n",
       " (3, '2012-03-01', 3000, 'sachin', 'zenpaul'),\n",
       " (4, '2012-07-01', 4000, 'dora', 'boby'),\n",
       " (5, '2012-12-01', 5000, 'alwin', 'cheran'),\n",
       " (6, '2012-03-01', 1000, 'simon', 'zenpaul'),\n",
       " (7, '2012-11-01', 2500, 'rohan', 'alen'),\n",
       " (8, '2012-09-01', 3000, 'aswin', 'alex'),\n",
       " (9, '2012-02-02', 5000, 'nicklado', 'zavier'),\n",
       " (10, '2012-12-15', 5000, 'nicklado', 'zavier')]"
      ]
     },
     "execution_count": 13,
     "metadata": {},
     "output_type": "execute_result"
    }
   ],
   "source": [
    "cur.execute('''\n",
    "    SELECT O.ORD_NO, O.ORD_DATE, O.PURCH_AMT, C.CUST_NAME, S.NAME\n",
    "    FROM ORDERS O INNER JOIN (\n",
    "        CUSTOMER C INNER JOIN SALESMAN S ON C.SALESMAN_ID = S.SALESMAN_ID\n",
    "    ) ON O.CUSTOMER_ID = C.CUSTOMER_ID\n",
    "''').fetchall()"
   ]
  },
  {
   "cell_type": "markdown",
   "metadata": {},
   "source": [
    "6. Join all the 3 tables and display the complete information from all tables in such a way that the columns should not repeat. "
   ]
  },
  {
   "cell_type": "code",
   "execution_count": 14,
   "metadata": {},
   "outputs": [
    {
     "data": {
      "text/plain": [
       "[(1001,\n",
       "  'zavier',\n",
       "  'new york',\n",
       "  0.11,\n",
       "  2001,\n",
       "  'nicklado',\n",
       "  'new york',\n",
       "  100,\n",
       "  1,\n",
       "  '2012-02-01',\n",
       "  1000),\n",
       " (1003,\n",
       "  'alen',\n",
       "  'chicago',\n",
       "  0.45,\n",
       "  2002,\n",
       "  'ritwik',\n",
       "  'denmark',\n",
       "  200,\n",
       "  2,\n",
       "  '2012-01-01',\n",
       "  2000),\n",
       " (1002,\n",
       "  'zenpaul',\n",
       "  'denmark',\n",
       "  0.23,\n",
       "  2003,\n",
       "  'sachin',\n",
       "  'chicago',\n",
       "  300,\n",
       "  3,\n",
       "  '2012-03-01',\n",
       "  3000),\n",
       " (1004,\n",
       "  'boby',\n",
       "  'new delhi',\n",
       "  0.33,\n",
       "  2004,\n",
       "  'dora',\n",
       "  'new delhi',\n",
       "  100,\n",
       "  4,\n",
       "  '2012-07-01',\n",
       "  4000),\n",
       " (1005,\n",
       "  'cheran',\n",
       "  'denmark',\n",
       "  0.24,\n",
       "  2005,\n",
       "  'alwin',\n",
       "  'denmark',\n",
       "  100,\n",
       "  5,\n",
       "  '2012-12-01',\n",
       "  5000),\n",
       " (1002,\n",
       "  'zenpaul',\n",
       "  'denmark',\n",
       "  0.23,\n",
       "  2006,\n",
       "  'simon',\n",
       "  'chicago',\n",
       "  200,\n",
       "  6,\n",
       "  '2012-03-01',\n",
       "  1000),\n",
       " (1003,\n",
       "  'alen',\n",
       "  'chicago',\n",
       "  0.45,\n",
       "  2007,\n",
       "  'rohan',\n",
       "  'pitsberg',\n",
       "  200,\n",
       "  7,\n",
       "  '2012-11-01',\n",
       "  2500),\n",
       " (1006,\n",
       "  'alex',\n",
       "  'new york',\n",
       "  0.21,\n",
       "  2008,\n",
       "  'aswin',\n",
       "  'pitsberg',\n",
       "  300,\n",
       "  8,\n",
       "  '2012-09-01',\n",
       "  3000),\n",
       " (1001,\n",
       "  'zavier',\n",
       "  'new york',\n",
       "  0.11,\n",
       "  2001,\n",
       "  'nicklado',\n",
       "  'new york',\n",
       "  100,\n",
       "  9,\n",
       "  '2012-02-02',\n",
       "  5000),\n",
       " (1001,\n",
       "  'zavier',\n",
       "  'new york',\n",
       "  0.11,\n",
       "  2001,\n",
       "  'nicklado',\n",
       "  'new york',\n",
       "  100,\n",
       "  10,\n",
       "  '2012-12-15',\n",
       "  5000)]"
      ]
     },
     "execution_count": 14,
     "metadata": {},
     "output_type": "execute_result"
    }
   ],
   "source": [
    "cur.execute('''\n",
    "    SELECT S.SALESMAN_ID, S.NAME, S.CITY, S.COMMISSION, C.CUSTOMER_ID, C.CUST_NAME, C.CITY, C.GRADE, O.ORD_NO, O.ORD_DATE, O.PURCH_AMT\n",
    "    FROM ORDERS O INNER JOIN (\n",
    "        CUSTOMER C INNER JOIN SALESMAN S ON C.SALESMAN_ID = S.SALESMAN_ID\n",
    "    ) ON O.CUSTOMER_ID = C.CUSTOMER_ID;\n",
    "''').fetchall()"
   ]
  },
  {
   "cell_type": "markdown",
   "metadata": {},
   "source": [
    "7. Sort the table based on the Customer_id in ascending. Display customer name, customer city, grade, salesman, salesman city."
   ]
  },
  {
   "cell_type": "code",
   "execution_count": 15,
   "metadata": {},
   "outputs": [
    {
     "data": {
      "text/plain": [
       "[(2001, 'nicklado', 'new york', 100, 1001, 'zavier', 'new york'),\n",
       " (2002, 'ritwik', 'denmark', 200, 1003, 'alen', 'chicago'),\n",
       " (2003, 'sachin', 'chicago', 300, 1002, 'zenpaul', 'denmark'),\n",
       " (2004, 'dora', 'new delhi', 100, 1004, 'boby', 'new delhi'),\n",
       " (2005, 'alwin', 'denmark', 100, 1005, 'cheran', 'denmark'),\n",
       " (2006, 'simon', 'chicago', 200, 1002, 'zenpaul', 'denmark'),\n",
       " (2007, 'rohan', 'pitsberg', 200, 1003, 'alen', 'chicago'),\n",
       " (2008, 'aswin', 'pitsberg', 300, 1006, 'alex', 'new york')]"
      ]
     },
     "execution_count": 15,
     "metadata": {},
     "output_type": "execute_result"
    }
   ],
   "source": [
    "cur.execute('''\n",
    "    SELECT C.CUSTOMER_ID, C.CUST_NAME, C.CITY, C.GRADE, S.SALESMAN_ID, S.NAME, S.CITY\n",
    "    FROM CUSTOMER C INNER JOIN SALESMAN S ON C.SALESMAN_ID = S.SALESMAN_ID\n",
    "    ORDER BY C.CUSTOMER_ID ASC;\n",
    "''').fetchall()"
   ]
  },
  {
   "cell_type": "markdown",
   "metadata": {},
   "source": [
    "8. Display the information of salesperson who worked with more than one customer. Fetch the Salesman name, salesman city customer name customer city."
   ]
  },
  {
   "cell_type": "code",
   "execution_count": 16,
   "metadata": {},
   "outputs": [
    {
     "data": {
      "text/plain": [
       "[('ritwik', 'denmark', 'alen', 'chicago', 2),\n",
       " ('sachin', 'chicago', 'zenpaul', 'denmark', 2),\n",
       " ('simon', 'chicago', 'zenpaul', 'denmark', 2),\n",
       " ('rohan', 'pitsberg', 'alen', 'chicago', 2)]"
      ]
     },
     "execution_count": 16,
     "metadata": {},
     "output_type": "execute_result"
    }
   ],
   "source": [
    "cur.execute('''\n",
    "    SELECT C.CUST_NAME, C.CITY, S.NAME, S.CITY, CNT.VALUE\n",
    "    FROM SALESMAN S INNER JOIN (\n",
    "        (SELECT COUNT(C.SALESMAN_ID) AS VALUE, C.SALESMAN_ID\n",
    "        FROM CUSTOMER C\n",
    "        GROUP BY C.SALESMAN_ID) AS CNT INNER JOIN CUSTOMER C ON CNT.SALESMAN_ID = C.SALESMAN_ID        \n",
    "    ) ON C.SALESMAN_ID = S.SALESMAN_ID\n",
    "    WHERE CNT.VALUE > 1;\n",
    "''').fetchall()"
   ]
  },
  {
   "cell_type": "markdown",
   "metadata": {},
   "source": [
    "9. Update the commission of all rows by 0.20. Eg: .011+.20=0.31."
   ]
  },
  {
   "cell_type": "code",
   "execution_count": 17,
   "metadata": {},
   "outputs": [
    {
     "data": {
      "text/plain": [
       "[(1001, 'zavier', 'new york', 0.11),\n",
       " (1002, 'zenpaul', 'denmark', 0.23),\n",
       " (1003, 'alen', 'chicago', 0.45),\n",
       " (1004, 'boby', 'new delhi', 0.33),\n",
       " (1005, 'cheran', 'denmark', 0.24),\n",
       " (1006, 'alex', 'new york', 0.21)]"
      ]
     },
     "execution_count": 17,
     "metadata": {},
     "output_type": "execute_result"
    }
   ],
   "source": [
    "cur.execute('SELECT * FROM SALESMAN;').fetchall()"
   ]
  },
  {
   "cell_type": "code",
   "execution_count": 18,
   "metadata": {},
   "outputs": [
    {
     "data": {
      "text/plain": [
       "[]"
      ]
     },
     "execution_count": 18,
     "metadata": {},
     "output_type": "execute_result"
    }
   ],
   "source": [
    "cur.execute('''\n",
    "    UPDATE SALESMAN SET COMMISSION = COMMISSION + 0.2;\n",
    "''').fetchall()"
   ]
  },
  {
   "cell_type": "code",
   "execution_count": 19,
   "metadata": {},
   "outputs": [
    {
     "data": {
      "text/plain": [
       "[(1001, 'zavier', 'new york', 0.31),\n",
       " (1002, 'zenpaul', 'denmark', 0.43000000000000005),\n",
       " (1003, 'alen', 'chicago', 0.65),\n",
       " (1004, 'boby', 'new delhi', 0.53),\n",
       " (1005, 'cheran', 'denmark', 0.44),\n",
       " (1006, 'alex', 'new york', 0.41000000000000003)]"
      ]
     },
     "execution_count": 19,
     "metadata": {},
     "output_type": "execute_result"
    }
   ],
   "source": [
    "cur.execute('SELECT * FROM SALESMAN;').fetchall()"
   ]
  },
  {
   "cell_type": "markdown",
   "metadata": {},
   "source": [
    "10. Modify the column name CUSTOMER_ID and SALESMAN_ID as varchar(25). Accept few varchar values to the appropriate tables. "
   ]
  },
  {
   "cell_type": "markdown",
   "metadata": {},
   "source": [
    "### Standard SQL command to change datatype of column\n",
    "\n",
    "```\n",
    "MODIFY COLUMN SALESMAN.SALESMAN_ID VARCHAR(25);  \n",
    "MODIFY COLUMN CUSTOMER.CUSTOMER_ID VARCHAR(25); \n",
    "```"
   ]
  },
  {
   "cell_type": "code",
   "execution_count": 21,
   "metadata": {},
   "outputs": [],
   "source": [
    "conn.close()"
   ]
  }
 ],
 "metadata": {
  "kernelspec": {
   "display_name": "Python 3.10.4 ('dbms')",
   "language": "python",
   "name": "python3"
  },
  "language_info": {
   "codemirror_mode": {
    "name": "ipython",
    "version": 3
   },
   "file_extension": ".py",
   "mimetype": "text/x-python",
   "name": "python",
   "nbconvert_exporter": "python",
   "pygments_lexer": "ipython3",
   "version": "3.10.4"
  },
  "orig_nbformat": 4,
  "vscode": {
   "interpreter": {
    "hash": "fe6733b6ea1a1cc8c8a474c8e9b92e287be752e68a7b5e4a4ee39ee605865c6d"
   }
  }
 },
 "nbformat": 4,
 "nbformat_minor": 2
}
