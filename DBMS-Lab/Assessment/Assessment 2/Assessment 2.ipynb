{
 "cells": [
  {
   "cell_type": "markdown",
   "metadata": {},
   "source": [
    "# Assessment 2\n",
    "## Database Management Systems\n",
    "Sreehari P Sreedhar\n",
    "CB.SC.I5DAS20032"
   ]
  },
  {
   "cell_type": "code",
   "execution_count": 1,
   "metadata": {},
   "outputs": [],
   "source": [
    "import os\n",
    "\n",
    "try:\n",
    "    os.remove('../Dumps/Assessment2.db')\n",
    "except FileNotFoundError:\n",
    "    pass"
   ]
  },
  {
   "cell_type": "code",
   "execution_count": 2,
   "metadata": {},
   "outputs": [],
   "source": [
    "import sqlite3"
   ]
  },
  {
   "cell_type": "code",
   "execution_count": 3,
   "metadata": {},
   "outputs": [],
   "source": [
    "conn = sqlite3.connect('../Dumps/Assessment2.db')\n",
    "\n",
    "cur = conn.cursor()"
   ]
  },
  {
   "cell_type": "code",
   "execution_count": 4,
   "metadata": {},
   "outputs": [],
   "source": [
    "createTables = '''\n",
    "    BEGIN;\n",
    "\n",
    "    CREATE TABLE SAILORS (\n",
    "        SID INTEGER PRIMARY KEY,\n",
    "        SNAME TEXT,\n",
    "        RATING INTEGER,\n",
    "        AGE CHAR(2)\n",
    "    );\n",
    "\n",
    "    CREATE TABLE BOATS (\n",
    "        BID INTEGER PRIMARY KEY,\n",
    "        BNAME TEXT,\n",
    "        COLOR TEXT\n",
    "    );\n",
    "\n",
    "    CREATE TABLE RESERVES (\n",
    "        SID INTEGER,\n",
    "        BID INTEGER,\n",
    "        DAY DATE,\n",
    "        PRIMARY KEY (SID, BID, DAY),\n",
    "        FOREIGN KEY (SID) REFERENCES SAILORS (SID),\n",
    "        FOREIGN KEY (BID) REFERENCES BOATS (BID)\n",
    "    );\n",
    "\n",
    "    COMMIT; \n",
    "'''"
   ]
  },
  {
   "cell_type": "code",
   "execution_count": 5,
   "metadata": {},
   "outputs": [
    {
     "data": {
      "text/plain": [
       "<sqlite3.Cursor at 0x18e30558a40>"
      ]
     },
     "execution_count": 5,
     "metadata": {},
     "output_type": "execute_result"
    }
   ],
   "source": [
    "cur.executescript(createTables)"
   ]
  },
  {
   "cell_type": "code",
   "execution_count": 6,
   "metadata": {},
   "outputs": [],
   "source": [
    "insertValues = '''\n",
    "    BEGIN;\n",
    "\n",
    "    INSERT INTO SAILORS VALUES(22,'DUSTIN',7,45);\n",
    "\n",
    "    INSERT INTO SAILORS VALUES(29,'BRUTUS',1,3);\n",
    "\n",
    "    INSERT INTO SAILORS VALUES(31,'LUBBER',8,5);\n",
    "\n",
    "    INSERT INTO SAILORS VALUES(32,'ANDY',8,25);\n",
    "\n",
    "    INSERT INTO SAILORS VALUES(58,'RUSTY',10,35);\n",
    "\n",
    "    INSERT INTO SAILORS VALUES(64,'HORATIO',7,35);\n",
    "\n",
    "    INSERT INTO SAILORS VALUES(71,'ZORBA',10,16);\n",
    "\n",
    "    INSERT INTO SAILORS VALUES(74,'HORATIO',9,40);\n",
    "\n",
    "    INSERT INTO SAILORS VALUES(85,'ART',3,25);\n",
    "\n",
    "    INSERT INTO SAILORS VALUES(95,'BOB',3,63);\n",
    "\n",
    "    INSERT INTO BOATS VALUES(101,'INTERLAKE','BLUE');\n",
    "\n",
    "    INSERT INTO BOATS VALUES(102,'INTERLAKE','RED');\n",
    "\n",
    "    INSERT INTO BOATS VALUES(103,'CLIPPER','GREEN');\n",
    "\n",
    "    INSERT INTO BOATS VALUES(104,'MARINE','RED');\n",
    "\n",
    "    INSERT INTO RESERVES VALUES(22,101,'10-OCT-2022');\n",
    "\n",
    "    INSERT INTO RESERVES VALUES(22,102,'10-OCT-2022');\n",
    "\n",
    "    INSERT INTO RESERVES VALUES(22,103,'08-OCT-2022');\n",
    "\n",
    "    INSERT INTO RESERVES VALUES(22,104,'07-OCT-2022');\n",
    "\n",
    "    INSERT INTO RESERVES VALUES(31,102,'10-NOV-2022');\n",
    "\n",
    "    INSERT INTO RESERVES VALUES(31,103,'06-NOV-2022');\n",
    "\n",
    "    INSERT INTO RESERVES VALUES(31,104,'12-NOV-2022');\n",
    "\n",
    "    INSERT INTO RESERVES VALUES(64,101,'05-SEP-2022');\n",
    "\n",
    "    INSERT INTO RESERVES VALUES(64,102,'08-SEP-2022');\n",
    "\n",
    "    INSERT INTO RESERVES VALUES(74,103,'08-SEP-2022');\n",
    "\n",
    "    COMMIT;\n",
    "'''"
   ]
  },
  {
   "cell_type": "code",
   "execution_count": 7,
   "metadata": {},
   "outputs": [
    {
     "data": {
      "text/plain": [
       "<sqlite3.Cursor at 0x18e30558a40>"
      ]
     },
     "execution_count": 7,
     "metadata": {},
     "output_type": "execute_result"
    }
   ],
   "source": [
    "cur.executescript(insertValues)"
   ]
  },
  {
   "cell_type": "markdown",
   "metadata": {},
   "source": [
    "## Questions:"
   ]
  },
  {
   "cell_type": "markdown",
   "metadata": {},
   "source": [
    "1. Write down the constraints to Update the Views in SQL.(3m)"
   ]
  },
  {
   "cell_type": "markdown",
   "metadata": {},
   "source": [
    "> - Only a view based on a single parent table can be updated.\n",
    "> - The view should share the table's primary key.\n",
    "> - The view should not have any subquery/filter or group by operation."
   ]
  },
  {
   "cell_type": "markdown",
   "metadata": {},
   "source": [
    "2. Write a View to Select the sids of sailors who have reserved a red boat. (2m)"
   ]
  },
  {
   "cell_type": "code",
   "execution_count": 8,
   "metadata": {},
   "outputs": [
    {
     "data": {
      "text/plain": [
       "<sqlite3.Cursor at 0x18e30558a40>"
      ]
     },
     "execution_count": 8,
     "metadata": {},
     "output_type": "execute_result"
    }
   ],
   "source": [
    "cur.execute(\n",
    "    '''\n",
    "    CREATE VIEW REDBOAT AS \n",
    "    SELECT S.SID, S.SNAME \n",
    "    FROM SAILORS S INNER JOIN ( BOATS B INNER JOIN RESERVES R ON B.BID = R.BID ) ON S.SID = R.SID\n",
    "    WHERE B.COLOR = 'RED';\n",
    "    '''\n",
    "    )"
   ]
  },
  {
   "cell_type": "code",
   "execution_count": 9,
   "metadata": {},
   "outputs": [
    {
     "data": {
      "text/plain": [
       "[(22, 'DUSTIN'),\n",
       " (22, 'DUSTIN'),\n",
       " (31, 'LUBBER'),\n",
       " (31, 'LUBBER'),\n",
       " (64, 'HORATIO')]"
      ]
     },
     "execution_count": 9,
     "metadata": {},
     "output_type": "execute_result"
    }
   ],
   "source": [
    "cur.execute('SELECT * FROM REDBOAT;').fetchall()"
   ]
  },
  {
   "cell_type": "markdown",
   "metadata": {},
   "source": [
    "3. Write a View to Select the names of sailors who have reserved atleast one boat. (2m)"
   ]
  },
  {
   "cell_type": "code",
   "execution_count": 10,
   "metadata": {},
   "outputs": [
    {
     "data": {
      "text/plain": [
       "<sqlite3.Cursor at 0x18e30558a40>"
      ]
     },
     "execution_count": 10,
     "metadata": {},
     "output_type": "execute_result"
    }
   ],
   "source": [
    "cur.execute(\n",
    "    '''\n",
    "    CREATE VIEW SAILORRESERVES AS\n",
    "    SELECT S.SNAME\n",
    "    FROM SAILORS S INNER JOIN ( BOATS B INNER JOIN RESERVES R ON B.BID = R.BID ) ON S.SID = R.SID\n",
    "    GROUP BY S.SNAME;\n",
    "    '''\n",
    ")"
   ]
  },
  {
   "cell_type": "code",
   "execution_count": 11,
   "metadata": {},
   "outputs": [
    {
     "data": {
      "text/plain": [
       "[('DUSTIN',), ('HORATIO',), ('LUBBER',)]"
      ]
     },
     "execution_count": 11,
     "metadata": {},
     "output_type": "execute_result"
    }
   ],
   "source": [
    "cur.execute('SELECT * FROM SAILORRESERVES;').fetchall()"
   ]
  },
  {
   "cell_type": "markdown",
   "metadata": {},
   "source": [
    "4. Write a View to Select the names of sailors who have not reserved a red boat. (2m)"
   ]
  },
  {
   "cell_type": "code",
   "execution_count": 12,
   "metadata": {},
   "outputs": [
    {
     "data": {
      "text/plain": [
       "<sqlite3.Cursor at 0x18e30558a40>"
      ]
     },
     "execution_count": 12,
     "metadata": {},
     "output_type": "execute_result"
    }
   ],
   "source": [
    "cur.execute(\n",
    "    '''\n",
    "    CREATE TABLE NOTRESERVED AS \n",
    "    SELECT S.SID, S.SNAME\n",
    "    FROM SAILORS S LEFT JOIN ( BOATS B INNER JOIN RESERVES R ON B.BID = R.BID ) ON S.SID = R.SID\n",
    "    WHERE R.SID IS NULL;\n",
    "    '''\n",
    ")"
   ]
  },
  {
   "cell_type": "code",
   "execution_count": 13,
   "metadata": {},
   "outputs": [
    {
     "data": {
      "text/plain": [
       "[(29, 'BRUTUS'),\n",
       " (32, 'ANDY'),\n",
       " (58, 'RUSTY'),\n",
       " (71, 'ZORBA'),\n",
       " (85, 'ART'),\n",
       " (95, 'BOB')]"
      ]
     },
     "execution_count": 13,
     "metadata": {},
     "output_type": "execute_result"
    }
   ],
   "source": [
    "cur.execute('SELECT * FROM NOTRESERVED;').fetchall()"
   ]
  },
  {
   "cell_type": "markdown",
   "metadata": {},
   "source": [
    "5. Write a View to Select the name and age of oldest sailor(2m)"
   ]
  },
  {
   "cell_type": "code",
   "execution_count": 14,
   "metadata": {},
   "outputs": [
    {
     "data": {
      "text/plain": [
       "<sqlite3.Cursor at 0x18e30558a40>"
      ]
     },
     "execution_count": 14,
     "metadata": {},
     "output_type": "execute_result"
    }
   ],
   "source": [
    "cur.execute(\n",
    "    '''\n",
    "    CREATE VIEW SAILOROLD AS\n",
    "    SELECT S.SID, S.SNAME, MAX(S.AGE) AS MAX_AGE\n",
    "    FROM SAILORS S\n",
    "    '''\n",
    ")"
   ]
  },
  {
   "cell_type": "code",
   "execution_count": 15,
   "metadata": {},
   "outputs": [
    {
     "data": {
      "text/plain": [
       "[(95, 'BOB', '63')]"
      ]
     },
     "execution_count": 15,
     "metadata": {},
     "output_type": "execute_result"
    }
   ],
   "source": [
    "cur.execute('SELECT * FROM SAILOROLD;').fetchall()"
   ]
  },
  {
   "cell_type": "markdown",
   "metadata": {},
   "source": [
    "6. Update the ratings by 3 points for sailors above age 35(2m)"
   ]
  },
  {
   "cell_type": "markdown",
   "metadata": {},
   "source": [
    "SQL:\n",
    "```\n",
    "CREATE VIEW SAILORVIEW AS \n",
    "SELECT * FROM SAILORS;\n",
    "\n",
    "UPDATE SAILORVIEW SET RATING = RATING + 3 WHERE AGE > 35;\n",
    "```"
   ]
  },
  {
   "cell_type": "code",
   "execution_count": 16,
   "metadata": {},
   "outputs": [
    {
     "data": {
      "text/plain": [
       "[(22, 'DUSTIN', 7, '45'),\n",
       " (29, 'BRUTUS', 1, '3'),\n",
       " (31, 'LUBBER', 8, '5'),\n",
       " (32, 'ANDY', 8, '25'),\n",
       " (58, 'RUSTY', 10, '35'),\n",
       " (64, 'HORATIO', 7, '35'),\n",
       " (71, 'ZORBA', 10, '16'),\n",
       " (74, 'HORATIO', 9, '40'),\n",
       " (85, 'ART', 3, '25'),\n",
       " (95, 'BOB', 3, '63')]"
      ]
     },
     "execution_count": 16,
     "metadata": {},
     "output_type": "execute_result"
    }
   ],
   "source": [
    "cur.execute('SELECT * FROM SAILORS;').fetchall()"
   ]
  },
  {
   "cell_type": "code",
   "execution_count": 17,
   "metadata": {},
   "outputs": [
    {
     "data": {
      "text/plain": [
       "<sqlite3.Cursor at 0x18e30558a40>"
      ]
     },
     "execution_count": 17,
     "metadata": {},
     "output_type": "execute_result"
    }
   ],
   "source": [
    "cur.execute(\n",
    "    '''\n",
    "    UPDATE SAILORS SET RATING = RATING + 3 WHERE AGE > 35;\n",
    "    '''\n",
    ")"
   ]
  },
  {
   "cell_type": "code",
   "execution_count": 18,
   "metadata": {},
   "outputs": [
    {
     "data": {
      "text/plain": [
       "[(22, 'DUSTIN', 10, '45'),\n",
       " (29, 'BRUTUS', 1, '3'),\n",
       " (31, 'LUBBER', 11, '5'),\n",
       " (32, 'ANDY', 8, '25'),\n",
       " (58, 'RUSTY', 10, '35'),\n",
       " (64, 'HORATIO', 7, '35'),\n",
       " (71, 'ZORBA', 10, '16'),\n",
       " (74, 'HORATIO', 12, '40'),\n",
       " (85, 'ART', 3, '25'),\n",
       " (95, 'BOB', 6, '63')]"
      ]
     },
     "execution_count": 18,
     "metadata": {},
     "output_type": "execute_result"
    }
   ],
   "source": [
    "cur.execute('SELECT * FROM SAILORS;').fetchall()"
   ]
  },
  {
   "cell_type": "markdown",
   "metadata": {},
   "source": [
    "7. Update the date of sid 101 as todays date, use date function.(2m)"
   ]
  },
  {
   "cell_type": "markdown",
   "metadata": {},
   "source": [
    "SQL:\n",
    "```\n",
    "CREATE VIEW RESERVEVIEW AS\n",
    "SELECT * FROM RESERVES;\n",
    "\n",
    "UPDATE RESERVEVIEW SET DAY = DATE('NOW) WHERE BID = 101;\n",
    "```"
   ]
  },
  {
   "cell_type": "code",
   "execution_count": 19,
   "metadata": {},
   "outputs": [
    {
     "data": {
      "text/plain": [
       "[(22, 101, '10-OCT-2022'),\n",
       " (22, 102, '10-OCT-2022'),\n",
       " (22, 103, '08-OCT-2022'),\n",
       " (22, 104, '07-OCT-2022'),\n",
       " (31, 102, '10-NOV-2022'),\n",
       " (31, 103, '06-NOV-2022'),\n",
       " (31, 104, '12-NOV-2022'),\n",
       " (64, 101, '05-SEP-2022'),\n",
       " (64, 102, '08-SEP-2022'),\n",
       " (74, 103, '08-SEP-2022')]"
      ]
     },
     "execution_count": 19,
     "metadata": {},
     "output_type": "execute_result"
    }
   ],
   "source": [
    "cur.execute('SELECT * FROM RESERVES;').fetchall()"
   ]
  },
  {
   "cell_type": "code",
   "execution_count": 20,
   "metadata": {},
   "outputs": [
    {
     "data": {
      "text/plain": [
       "<sqlite3.Cursor at 0x18e30558a40>"
      ]
     },
     "execution_count": 20,
     "metadata": {},
     "output_type": "execute_result"
    }
   ],
   "source": [
    "cur.execute(\n",
    "    '''\n",
    "    UPDATE RESERVES SET DAY = DATE('NOW') WHERE BID = 101;\n",
    "    '''\n",
    ")"
   ]
  },
  {
   "cell_type": "code",
   "execution_count": 21,
   "metadata": {},
   "outputs": [
    {
     "data": {
      "text/plain": [
       "[(22, 101, '2022-10-11'),\n",
       " (22, 102, '10-OCT-2022'),\n",
       " (22, 103, '08-OCT-2022'),\n",
       " (22, 104, '07-OCT-2022'),\n",
       " (31, 102, '10-NOV-2022'),\n",
       " (31, 103, '06-NOV-2022'),\n",
       " (31, 104, '12-NOV-2022'),\n",
       " (64, 101, '2022-10-11'),\n",
       " (64, 102, '08-SEP-2022'),\n",
       " (74, 103, '08-SEP-2022')]"
      ]
     },
     "execution_count": 21,
     "metadata": {},
     "output_type": "execute_result"
    }
   ],
   "source": [
    "cur.execute('SELECT * FROM RESERVES;').fetchall()"
   ]
  },
  {
   "cell_type": "markdown",
   "metadata": {},
   "source": [
    "8. Create the following table and insert 5 in each table and to prove the execution of sequence in SQL\n",
    "\n",
    "*Tables:*\n",
    "\n",
    "```\n",
    "create table author(\n",
    "\n",
    "id NUMBER(6),\n",
    "\n",
    "name VARCHAR2(20) NOT NULL,\n",
    "\n",
    "phone_number VARCHAR2(20)\n",
    "\n",
    ")\n",
    "```"
   ]
  },
  {
   "cell_type": "markdown",
   "metadata": {},
   "source": [
    "Question:"
   ]
  },
  {
   "cell_type": "markdown",
   "metadata": {},
   "source": [
    "A. Note: author_id should be automatically generated through sequence (2m)  \n",
    "B. Keep the minimum value as 1 and Max value as 5 and repeat the cycle. (2m)  \n",
    "C. Print the next value of the pointer focusing the sequence(1m)"
   ]
  },
  {
   "cell_type": "markdown",
   "metadata": {},
   "source": [
    "SQL:\n",
    "\n",
    "```\n",
    "CREATE SEQUENCE AUTHORSEQ\n",
    "START WITH 1\n",
    "INCREMENT BY 1\n",
    "MAXVALUE 5\n",
    "CYCLE\n",
    "CACHE 3;\n",
    "\n",
    "CREATE TABLE AUTHOR (\n",
    "    AID INTEGER,\n",
    "    NAME VARCHAR2(20) NOT NULL,\n",
    "    PHONE_NUMBER VARCHAR2(20),\n",
    "    PRIMARY KEY (AID)\n",
    ");\n",
    "\n",
    "INSERT INTO AUTHOR VALUES(AUTHORSEQ.NEXTVAL, 'NAME1', 'PHONE_NUMBER1');\n",
    "INSERT INTO AUTHOR VALUES(AUTHORSEQ.NEXTVAL, 'NAME2', 'PHONE_NUMBER2');\n",
    "INSERT INTO AUTHOR VALUES(AUTHORSEQ.NEXTVAL, 'NAME3', 'PHONE_NUMBER3');\n",
    "INSERT INTO AUTHOR VALUES(AUTHORSEQ.NEXTVAL, 'NAME4', 'PHONE_NUMBER4');\n",
    "INSERT INTO AUTHOR VALUES(AUTHORSEQ.NEXTVAL, 'NAME5', 'PHONE_NUMBER5');\n",
    "\n",
    "SELECT AUTHORSEQ.NEXTVAL FROM DUAL;\n",
    "```"
   ]
  },
  {
   "cell_type": "code",
   "execution_count": 22,
   "metadata": {},
   "outputs": [],
   "source": [
    "conn.close()"
   ]
  }
 ],
 "metadata": {
  "kernelspec": {
   "display_name": "Python 3.10.4 ('dbms')",
   "language": "python",
   "name": "python3"
  },
  "language_info": {
   "codemirror_mode": {
    "name": "ipython",
    "version": 3
   },
   "file_extension": ".py",
   "mimetype": "text/x-python",
   "name": "python",
   "nbconvert_exporter": "python",
   "pygments_lexer": "ipython3",
   "version": "3.10.4"
  },
  "orig_nbformat": 4,
  "vscode": {
   "interpreter": {
    "hash": "fe6733b6ea1a1cc8c8a474c8e9b92e287be752e68a7b5e4a4ee39ee605865c6d"
   }
  }
 },
 "nbformat": 4,
 "nbformat_minor": 2
}
