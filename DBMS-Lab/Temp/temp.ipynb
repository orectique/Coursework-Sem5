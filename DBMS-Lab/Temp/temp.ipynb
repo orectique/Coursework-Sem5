{
 "cells": [
  {
   "cell_type": "code",
   "execution_count": 101,
   "metadata": {},
   "outputs": [],
   "source": [
    "import sqlite3"
   ]
  },
  {
   "cell_type": "code",
   "execution_count": 102,
   "metadata": {},
   "outputs": [],
   "source": [
    "conn = sqlite3.connect('./timetableNew.db')"
   ]
  },
  {
   "cell_type": "code",
   "execution_count": 103,
   "metadata": {},
   "outputs": [],
   "source": [
    "cur = conn.cursor()"
   ]
  },
  {
   "cell_type": "code",
   "execution_count": 104,
   "metadata": {},
   "outputs": [],
   "source": [
    "createTables = '''\n",
    "    CREATE TABLE IF NOT EXISTS SUBJECTS(\n",
    "        SUBCODE TEXT PRIMARY KEY,\n",
    "        SUBNAME TEXT,\n",
    "        SUBTYPE TEXT       \n",
    "        );\n",
    "\n",
    "    CREATE TABLE IF NOT EXISTS FACULTY(\n",
    "        FID TEXT PRIMARY KEY,\n",
    "        PASSW TEXT,\n",
    "        NAME TEXT,\n",
    "        INI TEXT,\n",
    "        EMAIL TEXT,\n",
    "        SUBCODE1 TEXT,\n",
    "        SUBCODE2 TEXT\n",
    "        );\n",
    "\n",
    "    CREATE TABLE IF NOT EXISTS STUDENT(\n",
    "        SID TEXT PRIMARY KEY,\n",
    "        PASSW TEXT,\n",
    "        NAME TEXT,\n",
    "        ROLL INT,\n",
    "        SECTION TEXT\n",
    "    );\n",
    "\n",
    "    CREATE TABLE IF NOT EXISTS SCHEDULE(\n",
    "        ID TEXT PRIMARY KEY,\n",
    "        DAYID INT,\n",
    "        PERIODID INT,\n",
    "        SUBCODE TEXT,\n",
    "        SECTION TEXT,\n",
    "        FINI TEXT\n",
    "    );   \n",
    "'''"
   ]
  },
  {
   "cell_type": "code",
   "execution_count": 105,
   "metadata": {},
   "outputs": [
    {
     "data": {
      "text/plain": [
       "<sqlite3.Cursor at 0x2a325dbf340>"
      ]
     },
     "execution_count": 105,
     "metadata": {},
     "output_type": "execute_result"
    }
   ],
   "source": [
    "cur.executescript(createTables)"
   ]
  },
  {
   "cell_type": "code",
   "execution_count": 106,
   "metadata": {},
   "outputs": [],
   "source": [
    "import random as rd"
   ]
  },
  {
   "cell_type": "code",
   "execution_count": 107,
   "metadata": {},
   "outputs": [],
   "source": [
    "dataSub = []\n",
    "\n",
    "subCorpus = '''18OEL390-professional elective-T,\n",
    "18CSC303-database design-T,\n",
    "18CSC302-number theory-T,\n",
    "18MAT322-random processes-T,\n",
    "18CSC301-operating system-T,\n",
    "18MAT332-transform techniques-T,\n",
    "18SSK301-soft skills-P,\n",
    "18CSC381-dbms lab-P'''\n",
    "\n",
    "subCorpus = subCorpus.replace('\\n', '')\n",
    "\n",
    "subCorpus = subCorpus.split(',')\n",
    "\n",
    "for i in subCorpus:\n",
    "    dataSub.append(tuple(i.split('-')))"
   ]
  },
  {
   "cell_type": "code",
   "execution_count": 108,
   "metadata": {},
   "outputs": [
    {
     "data": {
      "text/plain": [
       "[('18OEL390', 'professional elective', 'T'),\n",
       " ('18CSC303', 'database design', 'T'),\n",
       " ('18CSC302', 'number theory', 'T'),\n",
       " ('18MAT322', 'random processes', 'T'),\n",
       " ('18CSC301', 'operating system', 'T'),\n",
       " ('18MAT332', 'transform techniques', 'T'),\n",
       " ('18SSK301', 'soft skills', 'P'),\n",
       " ('18CSC381', 'dbms lab', 'P')]"
      ]
     },
     "execution_count": 108,
     "metadata": {},
     "output_type": "execute_result"
    }
   ],
   "source": [
    "dataSub"
   ]
  },
  {
   "cell_type": "code",
   "execution_count": 109,
   "metadata": {},
   "outputs": [
    {
     "data": {
      "text/plain": [
       "<sqlite3.Cursor at 0x2a325dbf340>"
      ]
     },
     "execution_count": 109,
     "metadata": {},
     "output_type": "execute_result"
    }
   ],
   "source": [
    "cur.executemany('INSERT INTO SUBJECTS VALUES(?,?,?)', dataSub)"
   ]
  },
  {
   "cell_type": "code",
   "execution_count": 110,
   "metadata": {},
   "outputs": [],
   "source": [
    "conn.commit()"
   ]
  },
  {
   "cell_type": "code",
   "execution_count": 111,
   "metadata": {},
   "outputs": [],
   "source": [
    "dataStu = []\n",
    "\n",
    "stuCorpus = '''\n",
    "a101- 1234-aakash-20039-a,\n",
    "a202-5678-amog-20004-a,\n",
    "b203-2012-abhishek-20101-b,\n",
    "b204-0012-hemanth-20012-b\n",
    "'''\n",
    "\n",
    "stuCorpus = stuCorpus.replace('\\n', '')\n",
    "\n",
    "stuCorpus = stuCorpus.split(',')\n",
    "\n",
    "for i in stuCorpus:\n",
    "    dataStu.append(tuple(i.split('-')))"
   ]
  },
  {
   "cell_type": "code",
   "execution_count": 112,
   "metadata": {},
   "outputs": [
    {
     "data": {
      "text/plain": [
       "<sqlite3.Cursor at 0x2a325dbf340>"
      ]
     },
     "execution_count": 112,
     "metadata": {},
     "output_type": "execute_result"
    }
   ],
   "source": [
    "cur.executemany('INSERT INTO STUDENT VALUES(?,?,?,?,?)', dataStu)"
   ]
  },
  {
   "cell_type": "code",
   "execution_count": 113,
   "metadata": {},
   "outputs": [],
   "source": [
    "conn.commit()"
   ]
  },
  {
   "cell_type": "code",
   "execution_count": 114,
   "metadata": {},
   "outputs": [],
   "source": [
    "dataFac = []\n",
    "\n",
    "facCorpus = '''\n",
    "TR139,Qwerty,Ram,RM,ram12@gmail.com,18MAT322,18MAT332;\n",
    "TR143,Asdf,Uma,UM,Uma23@gmail.com,18CSC303,18SSK301;\n",
    "TR182,Zxcv,Sagar,SG,Sagar34@gmail.com,18MAT322,18CSC381;\n",
    "TR141,Cvbnm,Mahalakshmi,MX,Mahalakshmi45@gmail.com,18CSC302,18CSC301;\n",
    "TR133,Mnbc,Likitha,LK,Likitha56gmail.com,18OEL390,18CSC303;\n",
    "TR121,Lkjh,Ranjan,RJ,Ranjan67@gmail.com,18CSC381,18CSC301;\n",
    "TR198,Poiu,Renuka,RK,Renuka78@gmail.com,18MAT332,18CSC381;\n",
    "TR155,mypassword,Lalit,LL,Lalit89@gmail.com,18SSK301,18MAT322\n",
    "'''\n",
    "\n",
    "facCorpus = facCorpus.replace('\\n', '')\n",
    "\n",
    "facCorpus = facCorpus.split(';')\n",
    "\n",
    "for i in facCorpus:\n",
    "    dataFac.append(tuple(i.split(',')))"
   ]
  },
  {
   "cell_type": "code",
   "execution_count": 115,
   "metadata": {},
   "outputs": [
    {
     "data": {
      "text/plain": [
       "<sqlite3.Cursor at 0x2a325dbf340>"
      ]
     },
     "execution_count": 115,
     "metadata": {},
     "output_type": "execute_result"
    }
   ],
   "source": [
    "cur.executemany('INSERT INTO FACULTY VALUES(?,?,?,?,?,?,?)', dataFac)"
   ]
  },
  {
   "cell_type": "markdown",
   "metadata": {},
   "source": [
    "    CREATE TABLE IF NOT EXISTS SCHEDULE(\n",
    "        ID TEXT PRIMARY KEY,\n",
    "        DAYID INT,\n",
    "        PERIODID INT,\n",
    "        SUBCODE TEXT,\n",
    "        SECTION TEXT,\n",
    "        FINI TEXT"
   ]
  },
  {
   "cell_type": "code",
   "execution_count": 116,
   "metadata": {},
   "outputs": [],
   "source": [
    "dataSchedule = []\n",
    "\n",
    "for section in ['a', 'b']:\n",
    "    for day in range(5):\n",
    "        for period in range(1, 6):\n",
    "            subcode = rd.choice(dataSub)[0]\n",
    "            fini = rd.choice(dataFac)[0]\n",
    "            dataSchedule.append((str(day)+str(period)+section, day, period, subcode, section, fini))"
   ]
  },
  {
   "cell_type": "code",
   "execution_count": 117,
   "metadata": {},
   "outputs": [
    {
     "data": {
      "text/plain": [
       "[('01a', 0, 1, '18OEL390', 'a', 'TR139'),\n",
       " ('02a', 0, 2, '18SSK301', 'a', 'TR143'),\n",
       " ('03a', 0, 3, '18OEL390', 'a', 'TR139'),\n",
       " ('04a', 0, 4, '18CSC381', 'a', 'TR133'),\n",
       " ('05a', 0, 5, '18CSC301', 'a', 'TR121'),\n",
       " ('11a', 1, 1, '18CSC381', 'a', 'TR139'),\n",
       " ('12a', 1, 2, '18SSK301', 'a', 'TR133'),\n",
       " ('13a', 1, 3, '18MAT332', 'a', 'TR198'),\n",
       " ('14a', 1, 4, '18SSK301', 'a', 'TR155'),\n",
       " ('15a', 1, 5, '18MAT322', 'a', 'TR198'),\n",
       " ('21a', 2, 1, '18CSC303', 'a', 'TR121'),\n",
       " ('22a', 2, 2, '18SSK301', 'a', 'TR139'),\n",
       " ('23a', 2, 3, '18MAT322', 'a', 'TR139'),\n",
       " ('24a', 2, 4, '18OEL390', 'a', 'TR141'),\n",
       " ('25a', 2, 5, '18SSK301', 'a', 'TR139'),\n",
       " ('31a', 3, 1, '18MAT322', 'a', 'TR155'),\n",
       " ('32a', 3, 2, '18OEL390', 'a', 'TR133'),\n",
       " ('33a', 3, 3, '18CSC301', 'a', 'TR141'),\n",
       " ('34a', 3, 4, '18CSC301', 'a', 'TR155'),\n",
       " ('35a', 3, 5, '18MAT332', 'a', 'TR121'),\n",
       " ('41a', 4, 1, '18OEL390', 'a', 'TR133'),\n",
       " ('42a', 4, 2, '18CSC381', 'a', 'TR182'),\n",
       " ('43a', 4, 3, '18MAT332', 'a', 'TR155'),\n",
       " ('44a', 4, 4, '18SSK301', 'a', 'TR133'),\n",
       " ('45a', 4, 5, '18CSC302', 'a', 'TR141'),\n",
       " ('01b', 0, 1, '18SSK301', 'b', 'TR139'),\n",
       " ('02b', 0, 2, '18OEL390', 'b', 'TR182'),\n",
       " ('03b', 0, 3, '18CSC381', 'b', 'TR155'),\n",
       " ('04b', 0, 4, '18MAT332', 'b', 'TR121'),\n",
       " ('05b', 0, 5, '18CSC301', 'b', 'TR141'),\n",
       " ('11b', 1, 1, '18MAT332', 'b', 'TR198'),\n",
       " ('12b', 1, 2, '18CSC302', 'b', 'TR143'),\n",
       " ('13b', 1, 3, '18OEL390', 'b', 'TR198'),\n",
       " ('14b', 1, 4, '18CSC381', 'b', 'TR198'),\n",
       " ('15b', 1, 5, '18CSC301', 'b', 'TR143'),\n",
       " ('21b', 2, 1, '18CSC381', 'b', 'TR139'),\n",
       " ('22b', 2, 2, '18CSC303', 'b', 'TR198'),\n",
       " ('23b', 2, 3, '18CSC381', 'b', 'TR155'),\n",
       " ('24b', 2, 4, '18SSK301', 'b', 'TR143'),\n",
       " ('25b', 2, 5, '18MAT332', 'b', 'TR182'),\n",
       " ('31b', 3, 1, '18SSK301', 'b', 'TR133'),\n",
       " ('32b', 3, 2, '18MAT332', 'b', 'TR155'),\n",
       " ('33b', 3, 3, '18MAT322', 'b', 'TR198'),\n",
       " ('34b', 3, 4, '18MAT332', 'b', 'TR139'),\n",
       " ('35b', 3, 5, '18CSC303', 'b', 'TR121'),\n",
       " ('41b', 4, 1, '18CSC302', 'b', 'TR198'),\n",
       " ('42b', 4, 2, '18CSC303', 'b', 'TR141'),\n",
       " ('43b', 4, 3, '18CSC303', 'b', 'TR182'),\n",
       " ('44b', 4, 4, '18SSK301', 'b', 'TR143'),\n",
       " ('45b', 4, 5, '18MAT322', 'b', 'TR143')]"
      ]
     },
     "execution_count": 117,
     "metadata": {},
     "output_type": "execute_result"
    }
   ],
   "source": [
    "dataSchedule"
   ]
  },
  {
   "cell_type": "code",
   "execution_count": 118,
   "metadata": {},
   "outputs": [
    {
     "data": {
      "text/plain": [
       "<sqlite3.Cursor at 0x2a325dbf340>"
      ]
     },
     "execution_count": 118,
     "metadata": {},
     "output_type": "execute_result"
    }
   ],
   "source": [
    "cur.executemany('INSERT INTO SCHEDULE VALUES(?,?,?,?,?,?)', dataSchedule)"
   ]
  },
  {
   "cell_type": "code",
   "execution_count": 119,
   "metadata": {},
   "outputs": [],
   "source": [
    "conn.commit()"
   ]
  },
  {
   "cell_type": "code",
   "execution_count": 120,
   "metadata": {},
   "outputs": [],
   "source": [
    "conn.close()"
   ]
  },
  {
   "cell_type": "code",
   "execution_count": null,
   "metadata": {},
   "outputs": [],
   "source": []
  }
 ],
 "metadata": {
  "kernelspec": {
   "display_name": "Python 3.10.4 ('env')",
   "language": "python",
   "name": "python3"
  },
  "language_info": {
   "codemirror_mode": {
    "name": "ipython",
    "version": 3
   },
   "file_extension": ".py",
   "mimetype": "text/x-python",
   "name": "python",
   "nbconvert_exporter": "python",
   "pygments_lexer": "ipython3",
   "version": "3.10.4"
  },
  "orig_nbformat": 4,
  "vscode": {
   "interpreter": {
    "hash": "7aa7eecd0f849ab40efe6ac0a8ce5383eaa0569ecfba7009708b3eaae53995d1"
   }
  }
 },
 "nbformat": 4,
 "nbformat_minor": 2
}
