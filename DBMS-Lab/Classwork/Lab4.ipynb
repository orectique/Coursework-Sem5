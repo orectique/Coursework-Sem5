{
 "cells": [
  {
   "cell_type": "markdown",
   "metadata": {},
   "source": [
    "# Database Management Systems - Lab 3\n",
    "## Sreehari P Sreedhar\n",
    "CB.SC.I5DAS20032"
   ]
  },
  {
   "cell_type": "code",
   "execution_count": 16,
   "metadata": {},
   "outputs": [],
   "source": [
    "import os\n",
    "\n",
    "try:\n",
    "    os.remove('./Dumps/lab4.db')\n",
    "except FileNotFoundError:\n",
    "    pass"
   ]
  },
  {
   "cell_type": "code",
   "execution_count": 17,
   "metadata": {},
   "outputs": [],
   "source": [
    "import sqlite3"
   ]
  },
  {
   "cell_type": "code",
   "execution_count": 18,
   "metadata": {},
   "outputs": [],
   "source": [
    "conn = sqlite3.connect('./Dumps/lab4.db')\n",
    "\n",
    "cur = conn.cursor()"
   ]
  },
  {
   "cell_type": "code",
   "execution_count": 19,
   "metadata": {},
   "outputs": [
    {
     "data": {
      "text/plain": [
       "<sqlite3.Cursor at 0x1a5ed08bec0>"
      ]
     },
     "execution_count": 19,
     "metadata": {},
     "output_type": "execute_result"
    }
   ],
   "source": [
    "createTable = '''\n",
    "    BEGIN;\n",
    "\n",
    "    CREATE TABLE EMP(\n",
    "        EMPNO INT PRIMARY KEY,\n",
    "        ENAME VARCHAR(25),\n",
    "        JOB VARCHAR(20),\n",
    "        MGR INT,\n",
    "        SAL NUMBER(6,2),\n",
    "        DEPTNO INT\n",
    "        );\n",
    "\n",
    "    INSERT INTO EMP(EMPNO,ENAME,JOB,MGR,SAL,DEPTNO) VALUES(7369,'SMITH','CLERK',7902,800.00,20);\n",
    "    INSERT INTO EMP VALUES(7499,'ALLEN','SALESMAN',7698,1600.00,30);\n",
    "    INSERT INTO EMP VALUES(7521,'WARD','SALESMAN',7698,1250.00,30);\n",
    "    INSERT INTO EMP VALUES(7566,'JONES','MANAGER',7839,2975.00,20);\n",
    "    INSERT INTO EMP VALUES(7654,'MARTIN','SALESMAN',7689,1250.00,30);\n",
    "    INSERT INTO EMP VALUES(7698,'BLAKE','MANAGER',7839,2850.00,30);\n",
    "    INSERT INTO EMP VALUES(7782,'CLARK','MANAGER',7839,2450.00,10);\n",
    "    INSERT INTO EMP VALUES(7788,'SCOTT','ANALYST',7566,3000.00,20);\n",
    "    INSERT INTO EMP VALUES(7839,'KING','PRESIDENT',NULL,5000.00,10);\n",
    "    INSERT INTO EMP VALUES(7844,'TURNER','SALESMAN',7698,1500.00,30);\n",
    "    INSERT INTO EMP VALUES(7876,'ADAMS','CLERK',7788,1100.00,20);\n",
    "    INSERT INTO EMP VALUES(7900,'JAMES','CLERK',7698,950.00,30);\n",
    "    INSERT INTO EMP VALUES(7902,'FORD','ANALYST',7566,3000.00,20);\n",
    "    INSERT INTO EMP VALUES(7934,'MILLER','CLERK',7782,1300.00,10);\n",
    "\n",
    "    COMMIT;\n",
    "'''\n",
    "\n",
    "cur.executescript(createTable)"
   ]
  },
  {
   "cell_type": "markdown",
   "metadata": {},
   "source": [
    "1.\tFind the info of employee getting salary greater than empid: 7566."
   ]
  },
  {
   "cell_type": "code",
   "execution_count": 20,
   "metadata": {},
   "outputs": [
    {
     "data": {
      "text/plain": [
       "[(7788, 'SCOTT', 'ANALYST', 7566, 3000, 20),\n",
       " (7839, 'KING', 'PRESIDENT', None, 5000, 10),\n",
       " (7902, 'FORD', 'ANALYST', 7566, 3000, 20)]"
      ]
     },
     "execution_count": 20,
     "metadata": {},
     "output_type": "execute_result"
    }
   ],
   "source": [
    "cur.execute('SELECT * FROM EMP WHERE SAL > (SELECT SAL FROM EMP WHERE EMPNO = 7566)').fetchall()"
   ]
  },
  {
   "cell_type": "markdown",
   "metadata": {},
   "source": [
    "2.  Display the employees whose job title is the same as that of employee 7369."
   ]
  },
  {
   "cell_type": "code",
   "execution_count": 21,
   "metadata": {},
   "outputs": [
    {
     "data": {
      "text/plain": [
       "[(7369, 'SMITH', 'CLERK', 7902, 800, 20),\n",
       " (7876, 'ADAMS', 'CLERK', 7788, 1100, 20),\n",
       " (7900, 'JAMES', 'CLERK', 7698, 950, 30),\n",
       " (7934, 'MILLER', 'CLERK', 7782, 1300, 10)]"
      ]
     },
     "execution_count": 21,
     "metadata": {},
     "output_type": "execute_result"
    }
   ],
   "source": [
    "cur.execute('SELECT * FROM EMP WHERE JOB = (SELECT JOB FROM EMP WHERE EMPNO = 7369)').fetchall()"
   ]
  },
  {
   "cell_type": "markdown",
   "metadata": {},
   "source": [
    "3.  Display employees whose job title is the same as that of employee 7369 and whose salary is greater than that of employee 7876."
   ]
  },
  {
   "cell_type": "code",
   "execution_count": 22,
   "metadata": {},
   "outputs": [
    {
     "data": {
      "text/plain": [
       "[(7934, 'MILLER', 'CLERK', 7782, 1300, 10)]"
      ]
     },
     "execution_count": 22,
     "metadata": {},
     "output_type": "execute_result"
    }
   ],
   "source": [
    "cur.execute('SELECT * FROM EMP WHERE (JOB = (SELECT JOB FROM EMP WHERE EMPNO = 7369) AND SAL > (SELECT SAL FROM EMP WHERE EMPNO = 7876))').fetchall()"
   ]
  },
  {
   "cell_type": "markdown",
   "metadata": {},
   "source": [
    "4.  Display the employee name, job title, deptno and salary of all employees whose works in the same dept as PRESIDENT."
   ]
  },
  {
   "cell_type": "code",
   "execution_count": 23,
   "metadata": {},
   "outputs": [
    {
     "data": {
      "text/plain": [
       "[('CLARK', 'MANAGER', 10, 2450),\n",
       " ('KING', 'PRESIDENT', 10, 5000),\n",
       " ('MILLER', 'CLERK', 10, 1300)]"
      ]
     },
     "execution_count": 23,
     "metadata": {},
     "output_type": "execute_result"
    }
   ],
   "source": [
    "cur.execute(\"SELECT ENAME, JOB, DEPTNO, SAL FROM EMP WHERE DEPTNO = (SELECT DEPTNO FROM EMP WHERE JOB = 'PRESIDENT')\").fetchall()"
   ]
  },
  {
   "cell_type": "markdown",
   "metadata": {},
   "source": [
    "5.  Display all the departments(deptno) that having a minimum salary greater than that of department 20."
   ]
  },
  {
   "cell_type": "code",
   "execution_count": 24,
   "metadata": {},
   "outputs": [
    {
     "data": {
      "text/plain": [
       "[(10,), (30,)]"
      ]
     },
     "execution_count": 24,
     "metadata": {},
     "output_type": "execute_result"
    }
   ],
   "source": [
    "cur.execute(\"SELECT DEPTNO FROM EMP GROUP BY DEPTNO HAVING MIN(SAL) > (SELECT MIN(SAL) FROM EMP WHERE DEPTNO = 20)\").fetchall()"
   ]
  },
  {
   "cell_type": "markdown",
   "metadata": {},
   "source": [
    "6.  Display the employees whose salary is less than any clerk and who are not clerks."
   ]
  },
  {
   "cell_type": "code",
   "execution_count": 28,
   "metadata": {},
   "outputs": [
    {
     "data": {
      "text/plain": [
       "[(7521, 'WARD', 'SALESMAN', 7698, 1250, 30),\n",
       " (7654, 'MARTIN', 'SALESMAN', 7689, 1250, 30)]"
      ]
     },
     "execution_count": 28,
     "metadata": {},
     "output_type": "execute_result"
    }
   ],
   "source": [
    "cur.execute(\"SELECT * FROM EMP WHERE (SAL < (SELECT MAX(SAL) FROM EMP WHERE JOB = 'CLERK') AND JOB != 'CLERK')\").fetchall()"
   ]
  },
  {
   "cell_type": "markdown",
   "metadata": {},
   "source": [
    "7.  Display the employees whose salary is greater than the average salaries of all the departments."
   ]
  },
  {
   "cell_type": "code",
   "execution_count": 29,
   "metadata": {},
   "outputs": [
    {
     "data": {
      "text/plain": [
       "[(7566, 'JONES', 'MANAGER', 7839, 2975, 20),\n",
       " (7788, 'SCOTT', 'ANALYST', 7566, 3000, 20),\n",
       " (7839, 'KING', 'PRESIDENT', None, 5000, 10),\n",
       " (7902, 'FORD', 'ANALYST', 7566, 3000, 20)]"
      ]
     },
     "execution_count": 29,
     "metadata": {},
     "output_type": "execute_result"
    }
   ],
   "source": [
    "cur.execute(\"SELECT * FROM EMP WHERE SAL > (SELECT AVG(SAL) FROM EMP GROUP BY DEPTNO)\").fetchall()"
   ]
  },
  {
   "cell_type": "markdown",
   "metadata": {},
   "source": [
    "8.  Display the emp info for the job sectors clerk and saleman: use operator 'in'."
   ]
  },
  {
   "cell_type": "code",
   "execution_count": 30,
   "metadata": {},
   "outputs": [
    {
     "data": {
      "text/plain": [
       "[(7369, 'SMITH', 'CLERK', 7902, 800, 20),\n",
       " (7499, 'ALLEN', 'SALESMAN', 7698, 1600, 30),\n",
       " (7521, 'WARD', 'SALESMAN', 7698, 1250, 30),\n",
       " (7654, 'MARTIN', 'SALESMAN', 7689, 1250, 30),\n",
       " (7844, 'TURNER', 'SALESMAN', 7698, 1500, 30),\n",
       " (7876, 'ADAMS', 'CLERK', 7788, 1100, 20),\n",
       " (7900, 'JAMES', 'CLERK', 7698, 950, 30),\n",
       " (7934, 'MILLER', 'CLERK', 7782, 1300, 10)]"
      ]
     },
     "execution_count": 30,
     "metadata": {},
     "output_type": "execute_result"
    }
   ],
   "source": [
    "cur.execute(\"SELECT * FROM EMP WHERE EMPNO IN (SELECT EMPNO FROM EMP WHERE (JOB = 'CLERK' OR JOB = 'SALESMAN'))\").fetchall()"
   ]
  },
  {
   "cell_type": "markdown",
   "metadata": {},
   "source": [
    "9.  Display the emp info for the job sectors not as analyst, manager: use operator 'not in'."
   ]
  },
  {
   "cell_type": "code",
   "execution_count": 31,
   "metadata": {},
   "outputs": [
    {
     "data": {
      "text/plain": [
       "[(7369, 'SMITH', 'CLERK', 7902, 800, 20),\n",
       " (7499, 'ALLEN', 'SALESMAN', 7698, 1600, 30),\n",
       " (7521, 'WARD', 'SALESMAN', 7698, 1250, 30),\n",
       " (7654, 'MARTIN', 'SALESMAN', 7689, 1250, 30),\n",
       " (7839, 'KING', 'PRESIDENT', None, 5000, 10),\n",
       " (7844, 'TURNER', 'SALESMAN', 7698, 1500, 30),\n",
       " (7876, 'ADAMS', 'CLERK', 7788, 1100, 20),\n",
       " (7900, 'JAMES', 'CLERK', 7698, 950, 30),\n",
       " (7934, 'MILLER', 'CLERK', 7782, 1300, 10)]"
      ]
     },
     "execution_count": 31,
     "metadata": {},
     "output_type": "execute_result"
    }
   ],
   "source": [
    "cur.execute(\"SELECT * FROM EMP WHERE EMPNO NOT IN (SELECT EMPNO FROM EMP WHERE (JOB = 'ANALYST' OR JOB = 'MANAGER'))\").fetchall()"
   ]
  },
  {
   "cell_type": "markdown",
   "metadata": {},
   "source": [
    "10.  Write a query to display employee's name and department number of all employees in department 10 and 30 in alphabetical order by name.\n"
   ]
  },
  {
   "cell_type": "code",
   "execution_count": 33,
   "metadata": {},
   "outputs": [
    {
     "data": {
      "text/plain": [
       "[('ALLEN', 30),\n",
       " ('BLAKE', 30),\n",
       " ('CLARK', 10),\n",
       " ('JAMES', 30),\n",
       " ('KING', 10),\n",
       " ('MARTIN', 30),\n",
       " ('MILLER', 10),\n",
       " ('TURNER', 30),\n",
       " ('WARD', 30)]"
      ]
     },
     "execution_count": 33,
     "metadata": {},
     "output_type": "execute_result"
    }
   ],
   "source": [
    "cur.execute(\"SELECT ENAME, DEPTNO FROM EMP WHERE DEPTNO IN (10, 30) ORDER BY ENAME\").fetchall()"
   ]
  },
  {
   "cell_type": "code",
   "execution_count": 34,
   "metadata": {},
   "outputs": [],
   "source": [
    "conn.commit()\n",
    "conn.close()"
   ]
  },
  {
   "cell_type": "code",
   "execution_count": null,
   "metadata": {},
   "outputs": [],
   "source": []
  }
 ],
 "metadata": {
  "kernelspec": {
   "display_name": "Python 3.10.4 ('dbms')",
   "language": "python",
   "name": "python3"
  },
  "language_info": {
   "codemirror_mode": {
    "name": "ipython",
    "version": 3
   },
   "file_extension": ".py",
   "mimetype": "text/x-python",
   "name": "python",
   "nbconvert_exporter": "python",
   "pygments_lexer": "ipython3",
   "version": "3.10.4"
  },
  "orig_nbformat": 4,
  "vscode": {
   "interpreter": {
    "hash": "fe6733b6ea1a1cc8c8a474c8e9b92e287be752e68a7b5e4a4ee39ee605865c6d"
   }
  }
 },
 "nbformat": 4,
 "nbformat_minor": 2
}
