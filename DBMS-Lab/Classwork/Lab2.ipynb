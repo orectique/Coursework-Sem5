{
 "cells": [
  {
   "cell_type": "code",
   "execution_count": 67,
   "metadata": {},
   "outputs": [],
   "source": [
    "import sqlite3"
   ]
  },
  {
   "cell_type": "code",
   "execution_count": 68,
   "metadata": {},
   "outputs": [],
   "source": [
    "conn = sqlite3.connect('./Dumps/lab2.db')\n",
    "\n",
    "cur = conn.cursor()"
   ]
  },
  {
   "cell_type": "markdown",
   "metadata": {},
   "source": [
    "PRESS (NAME, ADDR, PHNO) \n",
    "\n",
    "BOOK_INFO (B_ID, TITLE, PRESS_NAME, YEAR_OF_PUBLICATION) \n",
    "\n",
    "AUTHOR_INFO (B_ID, TITLE,AUTHOR_NAME) \n",
    "\n",
    "DEPT_LIB(DEPT_NO, DEPT_NAME,DEPT_BLOCK) \n",
    "\n",
    "NO_OF_COPIES(B_ID, DEPT_NAME,TOTAL_COPIES) \n",
    "\n",
    "WITHDRAW_BOOK(B_ID,DEPT_NAME,LIB_ID,WITHDRAW_DATE,RETURN _DATE) \n",
    "\n",
    "LIBRARYID(LIB_ID) "
   ]
  },
  {
   "cell_type": "code",
   "execution_count": 69,
   "metadata": {},
   "outputs": [],
   "source": [
    "createTables = '''\n",
    "BEGIN;\n",
    "\n",
    "CREATE TABLE PRESS (\n",
    "    NAME TEXT PRIMARY KEY,\n",
    "    ADDR TEXT,\n",
    "    PHNO TEXT\n",
    ");\n",
    "\n",
    "\n",
    "CREATE TABLE BOOK_INFO (\n",
    "    B_ID TEXT PRIMARY KEY,\n",
    "    TITLE TEXT PRIMAY KEY,\n",
    "    PRESS_NAME TEXT REFERENCES PRESS(NAME) ON UPDATE CASCADE,\n",
    "    YEAR_OF_PUBLICATION INT\n",
    ");\n",
    "\n",
    "CREATE TABLE AUTHOR_INFO (\n",
    "    B_ID TEXT PRIMARY KEY,\n",
    "    TITLE TEXT REFERENCES BOOK_INFO(TITLE) ON UPDATE CASCADE,\n",
    "    AUTHOR_NAME TEXT\n",
    ");\n",
    "\n",
    "CREATE TABLE DEPT_LIB (\n",
    "    DEPT_NO INT PRIMARY KEY,\n",
    "    DEPT_NAME TEXT,\n",
    "    DEPT_BLOCK TEXT\n",
    ");\n",
    "\n",
    "CREATE TABLE NO_OF_COPIES (\n",
    "    B_ID TEXT PRIMARY KEY,\n",
    "    DEPT_NO INT REFERENCES DEPT_LIB(DEPT_NO) ON UPDATE CASCADE,\n",
    "    TOTAL_COPIES INT\n",
    ");\n",
    "\n",
    "CREATE TABLE LIBRARYID (\n",
    "    LIB_ID INT PRIMARY KEY\n",
    ");\n",
    "\n",
    "CREATE TABLE WITHDRAW_BOOK (\n",
    "    B_ID TEXT PRIMARY KEY,\n",
    "    DEPT_NO TEXT REFERENCES DEPT_LIB(DEPT_NO) ON UPDATE CASCADE,\n",
    "    LIB_ID INT REFERENCES LIBRARYID(LIB_ID) ON UPDATE CASCADE,\n",
    "    WITHDRAW_DATE DATE,\n",
    "    RETURN_DATE DATE \n",
    ");\n",
    "\n",
    "COMMIT;\n",
    "'''"
   ]
  },
  {
   "cell_type": "code",
   "execution_count": 70,
   "metadata": {},
   "outputs": [
    {
     "data": {
      "text/plain": [
       "<sqlite3.Cursor at 0x28cc3eeab40>"
      ]
     },
     "execution_count": 70,
     "metadata": {},
     "output_type": "execute_result"
    }
   ],
   "source": [
    "cur.executescript(createTables)"
   ]
  },
  {
   "cell_type": "code",
   "execution_count": 71,
   "metadata": {},
   "outputs": [
    {
     "data": {
      "text/plain": [
       "<sqlite3.Cursor at 0x28cc3eeab40>"
      ]
     },
     "execution_count": 71,
     "metadata": {},
     "output_type": "execute_result"
    }
   ],
   "source": [
    "press = [\n",
    "    ('holmes', '221B', '132324'),\n",
    "    ('holmes Jr.', 'Pall Mall', '156324')\n",
    "]\n",
    "\n",
    "cur.executemany('INSERT INTO PRESS VALUES (?, ?, ?)', press)"
   ]
  },
  {
   "cell_type": "code",
   "execution_count": 72,
   "metadata": {},
   "outputs": [
    {
     "data": {
      "text/plain": [
       "<sqlite3.Cursor at 0x28cc3eeab40>"
      ]
     },
     "execution_count": 72,
     "metadata": {},
     "output_type": "execute_result"
    }
   ],
   "source": [
    "book_info = [\n",
    "    ('b1', 'On the Origins of Tree Worship', 'holmes', '1896'),\n",
    "    ('b2', 'Bee Culture', 'holmes Jr.', '1890')\n",
    "]\n",
    "\n",
    "cur.executemany('INSERT INTO BOOK_INFO VALUES (?, ?, ?, ?)', book_info)"
   ]
  },
  {
   "cell_type": "code",
   "execution_count": 73,
   "metadata": {},
   "outputs": [
    {
     "data": {
      "text/plain": [
       "<sqlite3.Cursor at 0x28cc3eeab40>"
      ]
     },
     "execution_count": 73,
     "metadata": {},
     "output_type": "execute_result"
    }
   ],
   "source": [
    "author_info = [\n",
    "    ('b1', 'On the Origins of Tree Worship', 'Sigerson'),\n",
    "    ('b2', 'Bee Culture', 'Sherlock')\n",
    "]\n",
    "\n",
    "cur.executemany('INSERT INTO AUTHOR_INFO VALUES (?, ?, ?)', author_info)"
   ]
  },
  {
   "cell_type": "code",
   "execution_count": 74,
   "metadata": {},
   "outputs": [
    {
     "data": {
      "text/plain": [
       "<sqlite3.Cursor at 0x28cc3eeab40>"
      ]
     },
     "execution_count": 74,
     "metadata": {},
     "output_type": "execute_result"
    }
   ],
   "source": [
    "dept_lib = [\n",
    "    (1, 'D1', 'Block 1'),\n",
    "    (2, 'D2', 'Block 2')\n",
    "]\n",
    "\n",
    "cur.executemany('INSERT INTO DEPT_LIB VALUES (?, ?, ?)', dept_lib)"
   ]
  },
  {
   "cell_type": "code",
   "execution_count": 75,
   "metadata": {},
   "outputs": [
    {
     "data": {
      "text/plain": [
       "<sqlite3.Cursor at 0x28cc3eeab40>"
      ]
     },
     "execution_count": 75,
     "metadata": {},
     "output_type": "execute_result"
    }
   ],
   "source": [
    "no_of_copies = [\n",
    "    ('b1', 1, 69),\n",
    "    ('b2', 2, 420)\n",
    "]\n",
    "\n",
    "cur.executemany('INSERT INTO NO_OF_COPIES VALUES (?, ?, ?)', no_of_copies)"
   ]
  },
  {
   "cell_type": "code",
   "execution_count": 79,
   "metadata": {},
   "outputs": [
    {
     "data": {
      "text/plain": [
       "<sqlite3.Cursor at 0x28cc3eeab40>"
      ]
     },
     "execution_count": 79,
     "metadata": {},
     "output_type": "execute_result"
    }
   ],
   "source": [
    "libraryid = [\n",
    "    (1, ),\n",
    "    (2, )\n",
    "]\n",
    "\n",
    "cur.executemany('INSERT INTO LIBRARYID VALUES (?)', libraryid)"
   ]
  },
  {
   "cell_type": "code",
   "execution_count": 81,
   "metadata": {},
   "outputs": [
    {
     "data": {
      "text/plain": [
       "<sqlite3.Cursor at 0x28cc3eeab40>"
      ]
     },
     "execution_count": 81,
     "metadata": {},
     "output_type": "execute_result"
    }
   ],
   "source": [
    "withdraw_book = [\n",
    "    ('b1', 1, 1, '2022-08-05', '2022-08-09'),\n",
    "    ('b2', 2, 2, '2022-07-09', '2022-08-11')\n",
    "]\n",
    "\n",
    "cur.executemany('INSERT INTO WITHDRAW_BOOK VALUES (?, ?, ?, ?, ?)', withdraw_book)"
   ]
  },
  {
   "cell_type": "code",
   "execution_count": 82,
   "metadata": {},
   "outputs": [],
   "source": [
    "conn.commit()"
   ]
  },
  {
   "cell_type": "markdown",
   "metadata": {},
   "source": [
    "DISPLAY THE FOLLOWING DETAILS OF BOOKS FROM THE LIBRARY USING A SINGLE QUERY [B_ID, TITLE, PRESS_NAME, AUTHOR_NAME, TOTAL_COPIES]"
   ]
  },
  {
   "cell_type": "code",
   "execution_count": 86,
   "metadata": {},
   "outputs": [
    {
     "data": {
      "text/plain": [
       "[('b1', 'On the Origins of Tree Worship', 'holmes', 'Sigerson', 69),\n",
       " ('b2', 'Bee Culture', 'holmes Jr.', 'Sherlock', 420)]"
      ]
     },
     "execution_count": 86,
     "metadata": {},
     "output_type": "execute_result"
    }
   ],
   "source": [
    "res1 = cur.execute('''\n",
    "    SELECT B.B_ID, B.TITLE, B.PRESS_NAME, A.AUTHOR_NAME, N.TOTAL_COPIES\n",
    "    FROM BOOK_INFO B \n",
    "    INNER JOIN AUTHOR_INFO A ON A.B_ID = B.B_ID\n",
    "    INNER JOIN NO_OF_COPIES N ON B.B_ID = N.B_ID\n",
    "''')\n",
    "\n",
    "res1.fetchall()"
   ]
  },
  {
   "cell_type": "markdown",
   "metadata": {},
   "source": [
    "Display the details of the students withdrawn the books between 16.05.2022 and 16.08.2022 "
   ]
  },
  {
   "cell_type": "code",
   "execution_count": null,
   "metadata": {},
   "outputs": [],
   "source": []
  },
  {
   "cell_type": "code",
   "execution_count": null,
   "metadata": {},
   "outputs": [],
   "source": []
  },
  {
   "cell_type": "code",
   "execution_count": null,
   "metadata": {},
   "outputs": [],
   "source": []
  },
  {
   "cell_type": "code",
   "execution_count": null,
   "metadata": {},
   "outputs": [],
   "source": []
  },
  {
   "cell_type": "markdown",
   "metadata": {},
   "source": [
    "\n",
    "\n",
    "\n",
    "Drop a book in BOOK_INFO table. Proof that the deletion is updated in other relevant tables. \n",
    "\n",
    "Partition the BOOK_INFO table based on the NO_OF_COPIES. Illustrate this with a simple query in Data Manipulation. "
   ]
  },
  {
   "cell_type": "code",
   "execution_count": 65,
   "metadata": {},
   "outputs": [],
   "source": [
    "conn.close()"
   ]
  },
  {
   "cell_type": "code",
   "execution_count": 85,
   "metadata": {},
   "outputs": [
    {
     "ename": "FileNotFoundError",
     "evalue": "[WinError 2] The system cannot find the file specified: './Dumps/lab3.db'",
     "output_type": "error",
     "traceback": [
      "\u001b[1;31m---------------------------------------------------------------------------\u001b[0m",
      "\u001b[1;31mFileNotFoundError\u001b[0m                         Traceback (most recent call last)",
      "\u001b[1;32md:\\GitHub\\Coursework-Sem5\\DBMS-Lab\\Classwork\\Lab2.ipynb Cell 22\u001b[0m in \u001b[0;36m<cell line: 3>\u001b[1;34m()\u001b[0m\n\u001b[0;32m      <a href='vscode-notebook-cell:/d%3A/GitHub/Coursework-Sem5/DBMS-Lab/Classwork/Lab2.ipynb#W6sZmlsZQ%3D%3D?line=0'>1</a>\u001b[0m \u001b[39mimport\u001b[39;00m \u001b[39mos\u001b[39;00m\n\u001b[1;32m----> <a href='vscode-notebook-cell:/d%3A/GitHub/Coursework-Sem5/DBMS-Lab/Classwork/Lab2.ipynb#W6sZmlsZQ%3D%3D?line=2'>3</a>\u001b[0m os\u001b[39m.\u001b[39;49mremove(\u001b[39m'\u001b[39;49m\u001b[39m./Dumps/lab3.db\u001b[39;49m\u001b[39m'\u001b[39;49m)\n",
      "\u001b[1;31mFileNotFoundError\u001b[0m: [WinError 2] The system cannot find the file specified: './Dumps/lab3.db'"
     ]
    }
   ],
   "source": [
    "import os\n",
    "\n",
    "os.remove('./Dumps/lab2.db')"
   ]
  },
  {
   "cell_type": "code",
   "execution_count": null,
   "metadata": {},
   "outputs": [],
   "source": []
  }
 ],
 "metadata": {
  "kernelspec": {
   "display_name": "Python 3.10.4 ('dbms')",
   "language": "python",
   "name": "python3"
  },
  "language_info": {
   "codemirror_mode": {
    "name": "ipython",
    "version": 3
   },
   "file_extension": ".py",
   "mimetype": "text/x-python",
   "name": "python",
   "nbconvert_exporter": "python",
   "pygments_lexer": "ipython3",
   "version": "3.10.4"
  },
  "orig_nbformat": 4,
  "vscode": {
   "interpreter": {
    "hash": "fe6733b6ea1a1cc8c8a474c8e9b92e287be752e68a7b5e4a4ee39ee605865c6d"
   }
  }
 },
 "nbformat": 4,
 "nbformat_minor": 2
}
