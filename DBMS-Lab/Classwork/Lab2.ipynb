{
 "cells": [
  {
   "cell_type": "code",
   "execution_count": 2,
   "metadata": {},
   "outputs": [],
   "source": [
    "import sqlite3"
   ]
  },
  {
   "cell_type": "code",
   "execution_count": 3,
   "metadata": {},
   "outputs": [],
   "source": [
    "conn = sqlite3.connect('./Dumps/lab2.db')\n",
    "\n",
    "cur = conn.cursor()"
   ]
  },
  {
   "cell_type": "markdown",
   "metadata": {},
   "source": [
    "PRESS (NAME, ADDR, PHNO) \n",
    "\n",
    "BOOK_INFO (B_ID, TITLE, PRESS_NAME, YEAR_OF_PUBLICATION) \n",
    "\n",
    "AUTHOR_INFO (B_ID, TITLE,AUTHOR_NAME) \n",
    "\n",
    "DEPT_LIB(DEPT_NO, DEPT_NAME,DEPT_BLOCK) \n",
    "\n",
    "NO_OF_COPIES(B_ID, DEPT_NAME,TOTAL_COPIES) \n",
    "\n",
    "WITHDRAW_BOOK(B_ID,DEPT_NAME,LIB_ID,WITHDRAW_DATE,RETURN _DATE) \n",
    "\n",
    "LIBRARYID(LIB_ID) "
   ]
  },
  {
   "cell_type": "code",
   "execution_count": 4,
   "metadata": {},
   "outputs": [],
   "source": [
    "createTables = '''\n",
    "BEGIN;\n",
    "\n",
    "CREATE TABLE PRESS (\n",
    "    NAME TEXT PRIMARY KEY,\n",
    "    ADDR TEXT,\n",
    "    PHNO TEXT\n",
    ");\n",
    "\n",
    "\n",
    "CREATE TABLE BOOK_INFO (\n",
    "    B_ID TEXT PRIMARY KEY,\n",
    "    TITLE TEXT PRIMAY KEY,\n",
    "    PRESS_NAME TEXT REFERENCES PRESS(NAME) ON UPDATE CASCADE,\n",
    "    YEAR_OF_PUBLICATION INT\n",
    ");\n",
    "\n",
    "CREATE TABLE AUTHOR_INFO (\n",
    "    B_ID TEXT PRIMARY KEY,\n",
    "    TITLE TEXT REFERENCES BOOK_INFO(TITLE) ON UPDATE CASCADE,\n",
    "    AUTHOR_NAME TEXT\n",
    ");\n",
    "\n",
    "CREATE TABLE DEPT_LIB (\n",
    "    DEPT_NO INT PRIMARY KEY,\n",
    "    DEPT_NAME TEXT,\n",
    "    DEPT_BLOCK TEXT\n",
    ");\n",
    "\n",
    "CREATE TABLE NO_OF_COPIES (\n",
    "    B_ID TEXT PRIMARY KEY,\n",
    "    DEPT_NO INT REFERENCES DEPT_LIB(DEPT_NO) ON UPDATE CASCADE,\n",
    "    TOTAL_COPIES INT\n",
    ");\n",
    "\n",
    "CREATE TABLE LIBRARYID (\n",
    "    LIB_ID INT PRIMARY KEY\n",
    ");\n",
    "\n",
    "CREATE TABLE WITHDRAW_BOOK (\n",
    "    B_ID TEXT PRIMARY KEY,\n",
    "    DEPT_NO TEXT REFERENCES DEPT_LIB(DEPT_NO) ON UPDATE CASCADE,\n",
    "    LIB_ID INT REFERENCES LIBRARYID(LIB_ID) ON UPDATE CASCADE,\n",
    "    WITHDRAW_DATE DATE,\n",
    "    RETURN_DATE DATE \n",
    ");\n",
    "\n",
    "COMMIT;\n",
    "'''"
   ]
  },
  {
   "cell_type": "code",
   "execution_count": 5,
   "metadata": {},
   "outputs": [
    {
     "data": {
      "text/plain": [
       "<sqlite3.Cursor at 0x125169df8c0>"
      ]
     },
     "execution_count": 5,
     "metadata": {},
     "output_type": "execute_result"
    }
   ],
   "source": [
    "cur.executescript(createTables)"
   ]
  },
  {
   "cell_type": "code",
   "execution_count": 6,
   "metadata": {},
   "outputs": [
    {
     "data": {
      "text/plain": [
       "<sqlite3.Cursor at 0x125169df8c0>"
      ]
     },
     "execution_count": 6,
     "metadata": {},
     "output_type": "execute_result"
    }
   ],
   "source": [
    "press = [\n",
    "    ('holmes', '221B', '132324'),\n",
    "    ('holmes Jr.', 'Pall Mall', '156324')\n",
    "]\n",
    "\n",
    "cur.executemany('INSERT INTO PRESS VALUES (?, ?, ?)', press)"
   ]
  },
  {
   "cell_type": "code",
   "execution_count": 7,
   "metadata": {},
   "outputs": [
    {
     "data": {
      "text/plain": [
       "<sqlite3.Cursor at 0x125169df8c0>"
      ]
     },
     "execution_count": 7,
     "metadata": {},
     "output_type": "execute_result"
    }
   ],
   "source": [
    "book_info = [\n",
    "    ('b1', 'On the Origins of Tree Worship', 'holmes', '1896'),\n",
    "    ('b2', 'Bee Culture', 'holmes Jr.', '1890')\n",
    "]\n",
    "\n",
    "cur.executemany('INSERT INTO BOOK_INFO VALUES (?, ?, ?, ?)', book_info)"
   ]
  },
  {
   "cell_type": "code",
   "execution_count": 8,
   "metadata": {},
   "outputs": [
    {
     "data": {
      "text/plain": [
       "<sqlite3.Cursor at 0x125169df8c0>"
      ]
     },
     "execution_count": 8,
     "metadata": {},
     "output_type": "execute_result"
    }
   ],
   "source": [
    "author_info = [\n",
    "    ('b1', 'On the Origins of Tree Worship', 'Sigerson'),\n",
    "    ('b2', 'Bee Culture', 'Sherlock')\n",
    "]\n",
    "\n",
    "cur.executemany('INSERT INTO AUTHOR_INFO VALUES (?, ?, ?)', author_info)"
   ]
  },
  {
   "cell_type": "code",
   "execution_count": 9,
   "metadata": {},
   "outputs": [
    {
     "data": {
      "text/plain": [
       "<sqlite3.Cursor at 0x125169df8c0>"
      ]
     },
     "execution_count": 9,
     "metadata": {},
     "output_type": "execute_result"
    }
   ],
   "source": [
    "dept_lib = [\n",
    "    (1, 'D1', 'Block 1'),\n",
    "    (2, 'D2', 'Block 2')\n",
    "]\n",
    "\n",
    "cur.executemany('INSERT INTO DEPT_LIB VALUES (?, ?, ?)', dept_lib)"
   ]
  },
  {
   "cell_type": "code",
   "execution_count": 10,
   "metadata": {},
   "outputs": [
    {
     "data": {
      "text/plain": [
       "<sqlite3.Cursor at 0x125169df8c0>"
      ]
     },
     "execution_count": 10,
     "metadata": {},
     "output_type": "execute_result"
    }
   ],
   "source": [
    "no_of_copies = [\n",
    "    ('b1', 1, 69),\n",
    "    ('b2', 2, 420)\n",
    "]\n",
    "\n",
    "cur.executemany('INSERT INTO NO_OF_COPIES VALUES (?, ?, ?)', no_of_copies)"
   ]
  },
  {
   "cell_type": "code",
   "execution_count": 11,
   "metadata": {},
   "outputs": [
    {
     "data": {
      "text/plain": [
       "<sqlite3.Cursor at 0x125169df8c0>"
      ]
     },
     "execution_count": 11,
     "metadata": {},
     "output_type": "execute_result"
    }
   ],
   "source": [
    "libraryid = [\n",
    "    (1, ),\n",
    "    (2, )\n",
    "]\n",
    "\n",
    "cur.executemany('INSERT INTO LIBRARYID VALUES (?)', libraryid)"
   ]
  },
  {
   "cell_type": "code",
   "execution_count": 12,
   "metadata": {},
   "outputs": [
    {
     "data": {
      "text/plain": [
       "<sqlite3.Cursor at 0x125169df8c0>"
      ]
     },
     "execution_count": 12,
     "metadata": {},
     "output_type": "execute_result"
    }
   ],
   "source": [
    "withdraw_book = [\n",
    "    ('b1', 1, 1, '2022-08-05', '2022-08-09'),\n",
    "    ('b2', 2, 2, '2022-07-09', '2022-08-11')\n",
    "]\n",
    "\n",
    "cur.executemany('INSERT INTO WITHDRAW_BOOK VALUES (?, ?, ?, ?, ?)', withdraw_book)"
   ]
  },
  {
   "cell_type": "code",
   "execution_count": 13,
   "metadata": {},
   "outputs": [],
   "source": [
    "conn.commit()"
   ]
  },
  {
   "cell_type": "markdown",
   "metadata": {},
   "source": [
    "DISPLAY THE FOLLOWING DETAILS OF BOOKS FROM THE LIBRARY USING A SINGLE QUERY [B_ID, TITLE, PRESS_NAME, AUTHOR_NAME, TOTAL_COPIES]"
   ]
  },
  {
   "cell_type": "code",
   "execution_count": 14,
   "metadata": {},
   "outputs": [
    {
     "data": {
      "text/plain": [
       "[('b1', 'On the Origins of Tree Worship', 'holmes', 'Sigerson', 69),\n",
       " ('b2', 'Bee Culture', 'holmes Jr.', 'Sherlock', 420)]"
      ]
     },
     "execution_count": 14,
     "metadata": {},
     "output_type": "execute_result"
    }
   ],
   "source": [
    "res1 = cur.execute('''\n",
    "    SELECT B.B_ID, B.TITLE, B.PRESS_NAME, A.AUTHOR_NAME, N.TOTAL_COPIES\n",
    "    FROM BOOK_INFO B \n",
    "    INNER JOIN AUTHOR_INFO A ON A.B_ID = B.B_ID\n",
    "    INNER JOIN NO_OF_COPIES N ON B.B_ID = N.B_ID\n",
    "''')\n",
    "\n",
    "res1.fetchall()"
   ]
  },
  {
   "cell_type": "markdown",
   "metadata": {},
   "source": [
    "Display the details of the students withdrawn the books between 16.05.2022 and 16.08.2022 "
   ]
  },
  {
   "cell_type": "code",
   "execution_count": null,
   "metadata": {},
   "outputs": [],
   "source": []
  },
  {
   "cell_type": "code",
   "execution_count": null,
   "metadata": {},
   "outputs": [],
   "source": []
  },
  {
   "cell_type": "code",
   "execution_count": null,
   "metadata": {},
   "outputs": [],
   "source": []
  },
  {
   "cell_type": "code",
   "execution_count": null,
   "metadata": {},
   "outputs": [],
   "source": []
  },
  {
   "cell_type": "markdown",
   "metadata": {},
   "source": [
    "\n",
    "\n",
    "\n",
    "Drop a book in BOOK_INFO table. Proof that the deletion is updated in other relevant tables. \n",
    "\n",
    "Partition the BOOK_INFO table based on the NO_OF_COPIES. Illustrate this with a simple query in Data Manipulation. "
   ]
  },
  {
   "cell_type": "code",
   "execution_count": 65,
   "metadata": {},
   "outputs": [],
   "source": [
    "conn.close()"
   ]
  },
  {
   "cell_type": "code",
   "execution_count": 1,
   "metadata": {},
   "outputs": [],
   "source": [
    "import os\n",
    "\n",
    "os.remove('./Dumps/lab2.db')"
   ]
  },
  {
   "cell_type": "code",
   "execution_count": null,
   "metadata": {},
   "outputs": [],
   "source": []
  }
 ],
 "metadata": {
  "kernelspec": {
   "display_name": "Python 3.10.4 ('dbms')",
   "language": "python",
   "name": "python3"
  },
  "language_info": {
   "codemirror_mode": {
    "name": "ipython",
    "version": 3
   },
   "file_extension": ".py",
   "mimetype": "text/x-python",
   "name": "python",
   "nbconvert_exporter": "python",
   "pygments_lexer": "ipython3",
   "version": "3.10.4"
  },
  "orig_nbformat": 4,
  "vscode": {
   "interpreter": {
    "hash": "fe6733b6ea1a1cc8c8a474c8e9b92e287be752e68a7b5e4a4ee39ee605865c6d"
   }
  }
 },
 "nbformat": 4,
 "nbformat_minor": 2
}
