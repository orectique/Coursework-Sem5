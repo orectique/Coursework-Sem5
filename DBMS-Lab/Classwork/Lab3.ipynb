{
 "cells": [
  {
   "cell_type": "markdown",
   "metadata": {},
   "source": [
    "# Database Management Systems - Lab 3\n",
    "## Sreehari P Sreedhar\n",
    "CB.SC.I5DAS20032"
   ]
  },
  {
   "cell_type": "code",
   "execution_count": 1,
   "metadata": {},
   "outputs": [],
   "source": [
    "import os\n",
    "\n",
    "try:\n",
    "    os.remove('./Dumps/lab3.db')\n",
    "except FileNotFoundError:\n",
    "    pass"
   ]
  },
  {
   "cell_type": "code",
   "execution_count": 2,
   "metadata": {},
   "outputs": [],
   "source": [
    "import sqlite3"
   ]
  },
  {
   "cell_type": "code",
   "execution_count": 3,
   "metadata": {},
   "outputs": [],
   "source": [
    "conn = sqlite3.connect('./Dumps/lab3.db')\n",
    "\n",
    "cur = conn.cursor()"
   ]
  },
  {
   "cell_type": "code",
   "execution_count": 4,
   "metadata": {},
   "outputs": [
    {
     "data": {
      "text/plain": [
       "<sqlite3.Cursor at 0x133de15fc40>"
      ]
     },
     "execution_count": 4,
     "metadata": {},
     "output_type": "execute_result"
    }
   ],
   "source": [
    "createTables = '''\n",
    "    BEGIN;\n",
    "\n",
    "    CREATE TABLE IF NOT EXISTS BUYER (\n",
    "        CLIENT_ID VARCHAR(15) PRIMARY KEY,\n",
    "        NAME VARCHAR(20),\n",
    "        ADDRESS1 VARCHAR(30),\n",
    "        ADDRESS2 VARCHAR(30),\n",
    "        CITY VARCHAR(15),\n",
    "        STATE VARCHAR(15),\n",
    "        PINCODE INT(6),\n",
    "        BALANCE INT(10, 2)\n",
    "    );\n",
    "\n",
    "    CREATE TABLE IF NOT EXISTS SELLER (\n",
    "        PRODUCT_ID VARCHAR(15) PRIMARY KEY,\n",
    "        PROD_NAME VARCHAR(20),\n",
    "        PROFIT_PERCENT INT(5),\n",
    "        STOCK INT(5),\n",
    "        MINIMUM_STOCK INT(5),\n",
    "        SELL_PRICE INT(10, 2),\n",
    "        COST_PRICE INT(10, 2)\n",
    "    );\n",
    "\n",
    "    COMMIT;\n",
    "'''\n",
    "\n",
    "cur.executescript(createTables)"
   ]
  },
  {
   "cell_type": "code",
   "execution_count": 5,
   "metadata": {},
   "outputs": [
    {
     "data": {
      "text/plain": [
       "<sqlite3.Cursor at 0x133de15fc40>"
      ]
     },
     "execution_count": 5,
     "metadata": {},
     "output_type": "execute_result"
    }
   ],
   "source": [
    "dataBuyer = [\n",
    "    ('C-1003', 'XAVIER', 'EINSTEIN STREET', 'LANE 3', 'CHENNAI', 'TAMIL NADU', 642005, 2000.25),\n",
    "    ('C-1005', 'BASHEEM', 'MAHATMA STREET', 'LANE 2', 'MUMBAI', 'MAHARASTRA', 641105, 650.75),\n",
    "    ('C-1002', 'RAJU', 'ARMSTRONG STREET', 'LANE 2', 'MUMBAI', 'MAHARASTRA', 641105, 0),\n",
    "    ('C-1001', 'ANAND', 'RAJA STREET', 'LANE 1', 'COIMBATORE', 'TAMIL NADU', 641005, 15000.2),\n",
    "    ('C-1004', 'PAANDU', 'COLUMBUS STREET', 'LANE 1', 'COIMBATORE', 'TAMIL NADU', 641005, 1500.45),\n",
    "    ('C-1006', 'FLASHMA', 'INDIRA STREET', 'LANE 3', 'KOLKATA', 'WESTBENGAL', 641005, 100.23),\n",
    "]\n",
    "\n",
    "cur.executemany('INSERT INTO BUYER VALUES (?, ?, ?, ?, ?, ?, ?, ?)', dataBuyer)"
   ]
  },
  {
   "cell_type": "code",
   "execution_count": 6,
   "metadata": {},
   "outputs": [
    {
     "data": {
      "text/plain": [
       "<sqlite3.Cursor at 0x133de15fc40>"
      ]
     },
     "execution_count": 6,
     "metadata": {},
     "output_type": "execute_result"
    }
   ],
   "source": [
    "dataSeller = [\n",
    "    ('P-2564',\t'LG MONITOR',\t5,\t100,\t20,\t52500,\t50000),\n",
    "    ('P-3598',\t'SAM MONITOR',\t6,\t10,\t3,\t11872,\t11200),\n",
    "    ('P-5864',\t'HP MONITOR',\t5,\t20,\t5,\t7875,\t7500),\n",
    "    ('P-6594',\t'ACER MONITOR',\t5,\t20,\t100,\t23100,\t22000),\n",
    "    ('P-2484',\t'DELL MONITOR',\t2,\t10,\t3,\t30600,\t30000),\n",
    "    ('P-4569',\t'LENO MONITOR',\t2.5,\t10,\t3,\t53043.75,\t51750),\n",
    "    ('P-1846',\t'APPL MONITOR',\t4,\t10,\t3,\t39520,\t38000),\n",
    "    ('P-7596',\t'COMPAQ MONITOR',\t5,\t10,\t3,\t7875,\t7500),\n",
    "    ('P-3265',\t'XIAOMI MONITOR',\t5,\t2,\t3,\t7875,\t7500)\n",
    "]\n",
    "\n",
    "cur.executemany('INSERT INTO SELLER VALUES (?, ?, ?, ?, ?, ?, ?)', dataSeller)"
   ]
  },
  {
   "cell_type": "code",
   "execution_count": 7,
   "metadata": {},
   "outputs": [],
   "source": [
    "conn.commit()"
   ]
  },
  {
   "cell_type": "markdown",
   "metadata": {},
   "source": [
    "# Questions:"
   ]
  },
  {
   "cell_type": "markdown",
   "metadata": {},
   "source": [
    "1.Find all the products whose sell price is greater than 50000"
   ]
  },
  {
   "cell_type": "code",
   "execution_count": 8,
   "metadata": {},
   "outputs": [
    {
     "data": {
      "text/plain": [
       "[('P-2564', 'LG MONITOR', 5, 100, 20, 52500, 50000),\n",
       " ('P-4569', 'LENO MONITOR', 2.5, 10, 3, 53043.75, 51750)]"
      ]
     },
     "execution_count": 8,
     "metadata": {},
     "output_type": "execute_result"
    }
   ],
   "source": [
    "cur.execute('SELECT * FROM SELLER WHERE SELL_PRICE > 50000').fetchall()"
   ]
  },
  {
   "cell_type": "markdown",
   "metadata": {},
   "source": [
    "2.Find the product whose selling price is greater than 20000 and less than or equal to 50000"
   ]
  },
  {
   "cell_type": "code",
   "execution_count": 9,
   "metadata": {},
   "outputs": [
    {
     "data": {
      "text/plain": [
       "[('P-6594', 'ACER MONITOR', 5, 20, 100, 23100, 22000),\n",
       " ('P-2484', 'DELL MONITOR', 2, 10, 3, 30600, 30000),\n",
       " ('P-1846', 'APPL MONITOR', 4, 10, 3, 39520, 38000)]"
      ]
     },
     "execution_count": 9,
     "metadata": {},
     "output_type": "execute_result"
    }
   ],
   "source": [
    "cur.execute('SELECT * FROM SELLER WHERE SELL_PRICE > 20000 AND SELL_PRICE <= 50000').fetchall()"
   ]
  },
  {
   "cell_type": "markdown",
   "metadata": {},
   "source": [
    "3.List the name, city and state of clients not in the state of ‘MAHARASTRA."
   ]
  },
  {
   "cell_type": "code",
   "execution_count": 10,
   "metadata": {},
   "outputs": [
    {
     "data": {
      "text/plain": [
       "[('XAVIER', 'CHENNAI', 'TAMIL NADU'),\n",
       " ('ANAND', 'COIMBATORE', 'TAMIL NADU'),\n",
       " ('PAANDU', 'COIMBATORE', 'TAMIL NADU'),\n",
       " ('FLASHMA', 'KOLKATA', 'WESTBENGAL')]"
      ]
     },
     "execution_count": 10,
     "metadata": {},
     "output_type": "execute_result"
    }
   ],
   "source": [
    "cur.execute('SELECT NAME, CITY, STATE FROM BUYER WHERE STATE != \"MAHARASTRA\"').fetchall()"
   ]
  },
  {
   "cell_type": "markdown",
   "metadata": {},
   "source": [
    "4.Change the costprice of ‘LG MONITOR to Rs.55000"
   ]
  },
  {
   "cell_type": "code",
   "execution_count": 11,
   "metadata": {},
   "outputs": [
    {
     "data": {
      "text/plain": [
       "[]"
      ]
     },
     "execution_count": 11,
     "metadata": {},
     "output_type": "execute_result"
    }
   ],
   "source": [
    "cur.execute('UPDATE SELLER SET COST_PRICE = 55000 WHERE PROD_NAME = \"LG MONITOR\"').fetchall()"
   ]
  },
  {
   "cell_type": "markdown",
   "metadata": {},
   "source": [
    "5.Delete the record with client C-1001 from the buyertable."
   ]
  },
  {
   "cell_type": "code",
   "execution_count": 12,
   "metadata": {},
   "outputs": [
    {
     "data": {
      "text/plain": [
       "[]"
      ]
     },
     "execution_count": 12,
     "metadata": {},
     "output_type": "execute_result"
    }
   ],
   "source": [
    "cur.execute('DELETE FROM BUYER WHERE CLIENT_ID = \"C-1001\"').fetchall()"
   ]
  },
  {
   "cell_type": "markdown",
   "metadata": {},
   "source": [
    "6.Change the city of client_id’C-1005’ to some other city."
   ]
  },
  {
   "cell_type": "code",
   "execution_count": 13,
   "metadata": {},
   "outputs": [
    {
     "data": {
      "text/plain": [
       "[]"
      ]
     },
     "execution_count": 13,
     "metadata": {},
     "output_type": "execute_result"
    }
   ],
   "source": [
    "cur.execute('UPDATE BUYER SET CITY = \"PUNE\" WHERE CLIENT_ID = \"C-1005\"').fetchall()"
   ]
  },
  {
   "cell_type": "markdown",
   "metadata": {},
   "source": [
    "7.Change the balanceof client_id‘C1002, to 1000."
   ]
  },
  {
   "cell_type": "code",
   "execution_count": 14,
   "metadata": {},
   "outputs": [
    {
     "data": {
      "text/plain": [
       "[]"
      ]
     },
     "execution_count": 14,
     "metadata": {},
     "output_type": "execute_result"
    }
   ],
   "source": [
    "cur.execute('UPDATE BUYER SET BALANCE = 1000 WHERE CLIENT_ID = \"C-1002\"').fetchall()"
   ]
  },
  {
   "cell_type": "markdown",
   "metadata": {},
   "source": [
    "8.Find the products whose selling price is more than 15000 and also set the new selling price as original selling price *5%."
   ]
  },
  {
   "cell_type": "code",
   "execution_count": 15,
   "metadata": {},
   "outputs": [
    {
     "data": {
      "text/plain": [
       "[('P-2564', 'LG MONITOR', 5, 100, 20, 52500, 55000),\n",
       " ('P-6594', 'ACER MONITOR', 5, 20, 100, 23100, 22000),\n",
       " ('P-2484', 'DELL MONITOR', 2, 10, 3, 30600, 30000),\n",
       " ('P-4569', 'LENO MONITOR', 2.5, 10, 3, 53043.75, 51750),\n",
       " ('P-1846', 'APPL MONITOR', 4, 10, 3, 39520, 38000)]"
      ]
     },
     "execution_count": 15,
     "metadata": {},
     "output_type": "execute_result"
    }
   ],
   "source": [
    "cur.execute('SELECT * FROM SELLER WHERE SELL_PRICE > 15000').fetchall()"
   ]
  },
  {
   "cell_type": "code",
   "execution_count": 16,
   "metadata": {},
   "outputs": [
    {
     "data": {
      "text/plain": [
       "[]"
      ]
     },
     "execution_count": 16,
     "metadata": {},
     "output_type": "execute_result"
    }
   ],
   "source": [
    "cur.execute('UPDATE SELLER SET SELL_PRICE = SELL_PRICE*1.05 WHERE  SELL_PRICE > 15000').fetchall()"
   ]
  },
  {
   "cell_type": "code",
   "execution_count": 17,
   "metadata": {},
   "outputs": [
    {
     "data": {
      "text/plain": [
       "[('P-2564', 'LG MONITOR', 5, 100, 20, 55125, 55000),\n",
       " ('P-6594', 'ACER MONITOR', 5, 20, 100, 24255, 22000),\n",
       " ('P-2484', 'DELL MONITOR', 2, 10, 3, 32130, 30000),\n",
       " ('P-4569', 'LENO MONITOR', 2.5, 10, 3, 55695.9375, 51750),\n",
       " ('P-1846', 'APPL MONITOR', 4, 10, 3, 41496, 38000)]"
      ]
     },
     "execution_count": 17,
     "metadata": {},
     "output_type": "execute_result"
    }
   ],
   "source": [
    "cur.execute('SELECT * FROM SELLER WHERE SELL_PRICE > 15000').fetchall()"
   ]
  },
  {
   "cell_type": "markdown",
   "metadata": {},
   "source": [
    "9.Find out the clients who stay in a city whose second letter is ‘O’."
   ]
  },
  {
   "cell_type": "code",
   "execution_count": 18,
   "metadata": {},
   "outputs": [
    {
     "data": {
      "text/plain": [
       "[('C-1004',\n",
       "  'PAANDU',\n",
       "  'COLUMBUS STREET',\n",
       "  'LANE 1',\n",
       "  'COIMBATORE',\n",
       "  'TAMIL NADU',\n",
       "  641005,\n",
       "  1500.45),\n",
       " ('C-1006',\n",
       "  'FLASHMA',\n",
       "  'INDIRA STREET',\n",
       "  'LANE 3',\n",
       "  'KOLKATA',\n",
       "  'WESTBENGAL',\n",
       "  641005,\n",
       "  100.23)]"
      ]
     },
     "execution_count": 18,
     "metadata": {},
     "output_type": "execute_result"
    }
   ],
   "source": [
    "cur.execute('SELECT * FROM BUYER WHERE CITY LIKE \"_O%\"').fetchall()"
   ]
  },
  {
   "cell_type": "markdown",
   "metadata": {},
   "source": [
    "10.Find out the product namewhose starting letter is ‘A’."
   ]
  },
  {
   "cell_type": "code",
   "execution_count": 19,
   "metadata": {},
   "outputs": [
    {
     "data": {
      "text/plain": [
       "[('P-6594', 'ACER MONITOR', 5, 20, 100, 24255, 22000),\n",
       " ('P-1846', 'APPL MONITOR', 4, 10, 3, 41496, 38000)]"
      ]
     },
     "execution_count": 19,
     "metadata": {},
     "output_type": "execute_result"
    }
   ],
   "source": [
    "cur.execute('SELECT * FROM SELLER WHERE PROD_NAME LIKE \"A%\"').fetchall()"
   ]
  },
  {
   "cell_type": "markdown",
   "metadata": {},
   "source": [
    "11.Find out the clients name namewhose last letter is ‘M’."
   ]
  },
  {
   "cell_type": "code",
   "execution_count": 20,
   "metadata": {},
   "outputs": [
    {
     "data": {
      "text/plain": [
       "[('C-1005',\n",
       "  'BASHEEM',\n",
       "  'MAHATMA STREET',\n",
       "  'LANE 2',\n",
       "  'PUNE',\n",
       "  'MAHARASTRA',\n",
       "  641105,\n",
       "  650.75)]"
      ]
     },
     "execution_count": 20,
     "metadata": {},
     "output_type": "execute_result"
    }
   ],
   "source": [
    "cur.execute('SELECT * FROM BUYER WHERE NAME LIKE \"%M\"').fetchall()"
   ]
  },
  {
   "cell_type": "markdown",
   "metadata": {},
   "source": [
    "12.Find out the clients who stay in state Tamil Nadu and city Coimbatore."
   ]
  },
  {
   "cell_type": "code",
   "execution_count": 21,
   "metadata": {},
   "outputs": [
    {
     "data": {
      "text/plain": [
       "[('C-1004',\n",
       "  'PAANDU',\n",
       "  'COLUMBUS STREET',\n",
       "  'LANE 1',\n",
       "  'COIMBATORE',\n",
       "  'TAMIL NADU',\n",
       "  641005,\n",
       "  1500.45)]"
      ]
     },
     "execution_count": 21,
     "metadata": {},
     "output_type": "execute_result"
    }
   ],
   "source": [
    "cur.execute('SELECT * FROM BUYER WHERE CITY = \"COIMBATORE\" AND STATE = \"TAMIL NADU\"').fetchall()"
   ]
  },
  {
   "cell_type": "markdown",
   "metadata": {},
   "source": [
    "13.List the products in sorted order of their description."
   ]
  },
  {
   "cell_type": "code",
   "execution_count": 22,
   "metadata": {},
   "outputs": [
    {
     "data": {
      "text/plain": [
       "[('P-6594', 'ACER MONITOR', 5, 20, 100, 24255, 22000),\n",
       " ('P-1846', 'APPL MONITOR', 4, 10, 3, 41496, 38000),\n",
       " ('P-7596', 'COMPAQ MONITOR', 5, 10, 3, 7875, 7500),\n",
       " ('P-2484', 'DELL MONITOR', 2, 10, 3, 32130, 30000),\n",
       " ('P-5864', 'HP MONITOR', 5, 20, 5, 7875, 7500),\n",
       " ('P-4569', 'LENO MONITOR', 2.5, 10, 3, 55695.9375, 51750),\n",
       " ('P-2564', 'LG MONITOR', 5, 100, 20, 55125, 55000),\n",
       " ('P-3598', 'SAM MONITOR', 6, 10, 3, 11872, 11200),\n",
       " ('P-3265', 'XIAOMI MONITOR', 5, 2, 3, 7875, 7500)]"
      ]
     },
     "execution_count": 22,
     "metadata": {},
     "output_type": "execute_result"
    }
   ],
   "source": [
    "cur.execute('SELECT * FROM SELLER ORDER BY PROD_NAME').fetchall()"
   ]
  },
  {
   "cell_type": "markdown",
   "metadata": {},
   "source": [
    "14.List the product which is highest in Selling Price"
   ]
  },
  {
   "cell_type": "code",
   "execution_count": 23,
   "metadata": {},
   "outputs": [
    {
     "data": {
      "text/plain": [
       "[('P-4569', 'LENO MONITOR', 55695.9375)]"
      ]
     },
     "execution_count": 23,
     "metadata": {},
     "output_type": "execute_result"
    }
   ],
   "source": [
    "cur.execute('SELECT PRODUCT_ID, PROD_NAME, MAX(SELL_PRICE) FROM SELLER').fetchall()"
   ]
  },
  {
   "cell_type": "markdown",
   "metadata": {},
   "source": [
    "15.List the Product Information whose Profit Percent is very low."
   ]
  },
  {
   "cell_type": "code",
   "execution_count": 24,
   "metadata": {},
   "outputs": [
    {
     "data": {
      "text/plain": [
       "[('P-2484', 'DELL MONITOR', 2)]"
      ]
     },
     "execution_count": 24,
     "metadata": {},
     "output_type": "execute_result"
    }
   ],
   "source": [
    "cur.execute('SELECT PRODUCT_ID, PROD_NAME, MIN(PROFIT_PERCENT) FROM SELLER').fetchall()"
   ]
  },
  {
   "cell_type": "markdown",
   "metadata": {},
   "source": [
    "16.Increase the profit percentage of Appl Monitor to 8%. Update the Selling and Cost Price accordingly."
   ]
  },
  {
   "cell_type": "code",
   "execution_count": 25,
   "metadata": {},
   "outputs": [
    {
     "data": {
      "text/plain": [
       "[]"
      ]
     },
     "execution_count": 25,
     "metadata": {},
     "output_type": "execute_result"
    }
   ],
   "source": [
    "cur.execute('UPDATE SELLER SET PROFIT_PERCENT = 8, SELL_PRICE = COST_PRICE*1.08 WHERE PROD_NAME = \"APPL MONITOR\"').fetchall()"
   ]
  },
  {
   "cell_type": "markdown",
   "metadata": {},
   "source": [
    "17.Calculate the average price of all the products"
   ]
  },
  {
   "cell_type": "code",
   "execution_count": 26,
   "metadata": {},
   "outputs": [
    {
     "data": {
      "text/plain": [
       "[(27082.54861111111, 25605.555555555555)]"
      ]
     },
     "execution_count": 26,
     "metadata": {},
     "output_type": "execute_result"
    }
   ],
   "source": [
    "cur.execute('SELECT AVG(SELL_PRICE), AVG(COST_PRICE) FROM SELLER').fetchall()"
   ]
  },
  {
   "cell_type": "markdown",
   "metadata": {},
   "source": [
    "18.Calculate the minimum price of products."
   ]
  },
  {
   "cell_type": "code",
   "execution_count": 27,
   "metadata": {},
   "outputs": [
    {
     "data": {
      "text/plain": [
       "[(7875, 7500)]"
      ]
     },
     "execution_count": 27,
     "metadata": {},
     "output_type": "execute_result"
    }
   ],
   "source": [
    "cur.execute('SELECT MIN(SELL_PRICE), MIN(COST_PRICE) FROM SELLER').fetchall()"
   ]
  },
  {
   "cell_type": "markdown",
   "metadata": {},
   "source": [
    "19.Determine the maximum and minimum prices.Rename the title as ‘max_price’ and min_price respectively."
   ]
  },
  {
   "cell_type": "code",
   "execution_count": 28,
   "metadata": {},
   "outputs": [
    {
     "data": {
      "text/plain": [
       "[(7875, 55695.9375)]"
      ]
     },
     "execution_count": 28,
     "metadata": {},
     "output_type": "execute_result"
    }
   ],
   "source": [
    "cur.execute('SELECT MIN(SELL_PRICE) AS MIN_PRICE, MAX(SELL_PRICE) AS MAX_PRICE FROM SELLER').fetchall()"
   ]
  },
  {
   "cell_type": "markdown",
   "metadata": {},
   "source": [
    "20.Count the number of products having price greater thanor equal to 15000"
   ]
  },
  {
   "cell_type": "code",
   "execution_count": 29,
   "metadata": {},
   "outputs": [
    {
     "data": {
      "text/plain": [
       "[(5,)]"
      ]
     },
     "execution_count": 29,
     "metadata": {},
     "output_type": "execute_result"
    }
   ],
   "source": [
    "cur.execute('SELECT COUNT(PRODUCT_ID) FROM SELLER WHERE SELL_PRICE >= 15000').fetchall()"
   ]
  },
  {
   "cell_type": "markdown",
   "metadata": {},
   "source": [
    "21.Add a new column phone_no in the client_master tableand update appropriate value to it.\n"
   ]
  },
  {
   "cell_type": "code",
   "execution_count": 30,
   "metadata": {},
   "outputs": [
    {
     "data": {
      "text/plain": [
       "[]"
      ]
     },
     "execution_count": 30,
     "metadata": {},
     "output_type": "execute_result"
    }
   ],
   "source": [
    "cur.execute('ALTER TABLE BUYER ADD COLUMN PHONE_NO CHAR(10)').fetchall()"
   ]
  },
  {
   "cell_type": "code",
   "execution_count": 31,
   "metadata": {},
   "outputs": [
    {
     "data": {
      "text/plain": [
       "[(5,)]"
      ]
     },
     "execution_count": 31,
     "metadata": {},
     "output_type": "execute_result"
    }
   ],
   "source": [
    "cur.execute('SELECT COUNT(CLIENT_ID) FROM BUYER').fetchall()"
   ]
  },
  {
   "cell_type": "code",
   "execution_count": 32,
   "metadata": {},
   "outputs": [
    {
     "data": {
      "text/plain": [
       "[('C-1003',\n",
       "  'XAVIER',\n",
       "  'EINSTEIN STREET',\n",
       "  'LANE 3',\n",
       "  'CHENNAI',\n",
       "  'TAMIL NADU',\n",
       "  642005,\n",
       "  2000.25,\n",
       "  None),\n",
       " ('C-1005',\n",
       "  'BASHEEM',\n",
       "  'MAHATMA STREET',\n",
       "  'LANE 2',\n",
       "  'PUNE',\n",
       "  'MAHARASTRA',\n",
       "  641105,\n",
       "  650.75,\n",
       "  None),\n",
       " ('C-1002',\n",
       "  'RAJU',\n",
       "  'ARMSTRONG STREET',\n",
       "  'LANE 2',\n",
       "  'MUMBAI',\n",
       "  'MAHARASTRA',\n",
       "  641105,\n",
       "  1000,\n",
       "  None),\n",
       " ('C-1004',\n",
       "  'PAANDU',\n",
       "  'COLUMBUS STREET',\n",
       "  'LANE 1',\n",
       "  'COIMBATORE',\n",
       "  'TAMIL NADU',\n",
       "  641005,\n",
       "  1500.45,\n",
       "  None),\n",
       " ('C-1006',\n",
       "  'FLASHMA',\n",
       "  'INDIRA STREET',\n",
       "  'LANE 3',\n",
       "  'KOLKATA',\n",
       "  'WESTBENGAL',\n",
       "  641005,\n",
       "  100.23,\n",
       "  None)]"
      ]
     },
     "execution_count": 32,
     "metadata": {},
     "output_type": "execute_result"
    }
   ],
   "source": [
    "cur.execute('SELECT * FROM BUYER').fetchall()"
   ]
  },
  {
   "cell_type": "code",
   "execution_count": 33,
   "metadata": {},
   "outputs": [
    {
     "data": {
      "text/plain": [
       "<sqlite3.Cursor at 0x133de15fc40>"
      ]
     },
     "execution_count": 33,
     "metadata": {},
     "output_type": "execute_result"
    }
   ],
   "source": [
    "insertNums = '''\n",
    "    BEGIN;\n",
    "\n",
    "    UPDATE BUYER SET PHONE_NO =  \"1234567890\" WHERE CLIENT_ID = \"C-1001\";\n",
    "    UPDATE BUYER SET PHONE_NO =  \"1234567892\" WHERE CLIENT_ID = \"C-1002\";\n",
    "    UPDATE BUYER SET PHONE_NO =  \"1234567893\" WHERE CLIENT_ID = \"C-1006\";\n",
    "    UPDATE BUYER SET PHONE_NO =  \"1234567894\" WHERE CLIENT_ID = \"C-1004\";\n",
    "    UPDATE BUYER SET PHONE_NO =  \"1234567891\" WHERE CLIENT_ID = \"C-1003\";\n",
    "\n",
    "    COMMIT;\n",
    "    '''\n",
    "\n",
    "cur.executescript(insertNums)"
   ]
  },
  {
   "cell_type": "code",
   "execution_count": 34,
   "metadata": {},
   "outputs": [
    {
     "data": {
      "text/plain": [
       "[('C-1003',\n",
       "  'XAVIER',\n",
       "  'EINSTEIN STREET',\n",
       "  'LANE 3',\n",
       "  'CHENNAI',\n",
       "  'TAMIL NADU',\n",
       "  642005,\n",
       "  2000.25,\n",
       "  '1234567891'),\n",
       " ('C-1005',\n",
       "  'BASHEEM',\n",
       "  'MAHATMA STREET',\n",
       "  'LANE 2',\n",
       "  'PUNE',\n",
       "  'MAHARASTRA',\n",
       "  641105,\n",
       "  650.75,\n",
       "  None),\n",
       " ('C-1002',\n",
       "  'RAJU',\n",
       "  'ARMSTRONG STREET',\n",
       "  'LANE 2',\n",
       "  'MUMBAI',\n",
       "  'MAHARASTRA',\n",
       "  641105,\n",
       "  1000,\n",
       "  '1234567892'),\n",
       " ('C-1004',\n",
       "  'PAANDU',\n",
       "  'COLUMBUS STREET',\n",
       "  'LANE 1',\n",
       "  'COIMBATORE',\n",
       "  'TAMIL NADU',\n",
       "  641005,\n",
       "  1500.45,\n",
       "  '1234567894'),\n",
       " ('C-1006',\n",
       "  'FLASHMA',\n",
       "  'INDIRA STREET',\n",
       "  'LANE 3',\n",
       "  'KOLKATA',\n",
       "  'WESTBENGAL',\n",
       "  641005,\n",
       "  100.23,\n",
       "  '1234567893')]"
      ]
     },
     "execution_count": 34,
     "metadata": {},
     "output_type": "execute_result"
    }
   ],
   "source": [
    "cur.execute('SELECT * FROM BUYER').fetchall()"
   ]
  },
  {
   "cell_type": "markdown",
   "metadata": {},
   "source": [
    "22.Renamethe table Buyeras Client."
   ]
  },
  {
   "cell_type": "code",
   "execution_count": 35,
   "metadata": {},
   "outputs": [
    {
     "data": {
      "text/plain": [
       "[]"
      ]
     },
     "execution_count": 35,
     "metadata": {},
     "output_type": "execute_result"
    }
   ],
   "source": [
    "cur.execute('ALTER TABLE BUYER RENAME TO CLIENT').fetchall()"
   ]
  },
  {
   "cell_type": "code",
   "execution_count": 36,
   "metadata": {},
   "outputs": [
    {
     "data": {
      "text/plain": [
       "[('C-1003',\n",
       "  'XAVIER',\n",
       "  'EINSTEIN STREET',\n",
       "  'LANE 3',\n",
       "  'CHENNAI',\n",
       "  'TAMIL NADU',\n",
       "  642005,\n",
       "  2000.25,\n",
       "  '1234567891'),\n",
       " ('C-1005',\n",
       "  'BASHEEM',\n",
       "  'MAHATMA STREET',\n",
       "  'LANE 2',\n",
       "  'PUNE',\n",
       "  'MAHARASTRA',\n",
       "  641105,\n",
       "  650.75,\n",
       "  None),\n",
       " ('C-1002',\n",
       "  'RAJU',\n",
       "  'ARMSTRONG STREET',\n",
       "  'LANE 2',\n",
       "  'MUMBAI',\n",
       "  'MAHARASTRA',\n",
       "  641105,\n",
       "  1000,\n",
       "  '1234567892'),\n",
       " ('C-1004',\n",
       "  'PAANDU',\n",
       "  'COLUMBUS STREET',\n",
       "  'LANE 1',\n",
       "  'COIMBATORE',\n",
       "  'TAMIL NADU',\n",
       "  641005,\n",
       "  1500.45,\n",
       "  '1234567894'),\n",
       " ('C-1006',\n",
       "  'FLASHMA',\n",
       "  'INDIRA STREET',\n",
       "  'LANE 3',\n",
       "  'KOLKATA',\n",
       "  'WESTBENGAL',\n",
       "  641005,\n",
       "  100.23,\n",
       "  '1234567893')]"
      ]
     },
     "execution_count": 36,
     "metadata": {},
     "output_type": "execute_result"
    }
   ],
   "source": [
    "cur.execute('SELECT * FROM CLIENT').fetchall()"
   ]
  },
  {
   "cell_type": "markdown",
   "metadata": {},
   "source": [
    "23.Remove the Column adddress2 from Buyer(Client) table and modify address1 limit to varchar(255)"
   ]
  },
  {
   "cell_type": "code",
   "execution_count": 37,
   "metadata": {},
   "outputs": [
    {
     "data": {
      "text/plain": [
       "[]"
      ]
     },
     "execution_count": 37,
     "metadata": {},
     "output_type": "execute_result"
    }
   ],
   "source": [
    "cur.execute('ALTER TABLE CLIENT DROP COLUMN ADDRESS2').fetchall()\n",
    "\n",
    "# Modify statement is not supported in SQLite. The ADDRESS1 column will be able to handle large text even though explicit size has been specified earlier."
   ]
  },
  {
   "cell_type": "markdown",
   "metadata": {},
   "source": [
    "24.Write a SQL statement to rename the columnname address1 to address."
   ]
  },
  {
   "cell_type": "code",
   "execution_count": 38,
   "metadata": {},
   "outputs": [
    {
     "data": {
      "text/plain": [
       "[]"
      ]
     },
     "execution_count": 38,
     "metadata": {},
     "output_type": "execute_result"
    }
   ],
   "source": [
    "cur.execute('ALTER TABLE CLIENT RENAME COLUMN ADDRESS1 TO ADDRESS').fetchall()"
   ]
  },
  {
   "cell_type": "markdown",
   "metadata": {},
   "source": [
    "25.Add a new column ‘Type of Usage’(Commercial / Domestic) to the table Buyer(Client)and add appropriate values to it."
   ]
  },
  {
   "cell_type": "code",
   "execution_count": 39,
   "metadata": {},
   "outputs": [
    {
     "data": {
      "text/plain": [
       "[]"
      ]
     },
     "execution_count": 39,
     "metadata": {},
     "output_type": "execute_result"
    }
   ],
   "source": [
    "cur.execute('ALTER TABLE CLIENT ADD COLUMN USE_Type VARCHAR(10)').fetchall()"
   ]
  },
  {
   "cell_type": "code",
   "execution_count": 40,
   "metadata": {},
   "outputs": [
    {
     "data": {
      "text/plain": [
       "<sqlite3.Cursor at 0x133de15fc40>"
      ]
     },
     "execution_count": 40,
     "metadata": {},
     "output_type": "execute_result"
    }
   ],
   "source": [
    "insertTypes = '''\n",
    "    BEGIN;\n",
    "\n",
    "    UPDATE CLIENT SET USE_TYPE = \"COMMERCIAL\" WHERE CLIENT_ID = \"C-1001\";\n",
    "    UPDATE CLIENT SET USE_TYPE = \"DOMESTIC\" WHERE CLIENT_ID = \"C-1002\";\n",
    "    UPDATE CLIENT SET USE_TYPE = \"DOMESTIC\" WHERE CLIENT_ID = \"C-1006\";\n",
    "    UPDATE CLIENT SET USE_TYPE = \"COMMERCIAL\" WHERE CLIENT_ID = \"C-1003\";\n",
    "    UPDATE CLIENT SET USE_TYPE = \"DOMESTIC\" WHERE CLIENT_ID = \"C-1004\";\n",
    "\n",
    "    COMMIT;\n",
    "    '''\n",
    "\n",
    "cur.executescript(insertTypes)"
   ]
  },
  {
   "cell_type": "code",
   "execution_count": 41,
   "metadata": {},
   "outputs": [
    {
     "data": {
      "text/plain": [
       "[('C-1003',\n",
       "  'XAVIER',\n",
       "  'EINSTEIN STREET',\n",
       "  'CHENNAI',\n",
       "  'TAMIL NADU',\n",
       "  642005,\n",
       "  2000.25,\n",
       "  '1234567891',\n",
       "  'COMMERCIAL'),\n",
       " ('C-1005',\n",
       "  'BASHEEM',\n",
       "  'MAHATMA STREET',\n",
       "  'PUNE',\n",
       "  'MAHARASTRA',\n",
       "  641105,\n",
       "  650.75,\n",
       "  None,\n",
       "  None),\n",
       " ('C-1002',\n",
       "  'RAJU',\n",
       "  'ARMSTRONG STREET',\n",
       "  'MUMBAI',\n",
       "  'MAHARASTRA',\n",
       "  641105,\n",
       "  1000,\n",
       "  '1234567892',\n",
       "  'DOMESTIC'),\n",
       " ('C-1004',\n",
       "  'PAANDU',\n",
       "  'COLUMBUS STREET',\n",
       "  'COIMBATORE',\n",
       "  'TAMIL NADU',\n",
       "  641005,\n",
       "  1500.45,\n",
       "  '1234567894',\n",
       "  'DOMESTIC'),\n",
       " ('C-1006',\n",
       "  'FLASHMA',\n",
       "  'INDIRA STREET',\n",
       "  'KOLKATA',\n",
       "  'WESTBENGAL',\n",
       "  641005,\n",
       "  100.23,\n",
       "  '1234567893',\n",
       "  'DOMESTIC')]"
      ]
     },
     "execution_count": 41,
     "metadata": {},
     "output_type": "execute_result"
    }
   ],
   "source": [
    "cur.execute('SELECT * FROM CLIENT').fetchall()"
   ]
  },
  {
   "cell_type": "code",
   "execution_count": 42,
   "metadata": {},
   "outputs": [],
   "source": [
    "conn.commit()\n",
    "conn.close()"
   ]
  }
 ],
 "metadata": {
  "kernelspec": {
   "display_name": "Python 3.10.4 ('dbms')",
   "language": "python",
   "name": "python3"
  },
  "language_info": {
   "codemirror_mode": {
    "name": "ipython",
    "version": 3
   },
   "file_extension": ".py",
   "mimetype": "text/x-python",
   "name": "python",
   "nbconvert_exporter": "python",
   "pygments_lexer": "ipython3",
   "version": "3.10.4"
  },
  "orig_nbformat": 4,
  "vscode": {
   "interpreter": {
    "hash": "fe6733b6ea1a1cc8c8a474c8e9b92e287be752e68a7b5e4a4ee39ee605865c6d"
   }
  }
 },
 "nbformat": 4,
 "nbformat_minor": 2
}
