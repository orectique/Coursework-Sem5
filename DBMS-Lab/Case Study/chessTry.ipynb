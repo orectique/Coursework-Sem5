{
 "cells": [
  {
   "cell_type": "code",
   "execution_count": 40,
   "metadata": {},
   "outputs": [],
   "source": [
    "import chess\n",
    "import chess.engine"
   ]
  },
  {
   "cell_type": "code",
   "execution_count": 75,
   "metadata": {},
   "outputs": [],
   "source": [
    "engineWhite = chess.engine.SimpleEngine.popen_uci(\"./Stockfish/stockfish_15_x64_avx2.exe\")\n",
    "engineWhite.configure({\"Threads\": 100, \"Skill Level\": 10})\n",
    "\n",
    "engineBlack = chess.engine.SimpleEngine.popen_uci(\"./Stockfish/stockfish_15_x64_avx2.exe\")\n",
    "engineBlack.configure({\"Threads\": 4, \"Skill Level\": 10})"
   ]
  },
  {
   "cell_type": "code",
   "execution_count": 76,
   "metadata": {},
   "outputs": [],
   "source": [
    "def game(enginewhite, engineBlack):\n",
    "    board = chess.Board()\n",
    "    while not board.is_game_over():\n",
    "        resultWh = engineWhite.play(board, chess.engine.Limit(time=0.001))\n",
    "        board.push(resultWh.move)\n",
    "        if board.is_game_over():\n",
    "            break\n",
    "\n",
    "        resultBl = engineBlack.play(board, chess.engine.Limit(time=0.001))\n",
    "        board.push(resultBl.move)\n",
    "\n",
    "    return board"
   ]
  },
  {
   "cell_type": "code",
   "execution_count": 77,
   "metadata": {},
   "outputs": [
    {
     "name": "stdout",
     "output_type": "stream",
     "text": [
      "0-1\n",
      "1-0\n",
      "1-0\n",
      "1-0\n",
      "1-0\n",
      "1-0\n",
      "1-0\n",
      "0-1\n",
      "0-1\n",
      "0-1\n",
      "1/2-1/2\n",
      "1-0\n",
      "1-0\n",
      "1-0\n",
      "1-0\n",
      "0-1\n",
      "1/2-1/2\n",
      "1-0\n",
      "1-0\n",
      "1-0\n",
      "0-1\n",
      "1-0\n",
      "1-0\n",
      "1-0\n",
      "1-0\n",
      "1-0\n",
      "1-0\n",
      "1-0\n",
      "0-1\n",
      "0-1\n",
      "1/2-1/2\n",
      "1-0\n",
      "1-0\n",
      "0-1\n",
      "1-0\n",
      "0-1\n",
      "1-0\n",
      "0-1\n",
      "0-1\n",
      "1/2-1/2\n",
      "1-0\n",
      "1-0\n",
      "1-0\n",
      "1-0\n",
      "0-1\n",
      "1/2-1/2\n",
      "0-1\n",
      "1-0\n",
      "1-0\n",
      "1-0\n",
      "1-0\n",
      "1/2-1/2\n",
      "0-1\n"
     ]
    },
    {
     "ename": "KeyboardInterrupt",
     "evalue": "",
     "output_type": "error",
     "traceback": [
      "\u001b[1;31m---------------------------------------------------------------------------\u001b[0m",
      "\u001b[1;31mKeyboardInterrupt\u001b[0m                         Traceback (most recent call last)",
      "\u001b[1;32md:\\GitHub\\Coursework-Sem5\\DBMS-Lab\\Case Study\\chessTry.ipynb Cell 4\u001b[0m in \u001b[0;36m<cell line: 1>\u001b[1;34m()\u001b[0m\n\u001b[0;32m      <a href='vscode-notebook-cell:/d%3A/GitHub/Coursework-Sem5/DBMS-Lab/Case%20Study/chessTry.ipynb#X15sZmlsZQ%3D%3D?line=0'>1</a>\u001b[0m \u001b[39mfor\u001b[39;00m i \u001b[39min\u001b[39;00m \u001b[39mrange\u001b[39m(\u001b[39m1000\u001b[39m): \n\u001b[1;32m----> <a href='vscode-notebook-cell:/d%3A/GitHub/Coursework-Sem5/DBMS-Lab/Case%20Study/chessTry.ipynb#X15sZmlsZQ%3D%3D?line=1'>2</a>\u001b[0m     board \u001b[39m=\u001b[39m game(engineWhite, engineBlack)\n\u001b[0;32m      <a href='vscode-notebook-cell:/d%3A/GitHub/Coursework-Sem5/DBMS-Lab/Case%20Study/chessTry.ipynb#X15sZmlsZQ%3D%3D?line=2'>3</a>\u001b[0m     \u001b[39mprint\u001b[39m(board\u001b[39m.\u001b[39mresult())\n",
      "\u001b[1;32md:\\GitHub\\Coursework-Sem5\\DBMS-Lab\\Case Study\\chessTry.ipynb Cell 4\u001b[0m in \u001b[0;36mgame\u001b[1;34m(enginewhite, engineBlack)\u001b[0m\n\u001b[0;32m      <a href='vscode-notebook-cell:/d%3A/GitHub/Coursework-Sem5/DBMS-Lab/Case%20Study/chessTry.ipynb#X15sZmlsZQ%3D%3D?line=5'>6</a>\u001b[0m     \u001b[39mif\u001b[39;00m board\u001b[39m.\u001b[39mis_game_over():\n\u001b[0;32m      <a href='vscode-notebook-cell:/d%3A/GitHub/Coursework-Sem5/DBMS-Lab/Case%20Study/chessTry.ipynb#X15sZmlsZQ%3D%3D?line=6'>7</a>\u001b[0m         \u001b[39mbreak\u001b[39;00m\n\u001b[1;32m----> <a href='vscode-notebook-cell:/d%3A/GitHub/Coursework-Sem5/DBMS-Lab/Case%20Study/chessTry.ipynb#X15sZmlsZQ%3D%3D?line=8'>9</a>\u001b[0m     resultBl \u001b[39m=\u001b[39m engineBlack\u001b[39m.\u001b[39;49mplay(board, chess\u001b[39m.\u001b[39;49mengine\u001b[39m.\u001b[39;49mLimit(time\u001b[39m=\u001b[39;49m\u001b[39m0.001\u001b[39;49m))\n\u001b[0;32m     <a href='vscode-notebook-cell:/d%3A/GitHub/Coursework-Sem5/DBMS-Lab/Case%20Study/chessTry.ipynb#X15sZmlsZQ%3D%3D?line=9'>10</a>\u001b[0m     board\u001b[39m.\u001b[39mpush(resultBl\u001b[39m.\u001b[39mmove)\n\u001b[0;32m     <a href='vscode-notebook-cell:/d%3A/GitHub/Coursework-Sem5/DBMS-Lab/Case%20Study/chessTry.ipynb#X15sZmlsZQ%3D%3D?line=11'>12</a>\u001b[0m \u001b[39mreturn\u001b[39;00m board\n",
      "File \u001b[1;32mc:\\Users\\orect\\miniconda3\\envs\\dbms\\lib\\site-packages\\chess\\engine.py:2781\u001b[0m, in \u001b[0;36mSimpleEngine.play\u001b[1;34m(self, board, limit, game, info, ponder, draw_offered, root_moves, options)\u001b[0m\n\u001b[0;32m   2777\u001b[0m     coro \u001b[39m=\u001b[39m asyncio\u001b[39m.\u001b[39mwait_for(\n\u001b[0;32m   2778\u001b[0m         \u001b[39mself\u001b[39m\u001b[39m.\u001b[39mprotocol\u001b[39m.\u001b[39mplay(board, limit, game\u001b[39m=\u001b[39mgame, info\u001b[39m=\u001b[39minfo, ponder\u001b[39m=\u001b[39mponder, draw_offered\u001b[39m=\u001b[39mdraw_offered, root_moves\u001b[39m=\u001b[39mroot_moves, options\u001b[39m=\u001b[39moptions),\n\u001b[0;32m   2779\u001b[0m         \u001b[39mself\u001b[39m\u001b[39m.\u001b[39m_timeout_for(limit))\n\u001b[0;32m   2780\u001b[0m     future \u001b[39m=\u001b[39m asyncio\u001b[39m.\u001b[39mrun_coroutine_threadsafe(coro, \u001b[39mself\u001b[39m\u001b[39m.\u001b[39mprotocol\u001b[39m.\u001b[39mloop)\n\u001b[1;32m-> 2781\u001b[0m \u001b[39mreturn\u001b[39;00m future\u001b[39m.\u001b[39;49mresult()\n",
      "File \u001b[1;32mc:\\Users\\orect\\miniconda3\\envs\\dbms\\lib\\concurrent\\futures\\_base.py:441\u001b[0m, in \u001b[0;36mFuture.result\u001b[1;34m(self, timeout)\u001b[0m\n\u001b[0;32m    438\u001b[0m \u001b[39melif\u001b[39;00m \u001b[39mself\u001b[39m\u001b[39m.\u001b[39m_state \u001b[39m==\u001b[39m FINISHED:\n\u001b[0;32m    439\u001b[0m     \u001b[39mreturn\u001b[39;00m \u001b[39mself\u001b[39m\u001b[39m.\u001b[39m__get_result()\n\u001b[1;32m--> 441\u001b[0m \u001b[39mself\u001b[39;49m\u001b[39m.\u001b[39;49m_condition\u001b[39m.\u001b[39;49mwait(timeout)\n\u001b[0;32m    443\u001b[0m \u001b[39mif\u001b[39;00m \u001b[39mself\u001b[39m\u001b[39m.\u001b[39m_state \u001b[39min\u001b[39;00m [CANCELLED, CANCELLED_AND_NOTIFIED]:\n\u001b[0;32m    444\u001b[0m     \u001b[39mraise\u001b[39;00m CancelledError()\n",
      "File \u001b[1;32mc:\\Users\\orect\\miniconda3\\envs\\dbms\\lib\\threading.py:320\u001b[0m, in \u001b[0;36mCondition.wait\u001b[1;34m(self, timeout)\u001b[0m\n\u001b[0;32m    318\u001b[0m \u001b[39mtry\u001b[39;00m:    \u001b[39m# restore state no matter what (e.g., KeyboardInterrupt)\u001b[39;00m\n\u001b[0;32m    319\u001b[0m     \u001b[39mif\u001b[39;00m timeout \u001b[39mis\u001b[39;00m \u001b[39mNone\u001b[39;00m:\n\u001b[1;32m--> 320\u001b[0m         waiter\u001b[39m.\u001b[39;49macquire()\n\u001b[0;32m    321\u001b[0m         gotit \u001b[39m=\u001b[39m \u001b[39mTrue\u001b[39;00m\n\u001b[0;32m    322\u001b[0m     \u001b[39melse\u001b[39;00m:\n",
      "\u001b[1;31mKeyboardInterrupt\u001b[0m: "
     ]
    }
   ],
   "source": [
    "for i in range(1000): \n",
    "    board = game(engineWhite, engineBlack)\n",
    "    print(board.result())"
   ]
  },
  {
   "cell_type": "code",
   "execution_count": 71,
   "metadata": {},
   "outputs": [
    {
     "data": {
      "text/plain": [
       "'1-0'"
      ]
     },
     "execution_count": 71,
     "metadata": {},
     "output_type": "execute_result"
    }
   ],
   "source": []
  },
  {
   "cell_type": "code",
   "execution_count": 74,
   "metadata": {},
   "outputs": [
    {
     "data": {
      "text/plain": [
       "Outcome(termination=<Termination.CHECKMATE: 1>, winner=True)"
      ]
     },
     "execution_count": 74,
     "metadata": {},
     "output_type": "execute_result"
    }
   ],
   "source": [
    "board.outcome()"
   ]
  },
  {
   "cell_type": "code",
   "execution_count": 6,
   "metadata": {},
   "outputs": [],
   "source": [
    "engineBlack.quit()\n",
    "engineWhite.quit()"
   ]
  },
  {
   "cell_type": "code",
   "execution_count": null,
   "metadata": {},
   "outputs": [],
   "source": []
  }
 ],
 "metadata": {
  "kernelspec": {
   "display_name": "Python 3.10.4 ('dbms')",
   "language": "python",
   "name": "python3"
  },
  "language_info": {
   "codemirror_mode": {
    "name": "ipython",
    "version": 3
   },
   "file_extension": ".py",
   "mimetype": "text/x-python",
   "name": "python",
   "nbconvert_exporter": "python",
   "pygments_lexer": "ipython3",
   "version": "3.10.4"
  },
  "orig_nbformat": 4,
  "vscode": {
   "interpreter": {
    "hash": "fe6733b6ea1a1cc8c8a474c8e9b92e287be752e68a7b5e4a4ee39ee605865c6d"
   }
  }
 },
 "nbformat": 4,
 "nbformat_minor": 2
}
