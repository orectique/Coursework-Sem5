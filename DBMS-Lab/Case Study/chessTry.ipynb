{
 "cells": [
  {
   "cell_type": "code",
   "execution_count": null,
   "metadata": {},
   "outputs": [],
   "source": [
    "import chess\n",
    "import chess.engine\n",
    "\n",
    "engine = chess.engine.SimpleEngine.popen_uci(r\"C:\\Users\\xxxxx\\Downloads\\stockfish_14_win_x64\\stockfish_14_win_x64_avx2.exe\")\n",
    "\n",
    "board = chess.Board()\n",
    "while not board.is_game_over():\n",
    "    result = engine.play(board, chess.engine.Limit(time=0.1))\n",
    "    board.push(result.move)\n",
    "\n",
    "engine.quit()"
   ]
  }
 ],
 "metadata": {
  "kernelspec": {
   "display_name": "Python 3.10.4 ('dbms')",
   "language": "python",
   "name": "python3"
  },
  "language_info": {
   "name": "python",
   "version": "3.10.4"
  },
  "orig_nbformat": 4,
  "vscode": {
   "interpreter": {
    "hash": "fe6733b6ea1a1cc8c8a474c8e9b92e287be752e68a7b5e4a4ee39ee605865c6d"
   }
  }
 },
 "nbformat": 4,
 "nbformat_minor": 2
}
