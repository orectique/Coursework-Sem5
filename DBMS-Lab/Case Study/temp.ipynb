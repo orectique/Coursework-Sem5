{
 "cells": [
  {
   "cell_type": "code",
   "execution_count": 1,
   "metadata": {},
   "outputs": [],
   "source": [
    "import json\n",
    "import random as rd\n",
    "import pandas as pd\n",
    "import string\n",
    "import logging"
   ]
  },
  {
   "cell_type": "code",
   "execution_count": 2,
   "metadata": {},
   "outputs": [],
   "source": [
    "dictStrengths = json.load(open('./Data Files/dictStrengths.json', 'r'))"
   ]
  },
  {
   "cell_type": "code",
   "execution_count": 3,
   "metadata": {},
   "outputs": [],
   "source": [
    "tournaments = pd.read_csv('./Data Files/tournament.csv')\n"
   ]
  },
  {
   "cell_type": "code",
   "execution_count": 5,
   "metadata": {},
   "outputs": [],
   "source": [
    "dictAccess = {}"
   ]
  },
  {
   "cell_type": "code",
   "execution_count": 6,
   "metadata": {},
   "outputs": [],
   "source": [
    "for tournament in tournaments.Tournament_ID:\n",
    "    num = rd.choice([4, 5, 6])\n",
    "    numPlayers = 2 ** num\n",
    "\n",
    "    pool = rd.sample(list(dictStrengths.keys()), k=numPlayers)\n",
    "\n",
    "    for player in pool:\n",
    "        dictAccess[player] = dictAccess.get(player, 0) + 1"
   ]
  },
  {
   "cell_type": "code",
   "execution_count": 7,
   "metadata": {},
   "outputs": [],
   "source": [
    "dictAccess = {k: v for k, v in sorted(dictAccess.items(), key=lambda item: item[1], reverse=True)}"
   ]
  },
  {
   "cell_type": "code",
   "execution_count": 9,
   "metadata": {},
   "outputs": [],
   "source": [
    "import matplotlib.pyplot as plt"
   ]
  },
  {
   "cell_type": "code",
   "execution_count": 10,
   "metadata": {},
   "outputs": [
    {
     "data": {
      "text/plain": [
       "(array([277., 419., 381., 283., 140.,  59.,  23.,  10.]),\n",
       " array([1., 2., 3., 4., 5., 6., 7., 8., 9.]),\n",
       " <BarContainer object of 8 artists>)"
      ]
     },
     "execution_count": 10,
     "metadata": {},
     "output_type": "execute_result"
    },
    {
     "data": {
      "image/png": "[encoded data removed]",
      "text/plain": [
       "<Figure size 432x288 with 1 Axes>"
      ]
     },
     "metadata": {
      "needs_background": "light"
     },
     "output_type": "display_data"
    }
   ],
   "source": [
    "plt.hist(list(dictAccess.values()), bins=range(min(dictAccess.values()), max(dictAccess.values()) + 1, 1))"
   ]
  },
  {
   "cell_type": "code",
   "execution_count": null,
   "metadata": {},
   "outputs": [],
   "source": []
  }
 ],
 "metadata": {
  "kernelspec": {
   "display_name": "Python 3.10.4 ('dbms')",
   "language": "python",
   "name": "python3"
  },
  "language_info": {
   "codemirror_mode": {
    "name": "ipython",
    "version": 3
   },
   "file_extension": ".py",
   "mimetype": "text/x-python",
   "name": "python",
   "nbconvert_exporter": "python",
   "pygments_lexer": "ipython3",
   "version": "3.10.4"
  },
  "orig_nbformat": 4,
  "vscode": {
   "interpreter": {
    "hash": "fe6733b6ea1a1cc8c8a474c8e9b92e287be752e68a7b5e4a4ee39ee605865c6d"
   }
  }
 },
 "nbformat": 4,
 "nbformat_minor": 2
}
