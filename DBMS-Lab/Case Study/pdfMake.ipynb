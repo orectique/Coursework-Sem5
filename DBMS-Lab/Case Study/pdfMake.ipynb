{
 "cells": [
  {
   "cell_type": "code",
   "execution_count": 81,
   "metadata": {},
   "outputs": [],
   "source": [
    "import pandas as pd\n",
    "\n",
    "tournaments = pd.read_csv('./Data Files/tournament.csv')\n",
    "players = pd.read_csv('./Data Files/player.csv')\n",
    "matches = pd.read_csv('./Data Files/match.csv')\n",
    "profiles = pd.read_csv('./Data Files/playerProfile.csv')\n",
    "country = pd.read_csv('./Data Files/country.csv')\n",
    "arbiter = pd.read_csv('./Data Files/arbiter.csv')"
   ]
  },
  {
   "cell_type": "code",
   "execution_count": 82,
   "metadata": {},
   "outputs": [],
   "source": [
    "import numpy as np"
   ]
  },
  {
   "cell_type": "code",
   "execution_count": 83,
   "metadata": {},
   "outputs": [],
   "source": [
    "from borb.pdf import Document\n",
    "from borb.pdf.page.page import Page\n",
    "from borb.pdf.pdf import PDF\n",
    "from borb.pdf.canvas.layout.page_layout.multi_column_layout import SingleColumnLayout\n",
    "from borb.pdf.canvas.layout.page_layout.page_layout import PageLayout\n",
    "from decimal import Decimal\n",
    "from borb.pdf.canvas.layout.image.image import Image"
   ]
  },
  {
   "cell_type": "code",
   "execution_count": 84,
   "metadata": {},
   "outputs": [],
   "source": [
    "from borb.pdf import FixedColumnWidthTable, FlexibleColumnWidthTable"
   ]
  },
  {
   "cell_type": "code",
   "execution_count": 85,
   "metadata": {},
   "outputs": [],
   "source": [
    "from borb.pdf.canvas.layout.text.paragraph import Paragraph"
   ]
  },
  {
   "cell_type": "code",
   "execution_count": 86,
   "metadata": {},
   "outputs": [],
   "source": [
    "from pathlib import Path"
   ]
  },
  {
   "cell_type": "code",
   "execution_count": 87,
   "metadata": {},
   "outputs": [],
   "source": [
    "from borb.pdf import HexColor"
   ]
  },
  {
   "cell_type": "code",
   "execution_count": 88,
   "metadata": {},
   "outputs": [],
   "source": [
    "from borb.pdf.canvas.font.simple_font.true_type_font import TrueTypeFont"
   ]
  },
  {
   "cell_type": "code",
   "execution_count": 89,
   "metadata": {},
   "outputs": [],
   "source": [
    "import requests"
   ]
  },
  {
   "cell_type": "code",
   "execution_count": 90,
   "metadata": {},
   "outputs": [],
   "source": [
    "from borb.pdf.canvas.font.font import Font\n",
    "from borb.pdf import Alignment\n",
    "from borb.pdf import TableCell"
   ]
  },
  {
   "cell_type": "code",
   "execution_count": 91,
   "metadata": {},
   "outputs": [],
   "source": [
    "font_path: Path = Path('./Assets/Fonts/Everson Mono.ttf')\n",
    "custom_font: Font = TrueTypeFont.true_type_font_from_file(font_path)"
   ]
  },
  {
   "cell_type": "code",
   "execution_count": 92,
   "metadata": {},
   "outputs": [],
   "source": [
    "imgAttrib = 'image: Flaticon.com'"
   ]
  },
  {
   "cell_type": "code",
   "execution_count": 93,
   "metadata": {},
   "outputs": [
    {
     "data": {
      "text/plain": [
       "<borb.pdf.canvas.layout.page_layout.multi_column_layout.SingleColumnLayout at 0x2891003ceb0>"
      ]
     },
     "execution_count": 93,
     "metadata": {},
     "output_type": "execute_result"
    }
   ],
   "source": [
    "pdf = Document()\n",
    "page = Page()\n",
    "\n",
    "pdf.add_page(page)\n",
    "\n",
    "layout = SingleColumnLayout(page)\n",
    "\n",
    "layout.add(    \n",
    "    Image(\n",
    "        Path('./Assets/strategy.png'),        \n",
    "    width=Decimal(128),        \n",
    "    height=Decimal(128), horizontal_alignment=Alignment.CENTERED)\n",
    "    )\n",
    "\n",
    "layout.add(Paragraph('Gambit Chess Tournament Report', font_size=22, font=custom_font, horizontal_alignment=Alignment.CENTERED))"
   ]
  },
  {
   "cell_type": "code",
   "execution_count": 94,
   "metadata": {},
   "outputs": [],
   "source": [
    "tournamentID = 'T-883-QMFJ'\n",
    "\n",
    "tournament = tournaments[tournaments['Tournament_ID'] == tournamentID]\n",
    "matchesTourn = matches[matches['Tournament_ID'] == tournamentID]\n",
    "\n",
    "tournName = tournament['Tournament_Name'].values[0]\n",
    "startDate = tournament['Start_Date'].values[0]\n",
    "endDate = tournament['End_Date'].values[0]\n",
    "winner = tournament['Winner'].values[0]\n",
    "loc = tournament['Location'].values[0]\n",
    "countryName = country[country['Country_ID'] == tournament['Country'].values[0]]['Country_Name'].values[0]"
   ]
  },
  {
   "cell_type": "code",
   "execution_count": 95,
   "metadata": {},
   "outputs": [
    {
     "data": {
      "text/plain": [
       "<borb.pdf.canvas.layout.page_layout.multi_column_layout.SingleColumnLayout at 0x2891003ceb0>"
      ]
     },
     "execution_count": 95,
     "metadata": {},
     "output_type": "execute_result"
    }
   ],
   "source": [
    "layout.add(Paragraph(''))\n",
    "layout.add(Paragraph(''))\n",
    "layout.add(Paragraph(''))\n",
    "layout.add(Paragraph(''))\n",
    "\n",
    "layout.add(Paragraph('Tournament Name: ' + tournName, font_size=14, font=custom_font))\n",
    "layout.add(Paragraph('Start Date: ' + startDate, font_size=14, font=custom_font))\n",
    "layout.add(Paragraph('End Date: ' + endDate, font_size=14, font=custom_font))\n",
    "layout.add(Paragraph('Location: ' + loc, font_size=14, font=custom_font))\n",
    "layout.add(Paragraph('Country: ' + countryName, font_size=14, font=custom_font))"
   ]
  },
  {
   "cell_type": "code",
   "execution_count": 96,
   "metadata": {},
   "outputs": [
    {
     "data": {
      "text/plain": [
       "<borb.pdf.canvas.layout.page_layout.multi_column_layout.SingleColumnLayout at 0x2890a395450>"
      ]
     },
     "execution_count": 96,
     "metadata": {},
     "output_type": "execute_result"
    }
   ],
   "source": [
    "page2 = Page()\n",
    "\n",
    "pdf.add_page(page2)\n",
    "\n",
    "layout2 = SingleColumnLayout(page2)\n",
    "\n",
    "layout2.add(Paragraph('Host', font_size=12, font=custom_font))\n",
    "layout2.add(Paragraph('Country: ' + countryName, font_size=12, font=custom_font))\n",
    "layout2.add(Paragraph('Organization: ' + country[country['Country_ID'] == tournament['Country'].values[0]]['Chess_Org'].values[0], font_size=12, font=custom_font))\n",
    "layout2.add(Paragraph('International License: ' + country[country['Country_ID'] == tournament['Country'].values[0]]['Org_License'].values[0], font_size=12, font=custom_font))\n",
    "layout2.add(Paragraph('President: ' + country[country['Country_ID'] == tournament['Country'].values[0]]['Org_President'].values[0], font_size=12, font=custom_font))\n",
    "layout2.add(Paragraph(''))\n",
    "\n",
    "layout2.add(Paragraph('Winner', font_size=12, font=custom_font))\n",
    "layout2.add(Paragraph('License: ' + winner, font_size=12, font=custom_font))\n",
    "layout2.add(Paragraph('Name: ' + players[players['Player_ID'] == winner]['Player_Name'].values[0], font_size=12, font=custom_font))\n",
    "layout2.add(Paragraph('Country: ' + country[country['Country_ID'] == players[players['Player_ID'] == winner]['Country'].values[0]]['Country_Name'].values[0], font_size=12, font=custom_font))\n",
    "layout2.add(Paragraph('Date of Birth: ' + str(players[players['Player_ID'] == winner]['DOB'].values[0]), font_size=12, font=custom_font))\n",
    "layout2.add(Paragraph('Rating: ' + str(players[players['Player_ID'] == winner]['Player_Rating'].values[0]), font_size=12, font=custom_font))\n",
    "layout2.add(Paragraph('FIDE Percentile: ' + str(players[players['Player_ID'] == winner]['FIDE_Percentile'].values[0]), font_size=12, font=custom_font))\n",
    "layout2.add(Paragraph(''))\n",
    "layout2.add(Paragraph('Achievements', font_size=12, font=custom_font))\n",
    "\n",
    "prof = profiles[profiles['Player_ID'] == winner]\n",
    "prof = prof[prof['Achievements'].astype(str) != 'nan']\n",
    "\n",
    "table = FixedColumnWidthTable(number_of_rows=len(prof) + 1, number_of_columns=3)\n",
    "\n",
    "odd_color = HexColor(\"BBBBBB\")\n",
    "even_color = HexColor(\"FFFFFF\")\n",
    "\n",
    "table.add(TableCell(Paragraph('Achievement', font_size=12, font=custom_font), background_color=odd_color, padding_top=Decimal(5), padding_left=Decimal(5)))\n",
    "table.add(TableCell(Paragraph('Year', font_size=12, font=custom_font), background_color=odd_color, padding_top=Decimal(5), padding_left=Decimal(5)))\n",
    "table.add(TableCell(Paragraph('Coach', font_size=12, font=custom_font), background_color=odd_color, padding_top=Decimal(5), padding_left=Decimal(5)))\n",
    "    \n",
    "for i in range(len(prof)):\n",
    "    c = even_color if i % 2 == 0 else odd_color\n",
    "    row = prof.iloc[i]\n",
    "    table.add(TableCell(Paragraph(row['Achievements'][:-3], font_size=10, font=custom_font), background_color=c, padding_top=Decimal(5), padding_left=Decimal(5)))\n",
    "    table.add(TableCell(Paragraph(str(row['Year']), font_size=10, font=custom_font), background_color=c, padding_top=Decimal(5), padding_left=Decimal(5)))\n",
    "    table.add(TableCell(Paragraph(row['CoachName'], font_size=10, font=custom_font), background_color=c, padding_top=Decimal(5), padding_left=Decimal(5)))\n",
    "\n",
    "layout2.add(table)\n",
    "\n",
    "layout2.add(Paragraph(''))\n",
    "layout2.add(Paragraph(''))"
   ]
  },
  {
   "cell_type": "code",
   "execution_count": 97,
   "metadata": {},
   "outputs": [],
   "source": [
    "odd_color = HexColor(\"BBBBBB\")\n",
    "even_color = HexColor(\"FFFFFF\")\n",
    "w = HexColor(\"FBEB70\")\n",
    "\n",
    "columns = ['Match ID', 'Player White', 'Player Black', 'Arbiter', 'Round']\n",
    "\n",
    "def createTable(data):\n",
    "    table = FixedColumnWidthTable(number_of_rows=len(data) + 1, number_of_columns=len(columns))\n",
    "\n",
    "    for column in columns:\n",
    "        table.add(TableCell(Paragraph(column, font_size=12, font=custom_font), background_color=odd_color, padding_top=Decimal(5), padding_left=Decimal(5)))\n",
    "\n",
    "    for i in range(len(data)):\n",
    "        c = even_color if i % 2 == 0 else odd_color\n",
    "        row = data.iloc[i]\n",
    "\n",
    "        table.add(TableCell(Paragraph(str(row['Match_ID']), font_size=8, font=custom_font), background_color=c, padding_top=Decimal(5), padding_left=Decimal(5)))\n",
    "\n",
    "        if row['Player_Black'] == row['Winner']:\n",
    "            table.add(TableCell(Paragraph(row['Player_White'], font_size=8, font=custom_font), background_color=c, padding_top=Decimal(5), padding_left=Decimal(5)))\n",
    "            table.add(TableCell(Paragraph(row['Player_Black'], font_size=8, font=custom_font), background_color=w, padding_top=Decimal(5), padding_left=Decimal(5)))\n",
    "        elif row['Player_White'] == row['Winner']:\n",
    "            table.add(TableCell(Paragraph(row['Player_White'], font_size=8, font=custom_font), background_color=w, padding_top=Decimal(5), padding_left=Decimal(5)))\n",
    "            table.add(TableCell(Paragraph(row['Player_Black'], font_size=8, font=custom_font), background_color=c, padding_top=Decimal(5), padding_left=Decimal(5)))\n",
    "\n",
    "        table.add(TableCell(Paragraph(row['Arbiter'], font_size=8, font=custom_font), background_color=c, padding_top=Decimal(5), padding_left=Decimal(5)))\n",
    "        table.add(TableCell(Paragraph(str(row['Round']), font_size=8, font=custom_font), background_color=c, padding_top=Decimal(5), padding_left=Decimal(5)))\n",
    "\n",
    "    return table\n",
    "\n",
    "def below32():\n",
    "    page3 = Page()\n",
    "\n",
    "    pdf.add_page(page3)\n",
    "\n",
    "    layout3 = SingleColumnLayout(page3)\n",
    "\n",
    "    layout3.add(Paragraph('Matches', font_size=14, font=custom_font))\n",
    "\n",
    "    layout3.add(createTable(matchesTourn))\n",
    "\n",
    "    layout3.add(Paragraph(''))\n",
    "    layout3.add(Paragraph('Note: Winner of match is highlighted', font_size=6, font=custom_font))\n",
    "    layout3.add(Paragraph('All IDs can be referenced in the appendix', font_size=6, font=custom_font))\n",
    "\n",
    "def above32():\n",
    "    page3 = Page()\n",
    "\n",
    "    pdf.add_page(page3)\n",
    "\n",
    "    layout3 = SingleColumnLayout(page3)\n",
    "\n",
    "    layout3.add(Paragraph('Matches', font_size=14, font=custom_font))\n",
    "\n",
    "    layout3.add(createTable(matchesTourn.iloc[:32]))\n",
    "\n",
    "    pageT = Page()\n",
    "\n",
    "    pdf.add_page(pageT)\n",
    "\n",
    "    layoutT = SingleColumnLayout(pageT)\n",
    "\n",
    "    layoutT.add(Paragraph('Matches - Contd.', font_size=14, font=custom_font))\n",
    "    \n",
    "    layoutT.add(createTable(matchesTourn.iloc[32:].reset_index(drop=True)))\n",
    "\n",
    "    layoutT.add(Paragraph('Note: Winner of match is highlighted', font_size=6, font=custom_font))\n",
    "    layoutT.add(Paragraph('All IDs can be referenced in the appendix', font_size=6, font=custom_font))"
   ]
  },
  {
   "cell_type": "code",
   "execution_count": 98,
   "metadata": {},
   "outputs": [],
   "source": [
    "if len(matchesTourn) > 32:\n",
    "    above32()\n",
    "else:\n",
    "    below32()"
   ]
  },
  {
   "cell_type": "code",
   "execution_count": 99,
   "metadata": {},
   "outputs": [],
   "source": [
    "page4 = Page()\n",
    "\n",
    "pdf.add_page(page4)\n",
    "\n",
    "layout4 = SingleColumnLayout(page4)\n",
    "\n",
    "layout4.add(Paragraph('Appendix', font_size=14, font=custom_font))\n",
    "\n",
    "layout4.add(Paragraph('Players', font_size=12, font=custom_font))\n",
    "\n",
    "plys = set(matchesTourn['Player_Black'].to_list() + matchesTourn['Player_White'].to_list())\n",
    "\n",
    "for ply in plys:\n",
    "    layout4.add(Paragraph(ply, font_size=8, font=custom_font, font_color=HexColor(\"FF0000\")))\n",
    "    row = players[players['Player_ID'] == ply]\n",
    "    layout4.add(Paragraph('Name: ' + row['Player_Name'].values[0], font_size=8, font=custom_font))\n",
    "    layout4.add(Paragraph('Country: ' + country[country['Country_ID'] == row['Country'].values[0]]['Country_Name'].values[0], font_size=8, font=custom_font))\n",
    "    layout4.add(Paragraph('FIDE_Percentile - Rating: ' + str(row['FIDE_Percentile'].values[0]) + ' - ' + str(row['Player_Rating'].values[0]), font_size=8, font=custom_font))\n",
    "    layout4.add(Paragraph('', font_size=8, font=custom_font))\n",
    "\n",
    "layout4.add(Paragraph(''))\n",
    "\n",
    "layout4.add(Paragraph('Arbiters', font_size=12, font=custom_font))\n",
    "\n",
    "for arb in matchesTourn['Arbiter'].unique():\n",
    "    row = arbiter[arbiter['Arbiter_ID'] == arb]\n",
    "    \n",
    "    layout4.add(Paragraph(arb + ' : ' + row['Arbiter_Name'].values[0], font_size=8, font=custom_font))\n"
   ]
  },
  {
   "cell_type": "code",
   "execution_count": 100,
   "metadata": {},
   "outputs": [],
   "source": [
    "with open('./Assets/Outs/test.pdf', 'wb') as pdfOut:\n",
    "    PDF.dumps(pdfOut, pdf)"
   ]
  }
 ],
 "metadata": {
  "kernelspec": {
   "display_name": "Python 3.10.4 ('dbms')",
   "language": "python",
   "name": "python3"
  },
  "language_info": {
   "codemirror_mode": {
    "name": "ipython",
    "version": 3
   },
   "file_extension": ".py",
   "mimetype": "text/x-python",
   "name": "python",
   "nbconvert_exporter": "python",
   "pygments_lexer": "ipython3",
   "version": "3.10.4"
  },
  "orig_nbformat": 4,
  "vscode": {
   "interpreter": {
    "hash": "fe6733b6ea1a1cc8c8a474c8e9b92e287be752e68a7b5e4a4ee39ee605865c6d"
   }
  }
 },
 "nbformat": 4,
 "nbformat_minor": 2
}
