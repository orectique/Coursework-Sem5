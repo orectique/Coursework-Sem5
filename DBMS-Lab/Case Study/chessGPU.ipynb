{
 "cells": [
  {
   "cell_type": "code",
   "execution_count": 10,
   "metadata": {},
   "outputs": [],
   "source": [
    "import chess\n",
    "import chess.engine\n",
    "\n",
    "import json\n",
    "import random as rd\n",
    "import pandas as pd\n",
    "import string\n",
    "import logging\n",
    "from numba import cuda"
   ]
  },
  {
   "cell_type": "code",
   "execution_count": 2,
   "metadata": {},
   "outputs": [],
   "source": [
    "logging.basicConfig(filename='chessMain.log', format='%(asctime)s %(message)s', filemode='w')"
   ]
  },
  {
   "cell_type": "code",
   "execution_count": 12,
   "metadata": {},
   "outputs": [],
   "source": [
    "dictStrengths = {}\n",
    "\n",
    "player = pd.read_csv('./Data Files/player.csv')\n",
    "\n",
    "for plyr in player.Player_ID:\n",
    "    dictStrengths[plyr] = rd.randint(1, 20)\n",
    "\n",
    "\n",
    "json.dump(dictStrengths, open('./Data Files/dictStrengths.json', 'w'))"
   ]
  },
  {
   "cell_type": "code",
   "execution_count": 3,
   "metadata": {},
   "outputs": [],
   "source": [
    "dictStrengths = json.load(open('./Data Files/dictStrengths.json', 'r'))"
   ]
  },
  {
   "cell_type": "code",
   "execution_count": 4,
   "metadata": {},
   "outputs": [],
   "source": [
    "tournaments = pd.read_csv('./Data Files/tournament.csv')"
   ]
  },
  {
   "cell_type": "code",
   "execution_count": 5,
   "metadata": {},
   "outputs": [],
   "source": [
    "arbiter = pd.read_csv('./Data Files/arbiter.csv')\n",
    "\n",
    "arbs = arbiter.Arbiter_ID.tolist()"
   ]
  },
  {
   "cell_type": "code",
   "execution_count": 6,
   "metadata": {},
   "outputs": [],
   "source": [
    "match = pd.DataFrame(columns=['Match_ID', 'Tournament_ID', 'Player_White', 'Player_Black', 'Winner', 'Arbiter', 'Match_Type', 'Round'])"
   ]
  },
  {
   "cell_type": "code",
   "execution_count": 7,
   "metadata": {},
   "outputs": [],
   "source": [
    "moves = pd.DataFrame(columns=['Move_ID', 'Match_ID', 'Player', 'Move_No', 'Move'])"
   ]
  },
  {
   "cell_type": "code",
   "execution_count": 8,
   "metadata": {},
   "outputs": [],
   "source": [
    "engine1 = chess.engine.SimpleEngine.popen_uci(\"./Stockfish/stockfish_15_x64_avx2.exe\")\n",
    "engine2 = chess.engine.SimpleEngine.popen_uci(\"./Stockfish/stockfish_15_x64_avx2.exe\")"
   ]
  },
  {
   "cell_type": "code",
   "execution_count": 11,
   "metadata": {},
   "outputs": [],
   "source": [
    "@cuda.jit\n",
    "def makeDF():\n",
    "    t = 1\n",
    "    for tournament in tournaments.Tournament_ID:\n",
    "        num = rd.choice([4, 5, 6])\n",
    "        numPlayers = 2 ** num\n",
    "\n",
    "        pool = rd.sample(list(dictStrengths.keys()), k=numPlayers)\n",
    "\n",
    "        m = 0\n",
    "\n",
    "        for i in range(1, num + 1):\n",
    "            poolTemp = []\n",
    "\n",
    "            for j in range(int(numPlayers/2**i)): \n",
    "                matchID = 'M-' + ''.join(rd.choice(string.digits) for i in range(3)) + '-' + ''.join(rd.choice(string.ascii_uppercase) for i in range(4))\n",
    "                matchType = 'Knockout'\n",
    "\n",
    "                players = rd.sample(pool, k=2)\n",
    "                pool.remove(players[0])\n",
    "                pool.remove(players[1])\n",
    "\n",
    "                board = chess.Board()\n",
    "                engine1.configure({'Skill Level': dictStrengths[players[0]]})\n",
    "                engine2.configure({'Skill Level': dictStrengths[players[1]]})\n",
    "\n",
    "                while not board.is_game_over():\n",
    "                    result = engine1.play(board, chess.engine.Limit(time=0.001))\n",
    "                    board.push(result.move)\n",
    "                    moveID = 'MOV' + ''.join(rd.choice(string.digits + string.ascii_uppercase) for i in range(3)) + '-' + ''.join(rd.choice(string.ascii_uppercase) for i in range(3))\n",
    "                    moves.loc[len(moves)] = [moveID, matchID, players[0], board.fullmove_number, result.move]\n",
    "                    if board.is_game_over():\n",
    "                        break\n",
    "                    result = engine2.play(board, chess.engine.Limit(time=0.001))\n",
    "                    board.push(result.move)\n",
    "                    moveID = 'MOV' + ''.join(rd.choice(string.digits + string.ascii_uppercase) for i in range(3)) + '-' + ''.join(rd.choice(string.ascii_uppercase) for i in range(3))\n",
    "                    moves.loc[len(moves)] = [moveID, matchID, players[1], board.fullmove_number, result.move]\n",
    "\n",
    "                result = board.result()\n",
    "\n",
    "                if result == '1-0':\n",
    "                    winner = players[0]\n",
    "                elif result == '0-1':\n",
    "                    winner = players[1]\n",
    "                elif result == '1/2-1/2':\n",
    "                    winner = rd.choice(players)\n",
    "\n",
    "                poolTemp.append(winner)\n",
    "\n",
    "                if i == num:\n",
    "                    matchType = 'Final'\n",
    "                    tournaments.loc[tournaments.Tournament_ID == tournament, 'Winner'] = winner\n",
    "\n",
    "                match.loc[len(match)] = [matchID, tournament, players[0], players[1], winner, rd.choice(arbs), matchType, i]\n",
    "                m += 1\n",
    "                logging.critical(msg='tournament: ' + str(t) + ' match: ' + str(m))\n",
    "\n",
    "            pool = poolTemp\n",
    "        \n",
    "        t += 1"
   ]
  },
  {
   "cell_type": "code",
   "execution_count": 20,
   "metadata": {},
   "outputs": [],
   "source": [
    "tpb = 32\n",
    "bpg = (len(tournaments) + (tpb - 1)) // tpb"
   ]
  },
  {
   "cell_type": "code",
   "execution_count": 21,
   "metadata": {},
   "outputs": [
    {
     "name": "stderr",
     "output_type": "stream",
     "text": [
      "c:\\Users\\orect\\miniconda3\\envs\\env\\lib\\site-packages\\numba\\cuda\\dispatcher.py:488: NumbaPerformanceWarning: \u001b[1mGrid size 4 will likely result in GPU under-utilization due to low occupancy.\u001b[0m\n",
      "  warn(NumbaPerformanceWarning(msg))\n"
     ]
    },
    {
     "ename": "UnsupportedError",
     "evalue": "Failed in cuda mode pipeline (step: inline calls to locally defined closures)\n\u001b[1mThe use of yield in a closure is unsupported.\n\u001b[1m\nFile \"C:\\Users\\orect\\AppData\\Local\\Temp\\ipykernel_9652\\1224329604.py\", line 36:\u001b[0m\n\u001b[1mdef makeDF():\n    <source elided>\n                    board.push(result.move)\n\u001b[1m                    moveID = 'MOV' + ''.join(rd.choice(string.digits + string.ascii_uppercase) for i in range(3)) + '-' + ''.join(rd.choice(string.ascii_uppercase) for i in range(3))\n\u001b[0m                    \u001b[1m^\u001b[0m\u001b[0m\n\u001b[0m",
     "output_type": "error",
     "traceback": [
      "\u001b[1;31m---------------------------------------------------------------------------\u001b[0m",
      "\u001b[1;31mUnsupportedError\u001b[0m                          Traceback (most recent call last)",
      "\u001b[1;32me:\\GitHub\\Coursework-Sem5\\DBMS-Lab\\Case Study\\chessGPU.ipynb Cell 12\u001b[0m in \u001b[0;36m<cell line: 1>\u001b[1;34m()\u001b[0m\n\u001b[1;32m----> <a href='vscode-notebook-cell:/e%3A/GitHub/Coursework-Sem5/DBMS-Lab/Case%20Study/chessGPU.ipynb#X14sZmlsZQ%3D%3D?line=0'>1</a>\u001b[0m makeDF[bpg, tpb]()\n",
      "File \u001b[1;32mc:\\Users\\orect\\miniconda3\\envs\\env\\lib\\site-packages\\numba\\cuda\\dispatcher.py:491\u001b[0m, in \u001b[0;36m_LaunchConfiguration.__call__\u001b[1;34m(self, *args)\u001b[0m\n\u001b[0;32m    490\u001b[0m \u001b[39mdef\u001b[39;00m \u001b[39m__call__\u001b[39m(\u001b[39mself\u001b[39m, \u001b[39m*\u001b[39margs):\n\u001b[1;32m--> 491\u001b[0m     \u001b[39mreturn\u001b[39;00m \u001b[39mself\u001b[39;49m\u001b[39m.\u001b[39;49mdispatcher\u001b[39m.\u001b[39;49mcall(args, \u001b[39mself\u001b[39;49m\u001b[39m.\u001b[39;49mgriddim, \u001b[39mself\u001b[39;49m\u001b[39m.\u001b[39;49mblockdim,\n\u001b[0;32m    492\u001b[0m                                 \u001b[39mself\u001b[39;49m\u001b[39m.\u001b[39;49mstream, \u001b[39mself\u001b[39;49m\u001b[39m.\u001b[39;49msharedmem)\n",
      "File \u001b[1;32mc:\\Users\\orect\\miniconda3\\envs\\env\\lib\\site-packages\\numba\\cuda\\dispatcher.py:625\u001b[0m, in \u001b[0;36mCUDADispatcher.call\u001b[1;34m(self, args, griddim, blockdim, stream, sharedmem)\u001b[0m\n\u001b[0;32m    623\u001b[0m     kernel \u001b[39m=\u001b[39m \u001b[39mnext\u001b[39m(\u001b[39miter\u001b[39m(\u001b[39mself\u001b[39m\u001b[39m.\u001b[39moverloads\u001b[39m.\u001b[39mvalues()))\n\u001b[0;32m    624\u001b[0m \u001b[39melse\u001b[39;00m:\n\u001b[1;32m--> 625\u001b[0m     kernel \u001b[39m=\u001b[39m _dispatcher\u001b[39m.\u001b[39;49mDispatcher\u001b[39m.\u001b[39;49m_cuda_call(\u001b[39mself\u001b[39;49m, \u001b[39m*\u001b[39;49margs)\n\u001b[0;32m    627\u001b[0m kernel\u001b[39m.\u001b[39mlaunch(args, griddim, blockdim, stream, sharedmem)\n",
      "File \u001b[1;32mc:\\Users\\orect\\miniconda3\\envs\\env\\lib\\site-packages\\numba\\cuda\\dispatcher.py:633\u001b[0m, in \u001b[0;36mCUDADispatcher._compile_for_args\u001b[1;34m(self, *args, **kws)\u001b[0m\n\u001b[0;32m    631\u001b[0m \u001b[39massert\u001b[39;00m \u001b[39mnot\u001b[39;00m kws\n\u001b[0;32m    632\u001b[0m argtypes \u001b[39m=\u001b[39m [\u001b[39mself\u001b[39m\u001b[39m.\u001b[39mtypeof_pyval(a) \u001b[39mfor\u001b[39;00m a \u001b[39min\u001b[39;00m args]\n\u001b[1;32m--> 633\u001b[0m \u001b[39mreturn\u001b[39;00m \u001b[39mself\u001b[39;49m\u001b[39m.\u001b[39;49mcompile(\u001b[39mtuple\u001b[39;49m(argtypes))\n",
      "File \u001b[1;32mc:\\Users\\orect\\miniconda3\\envs\\env\\lib\\site-packages\\numba\\cuda\\dispatcher.py:794\u001b[0m, in \u001b[0;36mCUDADispatcher.compile\u001b[1;34m(self, sig)\u001b[0m\n\u001b[0;32m    791\u001b[0m \u001b[39mif\u001b[39;00m \u001b[39mnot\u001b[39;00m \u001b[39mself\u001b[39m\u001b[39m.\u001b[39m_can_compile:\n\u001b[0;32m    792\u001b[0m     \u001b[39mraise\u001b[39;00m \u001b[39mRuntimeError\u001b[39;00m(\u001b[39m\"\u001b[39m\u001b[39mCompilation disabled\u001b[39m\u001b[39m\"\u001b[39m)\n\u001b[1;32m--> 794\u001b[0m kernel \u001b[39m=\u001b[39m _Kernel(\u001b[39mself\u001b[39m\u001b[39m.\u001b[39mpy_func, argtypes, \u001b[39m*\u001b[39m\u001b[39m*\u001b[39m\u001b[39mself\u001b[39m\u001b[39m.\u001b[39mtargetoptions)\n\u001b[0;32m    795\u001b[0m \u001b[39m# We call bind to force codegen, so that there is a cubin to cache\u001b[39;00m\n\u001b[0;32m    796\u001b[0m kernel\u001b[39m.\u001b[39mbind()\n",
      "File \u001b[1;32mc:\\Users\\orect\\miniconda3\\envs\\env\\lib\\site-packages\\numba\\core\\compiler_lock.py:35\u001b[0m, in \u001b[0;36m_CompilerLock.__call__.<locals>._acquire_compile_lock\u001b[1;34m(*args, **kwargs)\u001b[0m\n\u001b[0;32m     32\u001b[0m \u001b[39m@functools\u001b[39m\u001b[39m.\u001b[39mwraps(func)\n\u001b[0;32m     33\u001b[0m \u001b[39mdef\u001b[39;00m \u001b[39m_acquire_compile_lock\u001b[39m(\u001b[39m*\u001b[39margs, \u001b[39m*\u001b[39m\u001b[39m*\u001b[39mkwargs):\n\u001b[0;32m     34\u001b[0m     \u001b[39mwith\u001b[39;00m \u001b[39mself\u001b[39m:\n\u001b[1;32m---> 35\u001b[0m         \u001b[39mreturn\u001b[39;00m func(\u001b[39m*\u001b[39margs, \u001b[39m*\u001b[39m\u001b[39m*\u001b[39mkwargs)\n",
      "File \u001b[1;32mc:\\Users\\orect\\miniconda3\\envs\\env\\lib\\site-packages\\numba\\cuda\\dispatcher.py:75\u001b[0m, in \u001b[0;36m_Kernel.__init__\u001b[1;34m(self, py_func, argtypes, link, debug, lineinfo, inline, fastmath, extensions, max_registers, opt, device)\u001b[0m\n\u001b[0;32m     66\u001b[0m \u001b[39mself\u001b[39m\u001b[39m.\u001b[39mextensions \u001b[39m=\u001b[39m extensions \u001b[39mor\u001b[39;00m []\n\u001b[0;32m     68\u001b[0m nvvm_options \u001b[39m=\u001b[39m {\n\u001b[0;32m     69\u001b[0m     \u001b[39m'\u001b[39m\u001b[39mdebug\u001b[39m\u001b[39m'\u001b[39m: \u001b[39mself\u001b[39m\u001b[39m.\u001b[39mdebug,\n\u001b[0;32m     70\u001b[0m     \u001b[39m'\u001b[39m\u001b[39mlineinfo\u001b[39m\u001b[39m'\u001b[39m: \u001b[39mself\u001b[39m\u001b[39m.\u001b[39mlineinfo,\n\u001b[0;32m     71\u001b[0m     \u001b[39m'\u001b[39m\u001b[39mfastmath\u001b[39m\u001b[39m'\u001b[39m: fastmath,\n\u001b[0;32m     72\u001b[0m     \u001b[39m'\u001b[39m\u001b[39mopt\u001b[39m\u001b[39m'\u001b[39m: \u001b[39m3\u001b[39m \u001b[39mif\u001b[39;00m opt \u001b[39melse\u001b[39;00m \u001b[39m0\u001b[39m\n\u001b[0;32m     73\u001b[0m }\n\u001b[1;32m---> 75\u001b[0m cres \u001b[39m=\u001b[39m compile_cuda(\u001b[39mself\u001b[39;49m\u001b[39m.\u001b[39;49mpy_func, types\u001b[39m.\u001b[39;49mvoid, \u001b[39mself\u001b[39;49m\u001b[39m.\u001b[39;49margtypes,\n\u001b[0;32m     76\u001b[0m                     debug\u001b[39m=\u001b[39;49m\u001b[39mself\u001b[39;49m\u001b[39m.\u001b[39;49mdebug,\n\u001b[0;32m     77\u001b[0m                     lineinfo\u001b[39m=\u001b[39;49m\u001b[39mself\u001b[39;49m\u001b[39m.\u001b[39;49mlineinfo,\n\u001b[0;32m     78\u001b[0m                     inline\u001b[39m=\u001b[39;49minline,\n\u001b[0;32m     79\u001b[0m                     fastmath\u001b[39m=\u001b[39;49mfastmath,\n\u001b[0;32m     80\u001b[0m                     nvvm_options\u001b[39m=\u001b[39;49mnvvm_options)\n\u001b[0;32m     81\u001b[0m tgt_ctx \u001b[39m=\u001b[39m cres\u001b[39m.\u001b[39mtarget_context\n\u001b[0;32m     82\u001b[0m code \u001b[39m=\u001b[39m \u001b[39mself\u001b[39m\u001b[39m.\u001b[39mpy_func\u001b[39m.\u001b[39m\u001b[39m__code__\u001b[39m\n",
      "File \u001b[1;32mc:\\Users\\orect\\miniconda3\\envs\\env\\lib\\site-packages\\numba\\core\\compiler_lock.py:35\u001b[0m, in \u001b[0;36m_CompilerLock.__call__.<locals>._acquire_compile_lock\u001b[1;34m(*args, **kwargs)\u001b[0m\n\u001b[0;32m     32\u001b[0m \u001b[39m@functools\u001b[39m\u001b[39m.\u001b[39mwraps(func)\n\u001b[0;32m     33\u001b[0m \u001b[39mdef\u001b[39;00m \u001b[39m_acquire_compile_lock\u001b[39m(\u001b[39m*\u001b[39margs, \u001b[39m*\u001b[39m\u001b[39m*\u001b[39mkwargs):\n\u001b[0;32m     34\u001b[0m     \u001b[39mwith\u001b[39;00m \u001b[39mself\u001b[39m:\n\u001b[1;32m---> 35\u001b[0m         \u001b[39mreturn\u001b[39;00m func(\u001b[39m*\u001b[39margs, \u001b[39m*\u001b[39m\u001b[39m*\u001b[39mkwargs)\n",
      "File \u001b[1;32mc:\\Users\\orect\\miniconda3\\envs\\env\\lib\\site-packages\\numba\\cuda\\compiler.py:210\u001b[0m, in \u001b[0;36mcompile_cuda\u001b[1;34m(pyfunc, return_type, args, debug, lineinfo, inline, fastmath, nvvm_options)\u001b[0m\n\u001b[0;32m    207\u001b[0m     flags\u001b[39m.\u001b[39mnvvm_options \u001b[39m=\u001b[39m nvvm_options\n\u001b[0;32m    209\u001b[0m \u001b[39m# Run compilation pipeline\u001b[39;00m\n\u001b[1;32m--> 210\u001b[0m cres \u001b[39m=\u001b[39m compiler\u001b[39m.\u001b[39;49mcompile_extra(typingctx\u001b[39m=\u001b[39;49mtypingctx,\n\u001b[0;32m    211\u001b[0m                               targetctx\u001b[39m=\u001b[39;49mtargetctx,\n\u001b[0;32m    212\u001b[0m                               func\u001b[39m=\u001b[39;49mpyfunc,\n\u001b[0;32m    213\u001b[0m                               args\u001b[39m=\u001b[39;49margs,\n\u001b[0;32m    214\u001b[0m                               return_type\u001b[39m=\u001b[39;49mreturn_type,\n\u001b[0;32m    215\u001b[0m                               flags\u001b[39m=\u001b[39;49mflags,\n\u001b[0;32m    216\u001b[0m                               \u001b[39mlocals\u001b[39;49m\u001b[39m=\u001b[39;49m{},\n\u001b[0;32m    217\u001b[0m                               pipeline_class\u001b[39m=\u001b[39;49mCUDACompiler)\n\u001b[0;32m    219\u001b[0m library \u001b[39m=\u001b[39m cres\u001b[39m.\u001b[39mlibrary\n\u001b[0;32m    220\u001b[0m library\u001b[39m.\u001b[39mfinalize()\n",
      "File \u001b[1;32mc:\\Users\\orect\\miniconda3\\envs\\env\\lib\\site-packages\\numba\\core\\compiler.py:716\u001b[0m, in \u001b[0;36mcompile_extra\u001b[1;34m(typingctx, targetctx, func, args, return_type, flags, locals, library, pipeline_class)\u001b[0m\n\u001b[0;32m    692\u001b[0m \u001b[39m\"\"\"Compiler entry point\u001b[39;00m\n\u001b[0;32m    693\u001b[0m \n\u001b[0;32m    694\u001b[0m \u001b[39mParameter\u001b[39;00m\n\u001b[1;32m   (...)\u001b[0m\n\u001b[0;32m    712\u001b[0m \u001b[39m    compiler pipeline\u001b[39;00m\n\u001b[0;32m    713\u001b[0m \u001b[39m\"\"\"\u001b[39;00m\n\u001b[0;32m    714\u001b[0m pipeline \u001b[39m=\u001b[39m pipeline_class(typingctx, targetctx, library,\n\u001b[0;32m    715\u001b[0m                           args, return_type, flags, \u001b[39mlocals\u001b[39m)\n\u001b[1;32m--> 716\u001b[0m \u001b[39mreturn\u001b[39;00m pipeline\u001b[39m.\u001b[39;49mcompile_extra(func)\n",
      "File \u001b[1;32mc:\\Users\\orect\\miniconda3\\envs\\env\\lib\\site-packages\\numba\\core\\compiler.py:452\u001b[0m, in \u001b[0;36mCompilerBase.compile_extra\u001b[1;34m(self, func)\u001b[0m\n\u001b[0;32m    450\u001b[0m \u001b[39mself\u001b[39m\u001b[39m.\u001b[39mstate\u001b[39m.\u001b[39mlifted \u001b[39m=\u001b[39m ()\n\u001b[0;32m    451\u001b[0m \u001b[39mself\u001b[39m\u001b[39m.\u001b[39mstate\u001b[39m.\u001b[39mlifted_from \u001b[39m=\u001b[39m \u001b[39mNone\u001b[39;00m\n\u001b[1;32m--> 452\u001b[0m \u001b[39mreturn\u001b[39;00m \u001b[39mself\u001b[39;49m\u001b[39m.\u001b[39;49m_compile_bytecode()\n",
      "File \u001b[1;32mc:\\Users\\orect\\miniconda3\\envs\\env\\lib\\site-packages\\numba\\core\\compiler.py:520\u001b[0m, in \u001b[0;36mCompilerBase._compile_bytecode\u001b[1;34m(self)\u001b[0m\n\u001b[0;32m    516\u001b[0m \u001b[39m\"\"\"\u001b[39;00m\n\u001b[0;32m    517\u001b[0m \u001b[39mPopulate and run pipeline for bytecode input\u001b[39;00m\n\u001b[0;32m    518\u001b[0m \u001b[39m\"\"\"\u001b[39;00m\n\u001b[0;32m    519\u001b[0m \u001b[39massert\u001b[39;00m \u001b[39mself\u001b[39m\u001b[39m.\u001b[39mstate\u001b[39m.\u001b[39mfunc_ir \u001b[39mis\u001b[39;00m \u001b[39mNone\u001b[39;00m\n\u001b[1;32m--> 520\u001b[0m \u001b[39mreturn\u001b[39;00m \u001b[39mself\u001b[39;49m\u001b[39m.\u001b[39;49m_compile_core()\n",
      "File \u001b[1;32mc:\\Users\\orect\\miniconda3\\envs\\env\\lib\\site-packages\\numba\\core\\compiler.py:499\u001b[0m, in \u001b[0;36mCompilerBase._compile_core\u001b[1;34m(self)\u001b[0m\n\u001b[0;32m    497\u001b[0m         \u001b[39mself\u001b[39m\u001b[39m.\u001b[39mstate\u001b[39m.\u001b[39mstatus\u001b[39m.\u001b[39mfail_reason \u001b[39m=\u001b[39m e\n\u001b[0;32m    498\u001b[0m         \u001b[39mif\u001b[39;00m is_final_pipeline:\n\u001b[1;32m--> 499\u001b[0m             \u001b[39mraise\u001b[39;00m e\n\u001b[0;32m    500\u001b[0m \u001b[39melse\u001b[39;00m:\n\u001b[0;32m    501\u001b[0m     \u001b[39mraise\u001b[39;00m CompilerError(\u001b[39m\"\u001b[39m\u001b[39mAll available pipelines exhausted\u001b[39m\u001b[39m\"\u001b[39m)\n",
      "File \u001b[1;32mc:\\Users\\orect\\miniconda3\\envs\\env\\lib\\site-packages\\numba\\core\\compiler.py:486\u001b[0m, in \u001b[0;36mCompilerBase._compile_core\u001b[1;34m(self)\u001b[0m\n\u001b[0;32m    484\u001b[0m res \u001b[39m=\u001b[39m \u001b[39mNone\u001b[39;00m\n\u001b[0;32m    485\u001b[0m \u001b[39mtry\u001b[39;00m:\n\u001b[1;32m--> 486\u001b[0m     pm\u001b[39m.\u001b[39;49mrun(\u001b[39mself\u001b[39;49m\u001b[39m.\u001b[39;49mstate)\n\u001b[0;32m    487\u001b[0m     \u001b[39mif\u001b[39;00m \u001b[39mself\u001b[39m\u001b[39m.\u001b[39mstate\u001b[39m.\u001b[39mcr \u001b[39mis\u001b[39;00m \u001b[39mnot\u001b[39;00m \u001b[39mNone\u001b[39;00m:\n\u001b[0;32m    488\u001b[0m         \u001b[39mbreak\u001b[39;00m\n",
      "File \u001b[1;32mc:\\Users\\orect\\miniconda3\\envs\\env\\lib\\site-packages\\numba\\core\\compiler_machinery.py:368\u001b[0m, in \u001b[0;36mPassManager.run\u001b[1;34m(self, state)\u001b[0m\n\u001b[0;32m    365\u001b[0m msg \u001b[39m=\u001b[39m \u001b[39m\"\u001b[39m\u001b[39mFailed in \u001b[39m\u001b[39m%s\u001b[39;00m\u001b[39m mode pipeline (step: \u001b[39m\u001b[39m%s\u001b[39;00m\u001b[39m)\u001b[39m\u001b[39m\"\u001b[39m \u001b[39m%\u001b[39m \\\n\u001b[0;32m    366\u001b[0m     (\u001b[39mself\u001b[39m\u001b[39m.\u001b[39mpipeline_name, pass_desc)\n\u001b[0;32m    367\u001b[0m patched_exception \u001b[39m=\u001b[39m \u001b[39mself\u001b[39m\u001b[39m.\u001b[39m_patch_error(msg, e)\n\u001b[1;32m--> 368\u001b[0m \u001b[39mraise\u001b[39;00m patched_exception\n",
      "File \u001b[1;32mc:\\Users\\orect\\miniconda3\\envs\\env\\lib\\site-packages\\numba\\core\\compiler_machinery.py:356\u001b[0m, in \u001b[0;36mPassManager.run\u001b[1;34m(self, state)\u001b[0m\n\u001b[0;32m    354\u001b[0m pass_inst \u001b[39m=\u001b[39m _pass_registry\u001b[39m.\u001b[39mget(pss)\u001b[39m.\u001b[39mpass_inst\n\u001b[0;32m    355\u001b[0m \u001b[39mif\u001b[39;00m \u001b[39misinstance\u001b[39m(pass_inst, CompilerPass):\n\u001b[1;32m--> 356\u001b[0m     \u001b[39mself\u001b[39;49m\u001b[39m.\u001b[39;49m_runPass(idx, pass_inst, state)\n\u001b[0;32m    357\u001b[0m \u001b[39melse\u001b[39;00m:\n\u001b[0;32m    358\u001b[0m     \u001b[39mraise\u001b[39;00m \u001b[39mBaseException\u001b[39;00m(\u001b[39m\"\u001b[39m\u001b[39mLegacy pass in use\u001b[39m\u001b[39m\"\u001b[39m)\n",
      "File \u001b[1;32mc:\\Users\\orect\\miniconda3\\envs\\env\\lib\\site-packages\\numba\\core\\compiler_lock.py:35\u001b[0m, in \u001b[0;36m_CompilerLock.__call__.<locals>._acquire_compile_lock\u001b[1;34m(*args, **kwargs)\u001b[0m\n\u001b[0;32m     32\u001b[0m \u001b[39m@functools\u001b[39m\u001b[39m.\u001b[39mwraps(func)\n\u001b[0;32m     33\u001b[0m \u001b[39mdef\u001b[39;00m \u001b[39m_acquire_compile_lock\u001b[39m(\u001b[39m*\u001b[39margs, \u001b[39m*\u001b[39m\u001b[39m*\u001b[39mkwargs):\n\u001b[0;32m     34\u001b[0m     \u001b[39mwith\u001b[39;00m \u001b[39mself\u001b[39m:\n\u001b[1;32m---> 35\u001b[0m         \u001b[39mreturn\u001b[39;00m func(\u001b[39m*\u001b[39margs, \u001b[39m*\u001b[39m\u001b[39m*\u001b[39mkwargs)\n",
      "File \u001b[1;32mc:\\Users\\orect\\miniconda3\\envs\\env\\lib\\site-packages\\numba\\core\\compiler_machinery.py:311\u001b[0m, in \u001b[0;36mPassManager._runPass\u001b[1;34m(self, index, pss, internal_state)\u001b[0m\n\u001b[0;32m    309\u001b[0m     mutated \u001b[39m|\u001b[39m\u001b[39m=\u001b[39m check(pss\u001b[39m.\u001b[39mrun_initialization, internal_state)\n\u001b[0;32m    310\u001b[0m \u001b[39mwith\u001b[39;00m SimpleTimer() \u001b[39mas\u001b[39;00m pass_time:\n\u001b[1;32m--> 311\u001b[0m     mutated \u001b[39m|\u001b[39m\u001b[39m=\u001b[39m check(pss\u001b[39m.\u001b[39;49mrun_pass, internal_state)\n\u001b[0;32m    312\u001b[0m \u001b[39mwith\u001b[39;00m SimpleTimer() \u001b[39mas\u001b[39;00m finalize_time:\n\u001b[0;32m    313\u001b[0m     mutated \u001b[39m|\u001b[39m\u001b[39m=\u001b[39m check(pss\u001b[39m.\u001b[39mrun_finalizer, internal_state)\n",
      "File \u001b[1;32mc:\\Users\\orect\\miniconda3\\envs\\env\\lib\\site-packages\\numba\\core\\compiler_machinery.py:273\u001b[0m, in \u001b[0;36mPassManager._runPass.<locals>.check\u001b[1;34m(func, compiler_state)\u001b[0m\n\u001b[0;32m    272\u001b[0m \u001b[39mdef\u001b[39;00m \u001b[39mcheck\u001b[39m(func, compiler_state):\n\u001b[1;32m--> 273\u001b[0m     mangled \u001b[39m=\u001b[39m func(compiler_state)\n\u001b[0;32m    274\u001b[0m     \u001b[39mif\u001b[39;00m mangled \u001b[39mnot\u001b[39;00m \u001b[39min\u001b[39;00m (\u001b[39mTrue\u001b[39;00m, \u001b[39mFalse\u001b[39;00m):\n\u001b[0;32m    275\u001b[0m         msg \u001b[39m=\u001b[39m (\u001b[39m\"\u001b[39m\u001b[39mCompilerPass implementations should return True/False. \u001b[39m\u001b[39m\"\u001b[39m\n\u001b[0;32m    276\u001b[0m                \u001b[39m\"\u001b[39m\u001b[39mCompilerPass with name \u001b[39m\u001b[39m'\u001b[39m\u001b[39m%s\u001b[39;00m\u001b[39m'\u001b[39m\u001b[39m did not.\u001b[39m\u001b[39m\"\u001b[39m)\n",
      "File \u001b[1;32mc:\\Users\\orect\\miniconda3\\envs\\env\\lib\\site-packages\\numba\\core\\untyped_passes.py:206\u001b[0m, in \u001b[0;36mInlineClosureLikes.run_pass\u001b[1;34m(self, state)\u001b[0m\n\u001b[0;32m    200\u001b[0m \u001b[39mfrom\u001b[39;00m \u001b[39mnumba\u001b[39;00m\u001b[39m.\u001b[39;00m\u001b[39mcore\u001b[39;00m\u001b[39m.\u001b[39;00m\u001b[39minline_closurecall\u001b[39;00m \u001b[39mimport\u001b[39;00m InlineClosureCallPass\n\u001b[0;32m    201\u001b[0m inline_pass \u001b[39m=\u001b[39m InlineClosureCallPass(\n\u001b[0;32m    202\u001b[0m     state\u001b[39m.\u001b[39mfunc_ir,\n\u001b[0;32m    203\u001b[0m     state\u001b[39m.\u001b[39mflags\u001b[39m.\u001b[39mauto_parallel,\n\u001b[0;32m    204\u001b[0m     state\u001b[39m.\u001b[39mparfor_diagnostics\u001b[39m.\u001b[39mreplaced_fns,\n\u001b[0;32m    205\u001b[0m     typed_pass)\n\u001b[1;32m--> 206\u001b[0m inline_pass\u001b[39m.\u001b[39;49mrun()\n\u001b[0;32m    208\u001b[0m \u001b[39m# Remove all Dels, and re-run postproc\u001b[39;00m\n\u001b[0;32m    209\u001b[0m post_proc \u001b[39m=\u001b[39m postproc\u001b[39m.\u001b[39mPostProcessor(state\u001b[39m.\u001b[39mfunc_ir)\n",
      "File \u001b[1;32mc:\\Users\\orect\\miniconda3\\envs\\env\\lib\\site-packages\\numba\\core\\inline_closurecall.py:108\u001b[0m, in \u001b[0;36mInlineClosureCallPass.run\u001b[1;34m(self)\u001b[0m\n\u001b[0;32m    105\u001b[0m     modified \u001b[39m=\u001b[39m \u001b[39mTrue\u001b[39;00m\n\u001b[0;32m    106\u001b[0m     \u001b[39mbreak\u001b[39;00m \u001b[39m# because block structure changed\u001b[39;00m\n\u001b[1;32m--> 108\u001b[0m \u001b[39mif\u001b[39;00m guard(\u001b[39mself\u001b[39;49m\u001b[39m.\u001b[39;49m_inline_closure,\n\u001b[0;32m    109\u001b[0m         work_list, block, i, func_def):\n\u001b[0;32m    110\u001b[0m     modified \u001b[39m=\u001b[39m \u001b[39mTrue\u001b[39;00m\n\u001b[0;32m    111\u001b[0m     \u001b[39mbreak\u001b[39;00m \u001b[39m# because block structure changed\u001b[39;00m\n",
      "File \u001b[1;32mc:\\Users\\orect\\miniconda3\\envs\\env\\lib\\site-packages\\numba\\core\\ir_utils.py:1527\u001b[0m, in \u001b[0;36mguard\u001b[1;34m(func, *args, **kwargs)\u001b[0m\n\u001b[0;32m   1521\u001b[0m \u001b[39m\"\"\"\u001b[39;00m\n\u001b[0;32m   1522\u001b[0m \u001b[39mRun a function with given set of arguments, and guard against\u001b[39;00m\n\u001b[0;32m   1523\u001b[0m \u001b[39many GuardException raised by the function by returning None,\u001b[39;00m\n\u001b[0;32m   1524\u001b[0m \u001b[39mor the expected return results if no such exception was raised.\u001b[39;00m\n\u001b[0;32m   1525\u001b[0m \u001b[39m\"\"\"\u001b[39;00m\n\u001b[0;32m   1526\u001b[0m \u001b[39mtry\u001b[39;00m:\n\u001b[1;32m-> 1527\u001b[0m     \u001b[39mreturn\u001b[39;00m func(\u001b[39m*\u001b[39margs, \u001b[39m*\u001b[39m\u001b[39m*\u001b[39mkwargs)\n\u001b[0;32m   1528\u001b[0m \u001b[39mexcept\u001b[39;00m GuardException:\n\u001b[0;32m   1529\u001b[0m     \u001b[39mreturn\u001b[39;00m \u001b[39mNone\u001b[39;00m\n",
      "File \u001b[1;32mc:\\Users\\orect\\miniconda3\\envs\\env\\lib\\site-packages\\numba\\core\\inline_closurecall.py:257\u001b[0m, in \u001b[0;36mInlineClosureCallPass._inline_closure\u001b[1;34m(self, work_list, block, i, func_def)\u001b[0m\n\u001b[0;32m    254\u001b[0m \u001b[39mdef\u001b[39;00m \u001b[39m_inline_closure\u001b[39m(\u001b[39mself\u001b[39m, work_list, block, i, func_def):\n\u001b[0;32m    255\u001b[0m     require(\u001b[39misinstance\u001b[39m(func_def, ir\u001b[39m.\u001b[39mExpr) \u001b[39mand\u001b[39;00m\n\u001b[0;32m    256\u001b[0m             func_def\u001b[39m.\u001b[39mop \u001b[39m==\u001b[39m \u001b[39m\"\u001b[39m\u001b[39mmake_function\u001b[39m\u001b[39m\"\u001b[39m)\n\u001b[1;32m--> 257\u001b[0m     inline_closure_call(\u001b[39mself\u001b[39;49m\u001b[39m.\u001b[39;49mfunc_ir,\n\u001b[0;32m    258\u001b[0m                         \u001b[39mself\u001b[39;49m\u001b[39m.\u001b[39;49mfunc_ir\u001b[39m.\u001b[39;49mfunc_id\u001b[39m.\u001b[39;49mfunc\u001b[39m.\u001b[39;49m\u001b[39m__globals__\u001b[39;49m,\n\u001b[0;32m    259\u001b[0m                         block, i, func_def, work_list\u001b[39m=\u001b[39;49mwork_list,\n\u001b[0;32m    260\u001b[0m                         callee_validator\u001b[39m=\u001b[39;49mcallee_ir_validator)\n\u001b[0;32m    261\u001b[0m     \u001b[39mreturn\u001b[39;00m \u001b[39mTrue\u001b[39;00m\n",
      "File \u001b[1;32mc:\\Users\\orect\\miniconda3\\envs\\env\\lib\\site-packages\\numba\\core\\inline_closurecall.py:599\u001b[0m, in \u001b[0;36minline_closure_call\u001b[1;34m(func_ir, glbls, block, i, callee, typingctx, targetctx, arg_typs, typemap, calltypes, work_list, callee_validator, replace_freevars)\u001b[0m\n\u001b[0;32m    596\u001b[0m \u001b[39m# check that the contents of the callee IR is something that can be inlined\u001b[39;00m\n\u001b[0;32m    597\u001b[0m \u001b[39m# if a validator is supplied\u001b[39;00m\n\u001b[0;32m    598\u001b[0m \u001b[39mif\u001b[39;00m callee_validator \u001b[39mis\u001b[39;00m \u001b[39mnot\u001b[39;00m \u001b[39mNone\u001b[39;00m:\n\u001b[1;32m--> 599\u001b[0m     callee_validator(callee_ir)\n\u001b[0;32m    601\u001b[0m callee_blocks \u001b[39m=\u001b[39m callee_ir\u001b[39m.\u001b[39mblocks\n\u001b[0;32m    603\u001b[0m \u001b[39m# 1. relabel callee_ir by adding an offset\u001b[39;00m\n",
      "File \u001b[1;32mc:\\Users\\orect\\miniconda3\\envs\\env\\lib\\site-packages\\numba\\core\\inline_closurecall.py:53\u001b[0m, in \u001b[0;36mcallee_ir_validator\u001b[1;34m(func_ir)\u001b[0m\n\u001b[0;32m     51\u001b[0m \u001b[39mif\u001b[39;00m \u001b[39misinstance\u001b[39m(stmt\u001b[39m.\u001b[39mvalue, ir\u001b[39m.\u001b[39mYield):\n\u001b[0;32m     52\u001b[0m     msg \u001b[39m=\u001b[39m \u001b[39m\"\u001b[39m\u001b[39mThe use of yield in a closure is unsupported.\u001b[39m\u001b[39m\"\u001b[39m\n\u001b[1;32m---> 53\u001b[0m     \u001b[39mraise\u001b[39;00m errors\u001b[39m.\u001b[39mUnsupportedError(msg, loc\u001b[39m=\u001b[39mstmt\u001b[39m.\u001b[39mloc)\n",
      "\u001b[1;31mUnsupportedError\u001b[0m: Failed in cuda mode pipeline (step: inline calls to locally defined closures)\n\u001b[1mThe use of yield in a closure is unsupported.\n\u001b[1m\nFile \"C:\\Users\\orect\\AppData\\Local\\Temp\\ipykernel_9652\\1224329604.py\", line 36:\u001b[0m\n\u001b[1mdef makeDF():\n    <source elided>\n                    board.push(result.move)\n\u001b[1m                    moveID = 'MOV' + ''.join(rd.choice(string.digits + string.ascii_uppercase) for i in range(3)) + '-' + ''.join(rd.choice(string.ascii_uppercase) for i in range(3))\n\u001b[0m                    \u001b[1m^\u001b[0m\u001b[0m\n\u001b[0m"
     ]
    }
   ],
   "source": [
    "makeDF[bpg, tpb]()"
   ]
  },
  {
   "cell_type": "code",
   "execution_count": null,
   "metadata": {},
   "outputs": [],
   "source": [
    "match.to_csv('./Data Files/match.csv', index=False)\n",
    "moves.to_csv('./Data Files/moves.csv', index=False)"
   ]
  }
 ],
 "metadata": {
  "kernelspec": {
   "display_name": "Python 3.9.7 ('base')",
   "language": "python",
   "name": "python3"
  },
  "language_info": {
   "codemirror_mode": {
    "name": "ipython",
    "version": 3
   },
   "file_extension": ".py",
   "mimetype": "text/x-python",
   "name": "python",
   "nbconvert_exporter": "python",
   "pygments_lexer": "ipython3",
   "version": "3.9.7"
  },
  "orig_nbformat": 4,
  "vscode": {
   "interpreter": {
    "hash": "a6ae9d3c5abbe07b4a4eef03cc1aad290c4830ae64320dc0c5066ecb9bd33ac1"
   }
  }
 },
 "nbformat": 4,
 "nbformat_minor": 2
}
