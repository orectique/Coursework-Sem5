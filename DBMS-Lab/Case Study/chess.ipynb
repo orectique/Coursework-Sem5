{
 "cells": [
  {
   "cell_type": "code",
   "execution_count": 1,
   "metadata": {},
   "outputs": [],
   "source": [
    "import chess\n",
    "import chess.engine\n",
    "\n",
    "import json\n",
    "import random as rd\n",
    "import pandas as pd\n",
    "import string\n",
    "import logging"
   ]
  },
  {
   "cell_type": "code",
   "execution_count": 2,
   "metadata": {},
   "outputs": [],
   "source": [
    "logging.basicConfig(filename='chessMain.log', format='%(asctime)s %(message)s', filemode='w')"
   ]
  },
  {
   "cell_type": "code",
   "execution_count": 12,
   "metadata": {},
   "outputs": [],
   "source": [
    "dictStrengths = {}\n",
    "\n",
    "player = pd.read_csv('./Data Files/player.csv')\n",
    "\n",
    "for plyr in player.Player_ID:\n",
    "    dictStrengths[plyr] = rd.randint(1, 20)\n",
    "\n",
    "\n",
    "json.dump(dictStrengths, open('./Data Files/dictStrengths.json', 'w'))"
   ]
  },
  {
   "cell_type": "code",
   "execution_count": 3,
   "metadata": {},
   "outputs": [],
   "source": [
    "dictStrengths = json.load(open('./Data Files/dictStrengths.json', 'r'))"
   ]
  },
  {
   "cell_type": "code",
   "execution_count": 4,
   "metadata": {},
   "outputs": [],
   "source": [
    "tournaments = pd.read_csv('./Data Files/tournament.csv')"
   ]
  },
  {
   "cell_type": "code",
   "execution_count": 5,
   "metadata": {},
   "outputs": [],
   "source": [
    "arbiter = pd.read_csv('./Data Files/arbiter.csv')\n",
    "\n",
    "arbs = arbiter.Arbiter_ID.tolist()"
   ]
  },
  {
   "cell_type": "code",
   "execution_count": 6,
   "metadata": {},
   "outputs": [],
   "source": [
    "match = pd.DataFrame(columns=['Match_ID', 'Tournament_ID', 'Player_White', 'Player_Black', 'Winner', 'Arbiter', 'Match_Type', 'Round'])"
   ]
  },
  {
   "cell_type": "code",
   "execution_count": 7,
   "metadata": {},
   "outputs": [],
   "source": [
    "moves = pd.DataFrame(columns=['Move_ID', 'Match_ID', 'Player', 'Move_No', 'Move'])"
   ]
  },
  {
   "cell_type": "code",
   "execution_count": 8,
   "metadata": {},
   "outputs": [],
   "source": [
    "engine1 = chess.engine.SimpleEngine.popen_uci(\"./Stockfish/stockfish_15_x64_avx2.exe\")\n",
    "engine2 = chess.engine.SimpleEngine.popen_uci(\"./Stockfish/stockfish_15_x64_avx2.exe\")"
   ]
  },
  {
   "cell_type": "code",
   "execution_count": 9,
   "metadata": {},
   "outputs": [
    {
     "ename": "KeyboardInterrupt",
     "evalue": "",
     "output_type": "error",
     "traceback": [
      "\u001b[1;31m---------------------------------------------------------------------------\u001b[0m",
      "\u001b[1;31mKeyboardInterrupt\u001b[0m                         Traceback (most recent call last)",
      "\u001b[1;32md:\\GitHub\\Coursework-Sem5\\DBMS-Lab\\Case Study\\chess.ipynb Cell 10\u001b[0m in \u001b[0;36m<cell line: 2>\u001b[1;34m()\u001b[0m\n\u001b[0;32m     <a href='vscode-notebook-cell:/d%3A/GitHub/Coursework-Sem5/DBMS-Lab/Case%20Study/chess.ipynb#X12sZmlsZQ%3D%3D?line=32'>33</a>\u001b[0m     board\u001b[39m.\u001b[39mpush(result\u001b[39m.\u001b[39mmove)\n\u001b[0;32m     <a href='vscode-notebook-cell:/d%3A/GitHub/Coursework-Sem5/DBMS-Lab/Case%20Study/chess.ipynb#X12sZmlsZQ%3D%3D?line=33'>34</a>\u001b[0m     moveID \u001b[39m=\u001b[39m \u001b[39m'\u001b[39m\u001b[39mMOV\u001b[39m\u001b[39m'\u001b[39m \u001b[39m+\u001b[39m \u001b[39m'\u001b[39m\u001b[39m'\u001b[39m\u001b[39m.\u001b[39mjoin(rd\u001b[39m.\u001b[39mchoice(string\u001b[39m.\u001b[39mdigits \u001b[39m+\u001b[39m string\u001b[39m.\u001b[39mascii_uppercase) \u001b[39mfor\u001b[39;00m i \u001b[39min\u001b[39;00m \u001b[39mrange\u001b[39m(\u001b[39m3\u001b[39m)) \u001b[39m+\u001b[39m \u001b[39m'\u001b[39m\u001b[39m-\u001b[39m\u001b[39m'\u001b[39m \u001b[39m+\u001b[39m \u001b[39m'\u001b[39m\u001b[39m'\u001b[39m\u001b[39m.\u001b[39mjoin(rd\u001b[39m.\u001b[39mchoice(string\u001b[39m.\u001b[39mascii_uppercase) \u001b[39mfor\u001b[39;00m i \u001b[39min\u001b[39;00m \u001b[39mrange\u001b[39m(\u001b[39m3\u001b[39m))\n\u001b[1;32m---> <a href='vscode-notebook-cell:/d%3A/GitHub/Coursework-Sem5/DBMS-Lab/Case%20Study/chess.ipynb#X12sZmlsZQ%3D%3D?line=34'>35</a>\u001b[0m     moves\u001b[39m.\u001b[39mloc[\u001b[39mlen\u001b[39m(moves)] \u001b[39m=\u001b[39m [moveID, matchID, players[\u001b[39m1\u001b[39m], board\u001b[39m.\u001b[39mfullmove_number, result\u001b[39m.\u001b[39mmove]\n\u001b[0;32m     <a href='vscode-notebook-cell:/d%3A/GitHub/Coursework-Sem5/DBMS-Lab/Case%20Study/chess.ipynb#X12sZmlsZQ%3D%3D?line=36'>37</a>\u001b[0m result \u001b[39m=\u001b[39m board\u001b[39m.\u001b[39mresult()\n\u001b[0;32m     <a href='vscode-notebook-cell:/d%3A/GitHub/Coursework-Sem5/DBMS-Lab/Case%20Study/chess.ipynb#X12sZmlsZQ%3D%3D?line=38'>39</a>\u001b[0m \u001b[39mif\u001b[39;00m result \u001b[39m==\u001b[39m \u001b[39m'\u001b[39m\u001b[39m1-0\u001b[39m\u001b[39m'\u001b[39m:\n",
      "File \u001b[1;32mc:\\Users\\orect\\miniconda3\\envs\\dbms\\lib\\site-packages\\pandas\\core\\indexing.py:819\u001b[0m, in \u001b[0;36m_LocationIndexer.__setitem__\u001b[1;34m(self, key, value)\u001b[0m\n\u001b[0;32m    816\u001b[0m \u001b[39mself\u001b[39m\u001b[39m.\u001b[39m_has_valid_setitem_indexer(key)\n\u001b[0;32m    818\u001b[0m iloc \u001b[39m=\u001b[39m \u001b[39mself\u001b[39m \u001b[39mif\u001b[39;00m \u001b[39mself\u001b[39m\u001b[39m.\u001b[39mname \u001b[39m==\u001b[39m \u001b[39m\"\u001b[39m\u001b[39miloc\u001b[39m\u001b[39m\"\u001b[39m \u001b[39melse\u001b[39;00m \u001b[39mself\u001b[39m\u001b[39m.\u001b[39mobj\u001b[39m.\u001b[39miloc\n\u001b[1;32m--> 819\u001b[0m iloc\u001b[39m.\u001b[39;49m_setitem_with_indexer(indexer, value, \u001b[39mself\u001b[39;49m\u001b[39m.\u001b[39;49mname)\n",
      "File \u001b[1;32mc:\\Users\\orect\\miniconda3\\envs\\dbms\\lib\\site-packages\\pandas\\core\\indexing.py:1786\u001b[0m, in \u001b[0;36m_iLocIndexer._setitem_with_indexer\u001b[1;34m(self, indexer, value, name)\u001b[0m\n\u001b[0;32m   1783\u001b[0m     indexer, missing \u001b[39m=\u001b[39m convert_missing_indexer(indexer)\n\u001b[0;32m   1785\u001b[0m     \u001b[39mif\u001b[39;00m missing:\n\u001b[1;32m-> 1786\u001b[0m         \u001b[39mself\u001b[39;49m\u001b[39m.\u001b[39;49m_setitem_with_indexer_missing(indexer, value)\n\u001b[0;32m   1787\u001b[0m         \u001b[39mreturn\u001b[39;00m\n\u001b[0;32m   1789\u001b[0m \u001b[39mif\u001b[39;00m name \u001b[39m==\u001b[39m \u001b[39m\"\u001b[39m\u001b[39mloc\u001b[39m\u001b[39m\"\u001b[39m:\n\u001b[0;32m   1790\u001b[0m     \u001b[39m# must come after setting of missing\u001b[39;00m\n",
      "File \u001b[1;32mc:\\Users\\orect\\miniconda3\\envs\\dbms\\lib\\site-packages\\pandas\\core\\indexing.py:2179\u001b[0m, in \u001b[0;36m_iLocIndexer._setitem_with_indexer_missing\u001b[1;34m(self, indexer, value)\u001b[0m\n\u001b[0;32m   2177\u001b[0m \u001b[39melse\u001b[39;00m:\n\u001b[0;32m   2178\u001b[0m     \u001b[39mself\u001b[39m\u001b[39m.\u001b[39mobj\u001b[39m.\u001b[39m_mgr \u001b[39m=\u001b[39m \u001b[39mself\u001b[39m\u001b[39m.\u001b[39mobj\u001b[39m.\u001b[39m_append(value)\u001b[39m.\u001b[39m_mgr\n\u001b[1;32m-> 2179\u001b[0m \u001b[39mself\u001b[39;49m\u001b[39m.\u001b[39;49mobj\u001b[39m.\u001b[39;49m_maybe_update_cacher(clear\u001b[39m=\u001b[39;49m\u001b[39mTrue\u001b[39;49;00m)\n",
      "File \u001b[1;32mc:\\Users\\orect\\miniconda3\\envs\\dbms\\lib\\site-packages\\pandas\\core\\generic.py:3749\u001b[0m, in \u001b[0;36mNDFrame._maybe_update_cacher\u001b[1;34m(self, clear, verify_is_copy, inplace)\u001b[0m\n\u001b[0;32m   3744\u001b[0m     \u001b[39m\"\"\"\u001b[39;00m\n\u001b[0;32m   3745\u001b[0m \u001b[39m    Reset the cacher.\u001b[39;00m\n\u001b[0;32m   3746\u001b[0m \u001b[39m    \"\"\"\u001b[39;00m\n\u001b[0;32m   3747\u001b[0m     \u001b[39mraise\u001b[39;00m AbstractMethodError(\u001b[39mself\u001b[39m)\n\u001b[1;32m-> 3749\u001b[0m \u001b[39mdef\u001b[39;00m \u001b[39m_maybe_update_cacher\u001b[39m(\n\u001b[0;32m   3750\u001b[0m     \u001b[39mself\u001b[39m,\n\u001b[0;32m   3751\u001b[0m     clear: bool_t \u001b[39m=\u001b[39m \u001b[39mFalse\u001b[39;00m,\n\u001b[0;32m   3752\u001b[0m     verify_is_copy: bool_t \u001b[39m=\u001b[39m \u001b[39mTrue\u001b[39;00m,\n\u001b[0;32m   3753\u001b[0m     inplace: bool_t \u001b[39m=\u001b[39m \u001b[39mFalse\u001b[39;00m,\n\u001b[0;32m   3754\u001b[0m ) \u001b[39m-\u001b[39m\u001b[39m>\u001b[39m \u001b[39mNone\u001b[39;00m:\n\u001b[0;32m   3755\u001b[0m     \u001b[39m\"\"\"\u001b[39;00m\n\u001b[0;32m   3756\u001b[0m \u001b[39m    See if we need to update our parent cacher if clear, then clear our\u001b[39;00m\n\u001b[0;32m   3757\u001b[0m \u001b[39m    cache.\u001b[39;00m\n\u001b[1;32m   (...)\u001b[0m\n\u001b[0;32m   3764\u001b[0m \u001b[39m        Provide is_copy checks.\u001b[39;00m\n\u001b[0;32m   3765\u001b[0m \u001b[39m    \"\"\"\u001b[39;00m\n\u001b[0;32m   3767\u001b[0m     \u001b[39mif\u001b[39;00m verify_is_copy:\n",
      "\u001b[1;31mKeyboardInterrupt\u001b[0m: "
     ]
    }
   ],
   "source": [
    "t = 1\n",
    "for tournament in tournaments.Tournament_ID:\n",
    "    num = rd.choice([4, 5, 6])\n",
    "    numPlayers = 2 ** num\n",
    "\n",
    "    pool = rd.sample(list(dictStrengths.keys()), k=numPlayers)\n",
    "\n",
    "    m = 0\n",
    "\n",
    "    for i in range(1, num + 1):\n",
    "        poolTemp = []\n",
    "\n",
    "        for j in range(int(numPlayers/2**i)): \n",
    "            matchID = 'M-' + ''.join(rd.choice(string.digits) for i in range(3)) + '-' + ''.join(rd.choice(string.ascii_uppercase) for i in range(4))\n",
    "            matchType = 'Knockout'\n",
    "\n",
    "            players = rd.sample(pool, k=2)\n",
    "            pool.remove(players[0])\n",
    "            pool.remove(players[1])\n",
    "\n",
    "            board = chess.Board()\n",
    "            engine1.configure({'Skill Level': dictStrengths[players[0]]})\n",
    "            engine2.configure({'Skill Level': dictStrengths[players[1]]})\n",
    "\n",
    "            while not board.is_game_over():\n",
    "                result = engine1.play(board, chess.engine.Limit(time=0.001))\n",
    "                board.push(result.move)\n",
    "                moveID = 'MOV' + ''.join(rd.choice(string.digits + string.ascii_uppercase) for i in range(3)) + '-' + ''.join(rd.choice(string.ascii_uppercase) for i in range(3))\n",
    "                moves.loc[len(moves)] = [moveID, matchID, players[0], board.fullmove_number, result.move]\n",
    "                if board.is_game_over():\n",
    "                    break\n",
    "                result = engine2.play(board, chess.engine.Limit(time=0.001))\n",
    "                board.push(result.move)\n",
    "                moveID = 'MOV' + ''.join(rd.choice(string.digits + string.ascii_uppercase) for i in range(3)) + '-' + ''.join(rd.choice(string.ascii_uppercase) for i in range(3))\n",
    "                moves.loc[len(moves)] = [moveID, matchID, players[1], board.fullmove_number, result.move]\n",
    "\n",
    "            result = board.result()\n",
    "\n",
    "            if result == '1-0':\n",
    "                winner = players[0]\n",
    "            elif result == '0-1':\n",
    "                winner = players[1]\n",
    "            elif result == '1/2-1/2':\n",
    "                winner = rd.choice(players)\n",
    "\n",
    "            poolTemp.append(winner)\n",
    "\n",
    "            if i == num:\n",
    "                matchType = 'Final'\n",
    "                tournaments.loc[tournaments.Tournament_ID == tournament, 'Winner'] = winner\n",
    "\n",
    "            match.loc[len(match)] = [matchID, tournament, players[0], players[1], winner, rd.choice(arbs), matchType, i]\n",
    "            m += 1\n",
    "            logging.critical(msg='tournament: ' + str(t) + ' match: ' + str(m))\n",
    "\n",
    "        pool = poolTemp\n",
    "    \n",
    "    t += 1"
   ]
  },
  {
   "cell_type": "code",
   "execution_count": null,
   "metadata": {},
   "outputs": [],
   "source": [
    "match.to_csv('./Data Files/match.csv', index=False)\n",
    "moves.to_csv('./Data Files/moves.csv', index=False)"
   ]
  }
 ],
 "metadata": {
  "kernelspec": {
   "display_name": "Python 3.10.4 ('dbms')",
   "language": "python",
   "name": "python3"
  },
  "language_info": {
   "codemirror_mode": {
    "name": "ipython",
    "version": 3
   },
   "file_extension": ".py",
   "mimetype": "text/x-python",
   "name": "python",
   "nbconvert_exporter": "python",
   "pygments_lexer": "ipython3",
   "version": "3.10.4"
  },
  "orig_nbformat": 4,
  "vscode": {
   "interpreter": {
    "hash": "fe6733b6ea1a1cc8c8a474c8e9b92e287be752e68a7b5e4a4ee39ee605865c6d"
   }
  }
 },
 "nbformat": 4,
 "nbformat_minor": 2
}
