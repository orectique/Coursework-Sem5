{
 "cells": [
  {
   "cell_type": "code",
   "execution_count": 1,
   "metadata": {},
   "outputs": [],
   "source": [
    "import chess\n",
    "import chess.engine\n",
    "\n",
    "import json\n",
    "import random as rd\n",
    "import pandas as pd\n",
    "import string\n",
    "import logging"
   ]
  },
  {
   "cell_type": "code",
   "execution_count": 2,
   "metadata": {},
   "outputs": [],
   "source": [
    "logging.basicConfig(filename='chessMain.log', format='%(asctime)s %(message)s', filemode='w')"
   ]
  },
  {
   "cell_type": "code",
   "execution_count": 12,
   "metadata": {},
   "outputs": [],
   "source": [
    "dictStrengths = {}\n",
    "\n",
    "player = pd.read_csv('./Data Files/player.csv')\n",
    "\n",
    "for plyr in player.Player_ID:\n",
    "    dictStrengths[plyr] = rd.randint(1, 20)\n",
    "\n",
    "\n",
    "json.dump(dictStrengths, open('./Data Files/dictStrengths.json', 'w'))"
   ]
  },
  {
   "cell_type": "code",
   "execution_count": 3,
   "metadata": {},
   "outputs": [],
   "source": [
    "dictStrengths = json.load(open('./Data Files/dictStrengths.json', 'r'))"
   ]
  },
  {
   "cell_type": "code",
   "execution_count": 4,
   "metadata": {},
   "outputs": [],
   "source": [
    "tournaments = pd.read_csv('./Data Files/tournament.csv')"
   ]
  },
  {
   "cell_type": "code",
   "execution_count": 5,
   "metadata": {},
   "outputs": [],
   "source": [
    "arbiter = pd.read_csv('./Data Files/arbiter.csv')\n",
    "\n",
    "arbs = arbiter.Arbiter_ID.tolist()"
   ]
  },
  {
   "cell_type": "code",
   "execution_count": 6,
   "metadata": {},
   "outputs": [],
   "source": [
    "match = pd.DataFrame(columns=['Match_ID', 'Tournament_ID', 'Player_White', 'Player_Black', 'Winner', 'Arbiter', 'Match_Type', 'Round'])"
   ]
  },
  {
   "cell_type": "code",
   "execution_count": 7,
   "metadata": {},
   "outputs": [],
   "source": [
    "moves = pd.DataFrame(columns=['Move_ID', 'Match_ID', 'Player', 'Move_No', 'Move'])"
   ]
  },
  {
   "cell_type": "code",
   "execution_count": 8,
   "metadata": {},
   "outputs": [],
   "source": [
    "engine1 = chess.engine.SimpleEngine.popen_uci(\"./Stockfish/stockfish_15_x64_avx2.exe\")\n",
    "engine2 = chess.engine.SimpleEngine.popen_uci(\"./Stockfish/stockfish_15_x64_avx2.exe\")"
   ]
  },
  {
   "cell_type": "code",
   "execution_count": 9,
   "metadata": {},
   "outputs": [],
   "source": [
    "t = 1\n",
    "for tournament in tournaments.Tournament_ID:\n",
    "    num = rd.choice([4, 5, 6])\n",
    "    numPlayers = 2 ** num\n",
    "\n",
    "    pool = rd.sample(list(dictStrengths.keys()), k=numPlayers)\n",
    "\n",
    "    m = 0\n",
    "\n",
    "    for i in range(1, num + 1):\n",
    "        poolTemp = []\n",
    "\n",
    "        for j in range(int(numPlayers/2**i)): \n",
    "            matchID = 'M-' + ''.join(rd.choice(string.digits) for i in range(3)) + '-' + ''.join(rd.choice(string.ascii_uppercase) for i in range(4))\n",
    "            matchType = 'Knockout'\n",
    "\n",
    "            players = rd.sample(pool, k=2)\n",
    "            pool.remove(players[0])\n",
    "            pool.remove(players[1])\n",
    "\n",
    "            board = chess.Board()\n",
    "            engine1.configure({'Skill Level': dictStrengths[players[0]]})\n",
    "            engine2.configure({'Skill Level': dictStrengths[players[1]]})\n",
    "\n",
    "            while not board.is_game_over():\n",
    "                result = engine1.play(board, chess.engine.Limit(time=0.001))\n",
    "                board.push(result.move)\n",
    "                moveID = 'MOV' + ''.join(rd.choice(string.digits + string.ascii_uppercase) for i in range(3)) + '-' + ''.join(rd.choice(string.ascii_uppercase) for i in range(3))\n",
    "                moves.loc[len(moves)] = [moveID, matchID, players[0], board.fullmove_number, result.move]\n",
    "                if board.is_game_over():\n",
    "                    break\n",
    "                result = engine2.play(board, chess.engine.Limit(time=0.001))\n",
    "                board.push(result.move)\n",
    "                moveID = 'MOV' + ''.join(rd.choice(string.digits + string.ascii_uppercase) for i in range(3)) + '-' + ''.join(rd.choice(string.ascii_uppercase) for i in range(3))\n",
    "                moves.loc[len(moves)] = [moveID, matchID, players[1], board.fullmove_number, result.move]\n",
    "\n",
    "            result = board.result()\n",
    "\n",
    "            if result == '1-0':\n",
    "                winner = players[0]\n",
    "            elif result == '0-1':\n",
    "                winner = players[1]\n",
    "            elif result == '1/2-1/2':\n",
    "                winner = rd.choice(players)\n",
    "\n",
    "            poolTemp.append(winner)\n",
    "\n",
    "            if i == num:\n",
    "                matchType = 'Final'\n",
    "                tournaments.loc[tournaments.Tournament_ID == tournament, 'Winner'] = winner\n",
    "\n",
    "            match.loc[len(match)] = [matchID, tournament, players[0], players[1], winner, rd.choice(arbs), matchType, i]\n",
    "            m += 1\n",
    "            logging.critical(msg='tournament: ' + str(t) + ' match: ' + str(m))\n",
    "\n",
    "        pool = poolTemp\n",
    "    \n",
    "    t += 1"
   ]
  },
  {
   "cell_type": "code",
   "execution_count": null,
   "metadata": {},
   "outputs": [],
   "source": [
    "match.to_csv('./Data Files/match.csv', index=False)\n",
    "moves.to_csv('./Data Files/moves.csv', index=False)"
   ]
  },
  {
   "cell_type": "code",
   "execution_count": null,
   "metadata": {},
   "outputs": [],
   "source": []
  }
 ],
 "metadata": {
  "kernelspec": {
   "display_name": "Python 3.10.4 ('embolden')",
   "language": "python",
   "name": "python3"
  },
  "language_info": {
   "codemirror_mode": {
    "name": "ipython",
    "version": 3
   },
   "file_extension": ".py",
   "mimetype": "text/x-python",
   "name": "python",
   "nbconvert_exporter": "python",
   "pygments_lexer": "ipython3",
   "version": "3.10.4"
  },
  "orig_nbformat": 4,
  "vscode": {
   "interpreter": {
    "hash": "3b1ec01f1976927f649f5037681711f5fdd13c59f2b1e7f94c020b10fda531b0"
   }
  }
 },
 "nbformat": 4,
 "nbformat_minor": 2
}
