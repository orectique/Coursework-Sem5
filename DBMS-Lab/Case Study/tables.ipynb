{
 "cells": [
  {
   "cell_type": "code",
   "execution_count": 1,
   "metadata": {},
   "outputs": [],
   "source": [
    "import os\n",
    "\n",
    "try:\n",
    "    os.remove('./Dumps/chess.db')\n",
    "except FileNotFoundError:\n",
    "    pass"
   ]
  },
  {
   "cell_type": "code",
   "execution_count": 2,
   "metadata": {},
   "outputs": [],
   "source": [
    "import sqlite3"
   ]
  },
  {
   "cell_type": "code",
   "execution_count": 3,
   "metadata": {},
   "outputs": [],
   "source": [
    "conn = sqlite3.connect('./Dumps/chess.db')\n",
    "\n",
    "cur = conn.cursor()"
   ]
  },
  {
   "cell_type": "code",
   "execution_count": 13,
   "metadata": {},
   "outputs": [
    {
     "data": {
      "text/plain": [
       "<sqlite3.Cursor at 0x1e07e61be40>"
      ]
     },
     "execution_count": 13,
     "metadata": {},
     "output_type": "execute_result"
    }
   ],
   "source": [
    "createTables = '''\n",
    "    BEGIN;\n",
    "\n",
    "    CREATE TABLE IF NOT EXISTS PLAYER (\n",
    "        PLAYER_ID CHAR(10) PRIMARY KEY,\n",
    "        PLAYER_NAME VARCHAR(50) NOT NULL,\n",
    "        DOB DATE NOT NULL,\n",
    "        GENDER CHAR NOT NULL,\n",
    "        PLAYER_RATING INT NOT NULL,\n",
    "        COUNTRY CHAR(3) NOT NULL,   \n",
    "        FOREIGN KEY (COUNTRY) REFERENCES COUNTRY(COUNTRY_CODE),\n",
    "        CHECK (PLAYER_RATING >= 0)\n",
    "    );\n",
    "\n",
    "    CREATE TABLE IF NOT EXISTS COUNTRY (\n",
    "        COUNTRY_CODE CHAR(3) PRIMARY KEY,\n",
    "        COUNTRY_NAME VARCHAR(50) NOT NULL,\n",
    "        CHESS_ORG VARCHAR(50) NOT NULL,\n",
    "        ORG_LICENSE CHAR(10) NOT NULL,\n",
    "        ORG_PRESIDENT VARCHAR(50) NOT NULL\n",
    "    );\n",
    "\n",
    "    CREATE TABLE IF NOT EXISTS TOURNAMENT (\n",
    "        TOURNAMENT_ID CHAR(10) PRIMARY KEY,\n",
    "        TOURNAMENT_NAME VARCHAR(50) NOT NULL,\n",
    "        START_DATE DATE NOT NULL,\n",
    "        END_DATE DATE NOT NULL,\n",
    "        WINNER CHAR(10) NOT NULL,\n",
    "        LOCATION VARCHAR(50) NOT NULL,\n",
    "        COUNTRY CHAR(3) NOT NULL,\n",
    "        FOREIGN KEY (WINNER) REFERENCES PLAYER(PLAYER_ID),\n",
    "        FOREIGN KEY (COUNTRY) REFERENCES COUNTRY(COUNTRY_CODE),\n",
    "        CHECK (START_DATE <= END_DATE)\n",
    "    );\n",
    "\n",
    "    CREATE TABLE IF NOT EXISTS MATCHES (\n",
    "        MATCH_ID CHAR(10) PRIMARY KEY,\n",
    "        TOURNAMENT_ID CHAR(10) NOT NULL,\n",
    "        PLAYER1 CHAR(10) NOT NULL,\n",
    "        PLAYER2 CHAR(10) NOT NULL,\n",
    "        WINNER CHAR(10) NOT NULL,\n",
    "        ROUND INT NOT NULL,\n",
    "        FOREIGN KEY (TOURNAMENT_ID) REFERENCES TOURNAMENT(TOURNAMENT_ID),\n",
    "        FOREIGN KEY (PLAYER1) REFERENCES PLAYER(PLAYER_ID),\n",
    "        FOREIGN KEY (PLAYER2) REFERENCES PLAYER(PLAYER_ID),\n",
    "        FOREIGN KEY (WINNER) REFERENCES PLAYER(PLAYER_ID),\n",
    "        CHECK (PLAYER1 != PLAYER2)\n",
    "    );\n",
    "\n",
    "    CREATE TABLE IF NOT EXISTS MOVES (\n",
    "        MOVE_ID CHAR(10) PRIMARY KEY,\n",
    "        MATCH_ID CHAR(10) NOT NULL,\n",
    "        PLAYER CHAR(10) NOT NULL,\n",
    "        MOVE_NO INT NOT NULL,\n",
    "        MOVE VARCHAR(10) NOT NULL,\n",
    "        FOREIGN KEY (MATCH_ID) REFERENCES MATCHES(MATCH_ID),\n",
    "        FOREIGN KEY (PLAYER) REFERENCES PLAYER(PLAYER_ID),\n",
    "        CHECK (MOVE_NO > 0)\n",
    "    );\n",
    "\n",
    "    COMMIT;\n",
    "'''\n",
    "\n",
    "cur.executescript(createTables)"
   ]
  },
  {
   "cell_type": "code",
   "execution_count": null,
   "metadata": {},
   "outputs": [],
   "source": []
  }
 ],
 "metadata": {
  "kernelspec": {
   "display_name": "Python 3.10.4 ('dbms')",
   "language": "python",
   "name": "python3"
  },
  "language_info": {
   "codemirror_mode": {
    "name": "ipython",
    "version": 3
   },
   "file_extension": ".py",
   "mimetype": "text/x-python",
   "name": "python",
   "nbconvert_exporter": "python",
   "pygments_lexer": "ipython3",
   "version": "3.10.4"
  },
  "orig_nbformat": 4,
  "vscode": {
   "interpreter": {
    "hash": "fe6733b6ea1a1cc8c8a474c8e9b92e287be752e68a7b5e4a4ee39ee605865c6d"
   }
  }
 },
 "nbformat": 4,
 "nbformat_minor": 2
}
