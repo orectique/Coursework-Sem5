{
 "cells": [
  {
   "cell_type": "code",
   "execution_count": 1,
   "metadata": {},
   "outputs": [],
   "source": [
    "import pandas as pd"
   ]
  },
  {
   "cell_type": "code",
   "execution_count": 2,
   "metadata": {},
   "outputs": [],
   "source": [
    "tournaments = pd.read_csv('./Data Files/tournament.csv')\n",
    "matches = pd.read_csv('./Data Files/match.csv')"
   ]
  },
  {
   "cell_type": "code",
   "execution_count": 7,
   "metadata": {},
   "outputs": [],
   "source": [
    "for tournament in tournaments.Tournament_ID:\n",
    "    winner = matches[(matches['Tournament_ID'] == tournament) & (matches['Match_Type'] == 'Final')]['Winner'].values[0]\n",
    "    \n",
    "    tournaments.loc[tournaments['Tournament_ID'] == tournament, 'Winner'] = winner"
   ]
  },
  {
   "cell_type": "code",
   "execution_count": 9,
   "metadata": {},
   "outputs": [],
   "source": [
    "tournaments.to_csv('./Data Files/tournament.csv', index=False)"
   ]
  },
  {
   "cell_type": "code",
   "execution_count": 3,
   "metadata": {},
   "outputs": [],
   "source": [
    "plProfile = pd.read_csv('./Data Files/playerProfile.csv')"
   ]
  },
  {
   "cell_type": "code",
   "execution_count": 25,
   "metadata": {},
   "outputs": [],
   "source": [
    "plProfile.columns = ['Player_ID', 'Year', 'Achievements', 'CoachName']"
   ]
  },
  {
   "cell_type": "code",
   "execution_count": 20,
   "metadata": {},
   "outputs": [],
   "source": [
    "players = pd.read_csv('./Data Files/player.csv')"
   ]
  },
  {
   "cell_type": "code",
   "execution_count": 28,
   "metadata": {},
   "outputs": [],
   "source": [
    "players['Player_Rating'] = 0\n",
    "\n",
    "players['Player_Rating'] = players['Player_Rating'].astype('int')"
   ]
  },
  {
   "cell_type": "code",
   "execution_count": 4,
   "metadata": {},
   "outputs": [],
   "source": [
    "plProfile['Achievements'] = ''"
   ]
  },
  {
   "cell_type": "code",
   "execution_count": 5,
   "metadata": {},
   "outputs": [],
   "source": [
    "for tournament in tournaments.Tournament_ID:\n",
    "    winner = matches[(matches['Tournament_ID'] == tournament) & (matches['Match_Type'] == 'Final')]['Winner'].values[0]\n",
    "    plys = list(matches[(matches['Tournament_ID'] == tournament) & (matches['Match_Type'] == 'Final')][['Player_Black', 'Player_White']].values[0])\n",
    "\n",
    "    second = plys[0] if plys[1] == winner else plys[1]\n",
    "    tournamentName = tournaments[tournaments['Tournament_ID'] == tournament]['Tournament_Name'].values[0]\n",
    "    tournamentYear = tournaments[tournaments['Tournament_ID'] == tournament]['Start_Date'].values[0]\n",
    "    tournamentYear = tournamentYear.split('-')[0]\n",
    "\n",
    "    plProfile.loc[(plProfile['Player_ID'] == winner) & (plProfile['Year'] == int(tournamentYear)), 'Achievements'] += f'Winner of {tournamentName}, {tournamentYear} | '\n",
    "    plProfile.loc[(plProfile['Player_ID'] == second) & (plProfile['Year'] == int(tournamentYear)), 'Achievements'] += f'Runner-Up of {tournamentName}, {tournamentYear} | ' "
   ]
  },
  {
   "cell_type": "code",
   "execution_count": 22,
   "metadata": {},
   "outputs": [],
   "source": [
    "for match in matches.Match_ID:\n",
    "    winner = matches[matches['Match_ID'] == match]['Winner'].values[0]\n",
    "    plys = list(matches[matches['Match_ID'] == match][['Player_Black', 'Player_White']].values[0])\n",
    "\n",
    "    loser = plys[0] if plys[1] == winner else plys[1]\n",
    "\n",
    "    players.loc[players['Player_ID'] == winner, 'Player_Rating'] += 2\n",
    "    players.loc[players['Player_ID'] == loser, 'Player_Rating'] += 1"
   ]
  },
  {
   "cell_type": "code",
   "execution_count": 33,
   "metadata": {},
   "outputs": [],
   "source": [
    "for tournament in tournaments.Tournament_ID:\n",
    "    winner = matches[(matches['Tournament_ID'] == tournament) & (matches['Match_Type'] == 'Final')]['Winner'].values[0]\n",
    "    plys = list(matches[(matches['Tournament_ID'] == tournament) & (matches['Match_Type'] == 'Final')][['Player_Black', 'Player_White']].values[0])\n",
    "\n",
    "    second = plys[0] if plys[1] == winner else plys[1]\n",
    "    tournamentName = tournaments[tournaments['Tournament_ID'] == tournament]['Tournament_Name'].values[0]\n",
    "    tournamentYear = tournaments[tournaments['Tournament_ID'] == tournament]['Start_Date'].values[0]\n",
    "    tournamentYear = tournamentYear.split('-')[0]\n",
    "\n",
    "    plProfile.loc[plProfile['Player_ID'] == winner, 'Achievements'] += f'Winner of {tournamentName}, {tournamentYear} | '\n",
    "    plProfile.loc[plProfile['Player_ID'] == second, 'Achievements'] += f'Runner-Up of {tournamentName}, {tournamentYear} | '\n",
    "\n",
    "    players.loc[players['Player_ID'] == winner, 'Player_Rating'] = (players.loc[players['Player_ID'] == winner, 'Player_Rating'].values[0] + 10) * 2\n",
    "    players.loc[players['Player_ID'] == second, 'Player_Rating'] = (players.loc[players['Player_ID'] == second, 'Player_Rating'].values[0] + 5) * 2       "
   ]
  },
  {
   "cell_type": "code",
   "execution_count": 48,
   "metadata": {},
   "outputs": [],
   "source": [
    "players.columns = ['Player_ID', 'Player_Name', 'DOB', 'Gender', 'FIDE_Percentile', 'Player_Rating', 'Country']"
   ]
  },
  {
   "cell_type": "code",
   "execution_count": 50,
   "metadata": {},
   "outputs": [],
   "source": [
    "from scipy import stats"
   ]
  },
  {
   "cell_type": "code",
   "execution_count": 51,
   "metadata": {},
   "outputs": [],
   "source": [
    "players['FIDE_Percentile'] = players['Player_Rating'].apply(lambda x: stats.percentileofscore(players['Player_Rating'], x))"
   ]
  },
  {
   "cell_type": "code",
   "execution_count": 52,
   "metadata": {},
   "outputs": [
    {
     "data": {
      "text/html": [
       "<div>\n",
       "<style scoped>\n",
       "    .dataframe tbody tr th:only-of-type {\n",
       "        vertical-align: middle;\n",
       "    }\n",
       "\n",
       "    .dataframe tbody tr th {\n",
       "        vertical-align: top;\n",
       "    }\n",
       "\n",
       "    .dataframe thead th {\n",
       "        text-align: right;\n",
       "    }\n",
       "</style>\n",
       "<table border=\"1\" class=\"dataframe\">\n",
       "  <thead>\n",
       "    <tr style=\"text-align: right;\">\n",
       "      <th></th>\n",
       "      <th>Player_ID</th>\n",
       "      <th>Player_Name</th>\n",
       "      <th>DOB</th>\n",
       "      <th>Gender</th>\n",
       "      <th>FIDE_Percentile</th>\n",
       "      <th>Player_Rating</th>\n",
       "      <th>Country</th>\n",
       "    </tr>\n",
       "  </thead>\n",
       "  <tbody>\n",
       "    <tr>\n",
       "      <th>0</th>\n",
       "      <td>GD-11-MCSU</td>\n",
       "      <td>Paul Fletcher</td>\n",
       "      <td>1957-06-13</td>\n",
       "      <td>M</td>\n",
       "      <td>95.885139</td>\n",
       "      <td>20</td>\n",
       "      <td>GD</td>\n",
       "    </tr>\n",
       "    <tr>\n",
       "      <th>1</th>\n",
       "      <td>CF-73-AWDV</td>\n",
       "      <td>Kaitlyn Sweeney</td>\n",
       "      <td>1970-12-01</td>\n",
       "      <td>F</td>\n",
       "      <td>44.138544</td>\n",
       "      <td>0</td>\n",
       "      <td>CF</td>\n",
       "    </tr>\n",
       "    <tr>\n",
       "      <th>2</th>\n",
       "      <td>SL-37-GVYX</td>\n",
       "      <td>Joshua Robinson</td>\n",
       "      <td>1988-10-16</td>\n",
       "      <td>M</td>\n",
       "      <td>44.138544</td>\n",
       "      <td>0</td>\n",
       "      <td>SL</td>\n",
       "    </tr>\n",
       "    <tr>\n",
       "      <th>3</th>\n",
       "      <td>PE-42-UTAT</td>\n",
       "      <td>James Banks</td>\n",
       "      <td>1975-11-20</td>\n",
       "      <td>M</td>\n",
       "      <td>44.138544</td>\n",
       "      <td>0</td>\n",
       "      <td>PE</td>\n",
       "    </tr>\n",
       "    <tr>\n",
       "      <th>4</th>\n",
       "      <td>BN-21-NJLH</td>\n",
       "      <td>Heidi Maldonado</td>\n",
       "      <td>1963-09-10</td>\n",
       "      <td>F</td>\n",
       "      <td>44.138544</td>\n",
       "      <td>0</td>\n",
       "      <td>BN</td>\n",
       "    </tr>\n",
       "    <tr>\n",
       "      <th>...</th>\n",
       "      <td>...</td>\n",
       "      <td>...</td>\n",
       "      <td>...</td>\n",
       "      <td>...</td>\n",
       "      <td>...</td>\n",
       "      <td>...</td>\n",
       "      <td>...</td>\n",
       "    </tr>\n",
       "    <tr>\n",
       "      <th>1684</th>\n",
       "      <td>NZ-96-GZBA</td>\n",
       "      <td>Roy Atkinson</td>\n",
       "      <td>1992-01-30</td>\n",
       "      <td>M</td>\n",
       "      <td>44.138544</td>\n",
       "      <td>0</td>\n",
       "      <td>NZ</td>\n",
       "    </tr>\n",
       "    <tr>\n",
       "      <th>1685</th>\n",
       "      <td>BN-21-QJHV</td>\n",
       "      <td>Mary Stout</td>\n",
       "      <td>1956-04-12</td>\n",
       "      <td>F</td>\n",
       "      <td>44.138544</td>\n",
       "      <td>0</td>\n",
       "      <td>BN</td>\n",
       "    </tr>\n",
       "    <tr>\n",
       "      <th>1686</th>\n",
       "      <td>CM-96-CDCJ</td>\n",
       "      <td>Chelsea Parks</td>\n",
       "      <td>1966-07-07</td>\n",
       "      <td>F</td>\n",
       "      <td>44.138544</td>\n",
       "      <td>0</td>\n",
       "      <td>CM</td>\n",
       "    </tr>\n",
       "    <tr>\n",
       "      <th>1687</th>\n",
       "      <td>PG-05-XORC</td>\n",
       "      <td>Katherine Johnson</td>\n",
       "      <td>1984-04-22</td>\n",
       "      <td>F</td>\n",
       "      <td>44.138544</td>\n",
       "      <td>0</td>\n",
       "      <td>PG</td>\n",
       "    </tr>\n",
       "    <tr>\n",
       "      <th>1688</th>\n",
       "      <td>BE-95-XMPN</td>\n",
       "      <td>Kenneth Contreras</td>\n",
       "      <td>1995-03-23</td>\n",
       "      <td>M</td>\n",
       "      <td>44.138544</td>\n",
       "      <td>0</td>\n",
       "      <td>BE</td>\n",
       "    </tr>\n",
       "  </tbody>\n",
       "</table>\n",
       "<p>1689 rows × 7 columns</p>\n",
       "</div>"
      ],
      "text/plain": [
       "       Player_ID        Player_Name         DOB Gender  FIDE_Percentile  \\\n",
       "0     GD-11-MCSU      Paul Fletcher  1957-06-13      M        95.885139   \n",
       "1     CF-73-AWDV    Kaitlyn Sweeney  1970-12-01      F        44.138544   \n",
       "2     SL-37-GVYX    Joshua Robinson  1988-10-16      M        44.138544   \n",
       "3     PE-42-UTAT        James Banks  1975-11-20      M        44.138544   \n",
       "4     BN-21-NJLH    Heidi Maldonado  1963-09-10      F        44.138544   \n",
       "...          ...                ...         ...    ...              ...   \n",
       "1684  NZ-96-GZBA       Roy Atkinson  1992-01-30      M        44.138544   \n",
       "1685  BN-21-QJHV         Mary Stout  1956-04-12      F        44.138544   \n",
       "1686  CM-96-CDCJ      Chelsea Parks  1966-07-07      F        44.138544   \n",
       "1687  PG-05-XORC  Katherine Johnson  1984-04-22      F        44.138544   \n",
       "1688  BE-95-XMPN  Kenneth Contreras  1995-03-23      M        44.138544   \n",
       "\n",
       "      Player_Rating Country  \n",
       "0                20      GD  \n",
       "1                 0      CF  \n",
       "2                 0      SL  \n",
       "3                 0      PE  \n",
       "4                 0      BN  \n",
       "...             ...     ...  \n",
       "1684              0      NZ  \n",
       "1685              0      BN  \n",
       "1686              0      CM  \n",
       "1687              0      PG  \n",
       "1688              0      BE  \n",
       "\n",
       "[1689 rows x 7 columns]"
      ]
     },
     "execution_count": 52,
     "metadata": {},
     "output_type": "execute_result"
    }
   ],
   "source": [
    "players"
   ]
  },
  {
   "cell_type": "code",
   "execution_count": 6,
   "metadata": {},
   "outputs": [],
   "source": [
    "#players.to_csv('./Data Files/player.csv', index=False)\n",
    "plProfile.to_csv('./Data Files/playerProfile.csv', index=False)"
   ]
  },
  {
   "cell_type": "code",
   "execution_count": null,
   "metadata": {},
   "outputs": [],
   "source": []
  }
 ],
 "metadata": {
  "kernelspec": {
   "display_name": "Python 3.10.4 ('dbms')",
   "language": "python",
   "name": "python3"
  },
  "language_info": {
   "codemirror_mode": {
    "name": "ipython",
    "version": 3
   },
   "file_extension": ".py",
   "mimetype": "text/x-python",
   "name": "python",
   "nbconvert_exporter": "python",
   "pygments_lexer": "ipython3",
   "version": "3.10.4"
  },
  "orig_nbformat": 4,
  "vscode": {
   "interpreter": {
    "hash": "fe6733b6ea1a1cc8c8a474c8e9b92e287be752e68a7b5e4a4ee39ee605865c6d"
   }
  }
 },
 "nbformat": 4,
 "nbformat_minor": 2
}
