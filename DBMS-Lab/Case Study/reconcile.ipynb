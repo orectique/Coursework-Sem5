{
 "cells": [
  {
   "cell_type": "code",
   "execution_count": 1,
   "metadata": {},
   "outputs": [],
   "source": [
    "import pandas as pd"
   ]
  },
  {
   "cell_type": "code",
   "execution_count": 2,
   "metadata": {},
   "outputs": [],
   "source": [
    "tournaments = pd.read_csv('./Data Files/tournament.csv')\n",
    "matches = pd.read_csv('./Data Files/match.csv')"
   ]
  },
  {
   "cell_type": "code",
   "execution_count": 3,
   "metadata": {},
   "outputs": [],
   "source": [
    "for tournament in tournaments.Tournament_ID:\n",
    "    winner = matches[(matches['Tournament_ID'] == tournament) & (matches['Match_Type'] == 'Final')]['Winner'].values[0]\n",
    "    \n",
    "    tournaments.loc[tournaments['Tournament_ID'] == tournament, 'Winner'] = winner"
   ]
  },
  {
   "cell_type": "code",
   "execution_count": 4,
   "metadata": {},
   "outputs": [],
   "source": [
    "tournaments.to_csv('./Data Files/tournament.csv', index=False)"
   ]
  },
  {
   "cell_type": "code",
   "execution_count": 5,
   "metadata": {},
   "outputs": [],
   "source": [
    "plProfile = pd.read_csv('./Data Files/playerProfile.csv')"
   ]
  },
  {
   "cell_type": "code",
   "execution_count": 6,
   "metadata": {},
   "outputs": [],
   "source": [
    "plProfile.columns = ['Player_ID', 'Year', 'Achievements', 'CoachName']"
   ]
  },
  {
   "cell_type": "code",
   "execution_count": 7,
   "metadata": {},
   "outputs": [],
   "source": [
    "players = pd.read_csv('./Data Files/player.csv')"
   ]
  },
  {
   "cell_type": "code",
   "execution_count": 13,
   "metadata": {},
   "outputs": [],
   "source": [
    "players['Player_Rating'] = 0\n",
    "\n",
    "players['Player_Rating'] = players['Player_Rating'].astype('int')"
   ]
  },
  {
   "cell_type": "code",
   "execution_count": 14,
   "metadata": {},
   "outputs": [],
   "source": [
    "players['FIDE_Percentile'] = 0\n",
    "\n",
    "players['FIDE_Percentile'] = players['FIDE_Percentile'].astype('int')"
   ]
  },
  {
   "cell_type": "code",
   "execution_count": 15,
   "metadata": {},
   "outputs": [],
   "source": [
    "plProfile['Achievements'] = ''"
   ]
  },
  {
   "cell_type": "code",
   "execution_count": 16,
   "metadata": {},
   "outputs": [],
   "source": [
    "for tournament in tournaments.Tournament_ID:\n",
    "    winner = matches[(matches['Tournament_ID'] == tournament) & (matches['Match_Type'] == 'Final')]['Winner'].values[0]\n",
    "    plys = list(matches[(matches['Tournament_ID'] == tournament) & (matches['Match_Type'] == 'Final')][['Player_Black', 'Player_White']].values[0])\n",
    "\n",
    "    second = plys[0] if plys[1] == winner else plys[1]\n",
    "    tournamentName = tournaments[tournaments['Tournament_ID'] == tournament]['Tournament_Name'].values[0]\n",
    "    tournamentYear = tournaments[tournaments['Tournament_ID'] == tournament]['Start_Date'].values[0]\n",
    "    tournamentYear = tournamentYear.split('-')[0]\n",
    "\n",
    "    plProfile.loc[(plProfile['Player_ID'] == winner) & (plProfile['Year'] == int(tournamentYear)), 'Achievements'] += f'Winner of {tournamentName}, {tournamentYear} | '\n",
    "    plProfile.loc[(plProfile['Player_ID'] == second) & (plProfile['Year'] == int(tournamentYear)), 'Achievements'] += f'Runner-Up of {tournamentName}, {tournamentYear} | ' "
   ]
  },
  {
   "cell_type": "code",
   "execution_count": 19,
   "metadata": {},
   "outputs": [
    {
     "data": {
      "text/html": [
       "<div>\n",
       "<style scoped>\n",
       "    .dataframe tbody tr th:only-of-type {\n",
       "        vertical-align: middle;\n",
       "    }\n",
       "\n",
       "    .dataframe tbody tr th {\n",
       "        vertical-align: top;\n",
       "    }\n",
       "\n",
       "    .dataframe thead th {\n",
       "        text-align: right;\n",
       "    }\n",
       "</style>\n",
       "<table border=\"1\" class=\"dataframe\">\n",
       "  <thead>\n",
       "    <tr style=\"text-align: right;\">\n",
       "      <th></th>\n",
       "      <th>Player_ID</th>\n",
       "      <th>Year</th>\n",
       "      <th>Achievements</th>\n",
       "      <th>CoachName</th>\n",
       "    </tr>\n",
       "  </thead>\n",
       "  <tbody>\n",
       "    <tr>\n",
       "      <th>85</th>\n",
       "      <td>HR-92-EXFA</td>\n",
       "      <td>2010</td>\n",
       "      <td>Runner-Up of Collins LLC Chess Meet, 2010 |</td>\n",
       "      <td>Tracy Baird</td>\n",
       "    </tr>\n",
       "    <tr>\n",
       "      <th>213</th>\n",
       "      <td>CL-99-MDQK</td>\n",
       "      <td>2010</td>\n",
       "      <td>Winner of Collins LLC Chess Meet, 2010 |</td>\n",
       "      <td>Wendy Gonzalez</td>\n",
       "    </tr>\n",
       "    <tr>\n",
       "      <th>348</th>\n",
       "      <td>FM-22-VDMW</td>\n",
       "      <td>2010</td>\n",
       "      <td>Runner-Up of Johnson-Edwards Chess Trials, 201...</td>\n",
       "      <td>Elizabeth Cordova</td>\n",
       "    </tr>\n",
       "    <tr>\n",
       "      <th>447</th>\n",
       "      <td>VU-48-PERH</td>\n",
       "      <td>2010</td>\n",
       "      <td>Runner-Up of Phillips-Wright Chess Contest, 20...</td>\n",
       "      <td>Benjamin Campbell</td>\n",
       "    </tr>\n",
       "    <tr>\n",
       "      <th>468</th>\n",
       "      <td>AZ-52-BQJG</td>\n",
       "      <td>2010</td>\n",
       "      <td>Runner-Up of Johnson-Gray Chess Contest, 2010 |</td>\n",
       "      <td>John Mayo</td>\n",
       "    </tr>\n",
       "    <tr>\n",
       "      <th>...</th>\n",
       "      <td>...</td>\n",
       "      <td>...</td>\n",
       "      <td>...</td>\n",
       "      <td>...</td>\n",
       "    </tr>\n",
       "    <tr>\n",
       "      <th>19774</th>\n",
       "      <td>SN-65-MYMG</td>\n",
       "      <td>2021</td>\n",
       "      <td>Runner-Up of Conley, Schmidt and Brown Chess T...</td>\n",
       "      <td>Shawn Mitchell</td>\n",
       "    </tr>\n",
       "    <tr>\n",
       "      <th>19869</th>\n",
       "      <td>TD-90-OCEU</td>\n",
       "      <td>2021</td>\n",
       "      <td>Runner-Up of Reynolds, Griffith and Ortiz Ches...</td>\n",
       "      <td>Jason Reid</td>\n",
       "    </tr>\n",
       "    <tr>\n",
       "      <th>20009</th>\n",
       "      <td>MR-53-KAJP</td>\n",
       "      <td>2021</td>\n",
       "      <td>Winner of Reynolds, Griffith and Ortiz Chess T...</td>\n",
       "      <td>Kyle Marshall</td>\n",
       "    </tr>\n",
       "    <tr>\n",
       "      <th>20122</th>\n",
       "      <td>DE-93-JWFT</td>\n",
       "      <td>2021</td>\n",
       "      <td>Winner of Conley, Schmidt and Brown Chess Tria...</td>\n",
       "      <td>John Davis</td>\n",
       "    </tr>\n",
       "    <tr>\n",
       "      <th>20165</th>\n",
       "      <td>MX-98-ELYY</td>\n",
       "      <td>2021</td>\n",
       "      <td>Runner-Up of Steele-Villegas Chess Trials, 202...</td>\n",
       "      <td>Matthew Jordan</td>\n",
       "    </tr>\n",
       "  </tbody>\n",
       "</table>\n",
       "<p>250 rows × 4 columns</p>\n",
       "</div>"
      ],
      "text/plain": [
       "        Player_ID  Year                                       Achievements  \\\n",
       "85     HR-92-EXFA  2010       Runner-Up of Collins LLC Chess Meet, 2010 |    \n",
       "213    CL-99-MDQK  2010          Winner of Collins LLC Chess Meet, 2010 |    \n",
       "348    FM-22-VDMW  2010  Runner-Up of Johnson-Edwards Chess Trials, 201...   \n",
       "447    VU-48-PERH  2010  Runner-Up of Phillips-Wright Chess Contest, 20...   \n",
       "468    AZ-52-BQJG  2010   Runner-Up of Johnson-Gray Chess Contest, 2010 |    \n",
       "...           ...   ...                                                ...   \n",
       "19774  SN-65-MYMG  2021  Runner-Up of Conley, Schmidt and Brown Chess T...   \n",
       "19869  TD-90-OCEU  2021  Runner-Up of Reynolds, Griffith and Ortiz Ches...   \n",
       "20009  MR-53-KAJP  2021  Winner of Reynolds, Griffith and Ortiz Chess T...   \n",
       "20122  DE-93-JWFT  2021  Winner of Conley, Schmidt and Brown Chess Tria...   \n",
       "20165  MX-98-ELYY  2021  Runner-Up of Steele-Villegas Chess Trials, 202...   \n",
       "\n",
       "               CoachName  \n",
       "85           Tracy Baird  \n",
       "213       Wendy Gonzalez  \n",
       "348    Elizabeth Cordova  \n",
       "447    Benjamin Campbell  \n",
       "468            John Mayo  \n",
       "...                  ...  \n",
       "19774     Shawn Mitchell  \n",
       "19869         Jason Reid  \n",
       "20009      Kyle Marshall  \n",
       "20122         John Davis  \n",
       "20165     Matthew Jordan  \n",
       "\n",
       "[250 rows x 4 columns]"
      ]
     },
     "execution_count": 19,
     "metadata": {},
     "output_type": "execute_result"
    }
   ],
   "source": [
    "plProfile[plProfile['Achievements'] != '']"
   ]
  },
  {
   "cell_type": "code",
   "execution_count": 20,
   "metadata": {},
   "outputs": [],
   "source": [
    "for match in matches.Match_ID:\n",
    "    winner = matches[matches['Match_ID'] == match]['Winner'].values[0]\n",
    "    plys = list(matches[matches['Match_ID'] == match][['Player_Black', 'Player_White']].values[0])\n",
    "\n",
    "    loser = plys[0] if plys[1] == winner else plys[1]\n",
    "\n",
    "    players.loc[players['Player_ID'] == winner, 'Player_Rating'] += 2\n",
    "    players.loc[players['Player_ID'] == loser, 'Player_Rating'] += 1"
   ]
  },
  {
   "cell_type": "code",
   "execution_count": 22,
   "metadata": {},
   "outputs": [],
   "source": [
    "import matplotlib.pyplot as plt"
   ]
  },
  {
   "cell_type": "code",
   "execution_count": 23,
   "metadata": {},
   "outputs": [
    {
     "data": {
      "text/plain": [
       "(array([108., 131., 119., 121., 128., 113., 107.,  82., 102.,  72.,  94.,\n",
       "         75.,  65.,  59.,  46.,  39.,  25.,  32.,  27.,  18.,  19.,  19.,\n",
       "         10.,   7.,  10.,  13.,   5.,   3.,   3.,   8.,   3.,   5.,   2.,\n",
       "          3.,   2.,   3.,   0.,   0.,   1.,   1.,   0.,   2.,   0.,   1.,\n",
       "          0.,   0.,   0.,   0.,   0.,   1.,   0.,   0.,   2.,   1.,   0.,\n",
       "          0.,   0.,   0.,   0.,   1.,   1.]),\n",
       " array([ 0.,  1.,  2.,  3.,  4.,  5.,  6.,  7.,  8.,  9., 10., 11., 12.,\n",
       "        13., 14., 15., 16., 17., 18., 19., 20., 21., 22., 23., 24., 25.,\n",
       "        26., 27., 28., 29., 30., 31., 32., 33., 34., 35., 36., 37., 38.,\n",
       "        39., 40., 41., 42., 43., 44., 45., 46., 47., 48., 49., 50., 51.,\n",
       "        52., 53., 54., 55., 56., 57., 58., 59., 60., 61.]),\n",
       " <BarContainer object of 61 artists>)"
      ]
     },
     "execution_count": 23,
     "metadata": {},
     "output_type": "execute_result"
    },
    {
     "data": {
      "image/png": "[encoded data removed]",
      "text/plain": [
       "<Figure size 432x288 with 1 Axes>"
      ]
     },
     "metadata": {
      "needs_background": "light"
     },
     "output_type": "display_data"
    }
   ],
   "source": [
    "plt.hist(players['Player_Rating'], bins = range(min(players['Player_Rating']), max(players['Player_Rating']) + 1, 1))"
   ]
  },
  {
   "cell_type": "code",
   "execution_count": 24,
   "metadata": {},
   "outputs": [],
   "source": [
    "for tournament in tournaments.Tournament_ID:\n",
    "    winner = matches[(matches['Tournament_ID'] == tournament) & (matches['Match_Type'] == 'Final')]['Winner'].values[0]\n",
    "    plys = list(matches[(matches['Tournament_ID'] == tournament) & (matches['Match_Type'] == 'Final')][['Player_Black', 'Player_White']].values[0])\n",
    "\n",
    "    second = plys[0] if plys[1] == winner else plys[1]\n",
    "\n",
    "    players.loc[players['Player_ID'] == winner, 'Player_Rating'] = (players.loc[players['Player_ID'] == winner, 'Player_Rating'].values[0] + 10) * 2\n",
    "    players.loc[players['Player_ID'] == second, 'Player_Rating'] = (players.loc[players['Player_ID'] == second, 'Player_Rating'].values[0] + 5) * 2       "
   ]
  },
  {
   "cell_type": "code",
   "execution_count": 25,
   "metadata": {},
   "outputs": [
    {
     "data": {
      "text/plain": [
       "(array([108., 131., 119., ...,   0.,   0.,   1.]),\n",
       " array([0.000e+00, 1.000e+00, 2.000e+00, ..., 2.426e+03, 2.427e+03,\n",
       "        2.428e+03]),\n",
       " <BarContainer object of 2428 artists>)"
      ]
     },
     "execution_count": 25,
     "metadata": {},
     "output_type": "execute_result"
    },
    {
     "data": {
      "image/png": "[encoded data removed]",
      "text/plain": [
       "<Figure size 432x288 with 1 Axes>"
      ]
     },
     "metadata": {
      "needs_background": "light"
     },
     "output_type": "display_data"
    }
   ],
   "source": [
    "plt.hist(players['Player_Rating'], bins = range(min(players['Player_Rating']), max(players['Player_Rating']) + 1, 1))"
   ]
  },
  {
   "cell_type": "code",
   "execution_count": 26,
   "metadata": {},
   "outputs": [
    {
     "data": {
      "text/html": [
       "<div>\n",
       "<style scoped>\n",
       "    .dataframe tbody tr th:only-of-type {\n",
       "        vertical-align: middle;\n",
       "    }\n",
       "\n",
       "    .dataframe tbody tr th {\n",
       "        vertical-align: top;\n",
       "    }\n",
       "\n",
       "    .dataframe thead th {\n",
       "        text-align: right;\n",
       "    }\n",
       "</style>\n",
       "<table border=\"1\" class=\"dataframe\">\n",
       "  <thead>\n",
       "    <tr style=\"text-align: right;\">\n",
       "      <th></th>\n",
       "      <th>Player_ID</th>\n",
       "      <th>Player_Name</th>\n",
       "      <th>DOB</th>\n",
       "      <th>Gender</th>\n",
       "      <th>FIDE_Percentile</th>\n",
       "      <th>Player_Rating</th>\n",
       "      <th>Country</th>\n",
       "    </tr>\n",
       "  </thead>\n",
       "  <tbody>\n",
       "    <tr>\n",
       "      <th>47</th>\n",
       "      <td>KG-63-NPRU</td>\n",
       "      <td>Jeffery Frazier</td>\n",
       "      <td>1966-11-20</td>\n",
       "      <td>M</td>\n",
       "      <td>0</td>\n",
       "      <td>0</td>\n",
       "      <td>KG</td>\n",
       "    </tr>\n",
       "    <tr>\n",
       "      <th>56</th>\n",
       "      <td>NO-72-SVLU</td>\n",
       "      <td>Samuel Moore</td>\n",
       "      <td>1983-09-06</td>\n",
       "      <td>M</td>\n",
       "      <td>0</td>\n",
       "      <td>0</td>\n",
       "      <td>NO</td>\n",
       "    </tr>\n",
       "    <tr>\n",
       "      <th>67</th>\n",
       "      <td>IT-59-BTTN</td>\n",
       "      <td>Andres Williams</td>\n",
       "      <td>1970-10-19</td>\n",
       "      <td>M</td>\n",
       "      <td>0</td>\n",
       "      <td>0</td>\n",
       "      <td>IT</td>\n",
       "    </tr>\n",
       "    <tr>\n",
       "      <th>68</th>\n",
       "      <td>NE-62-IHMM</td>\n",
       "      <td>Patrick Smith</td>\n",
       "      <td>1980-10-20</td>\n",
       "      <td>M</td>\n",
       "      <td>0</td>\n",
       "      <td>0</td>\n",
       "      <td>NE</td>\n",
       "    </tr>\n",
       "    <tr>\n",
       "      <th>83</th>\n",
       "      <td>TJ-06-ATOI</td>\n",
       "      <td>Maureen Lowe</td>\n",
       "      <td>1980-09-28</td>\n",
       "      <td>F</td>\n",
       "      <td>0</td>\n",
       "      <td>0</td>\n",
       "      <td>TJ</td>\n",
       "    </tr>\n",
       "    <tr>\n",
       "      <th>...</th>\n",
       "      <td>...</td>\n",
       "      <td>...</td>\n",
       "      <td>...</td>\n",
       "      <td>...</td>\n",
       "      <td>...</td>\n",
       "      <td>...</td>\n",
       "      <td>...</td>\n",
       "    </tr>\n",
       "    <tr>\n",
       "      <th>1574</th>\n",
       "      <td>CV-05-CPVI</td>\n",
       "      <td>Victor Harris</td>\n",
       "      <td>1964-02-29</td>\n",
       "      <td>M</td>\n",
       "      <td>0</td>\n",
       "      <td>0</td>\n",
       "      <td>CV</td>\n",
       "    </tr>\n",
       "    <tr>\n",
       "      <th>1580</th>\n",
       "      <td>KP-33-QAPQ</td>\n",
       "      <td>Sarah Cunningham</td>\n",
       "      <td>1993-08-19</td>\n",
       "      <td>F</td>\n",
       "      <td>0</td>\n",
       "      <td>0</td>\n",
       "      <td>KP</td>\n",
       "    </tr>\n",
       "    <tr>\n",
       "      <th>1605</th>\n",
       "      <td>FR-92-EJDA</td>\n",
       "      <td>Aaron Small</td>\n",
       "      <td>1973-08-29</td>\n",
       "      <td>M</td>\n",
       "      <td>0</td>\n",
       "      <td>0</td>\n",
       "      <td>FR</td>\n",
       "    </tr>\n",
       "    <tr>\n",
       "      <th>1648</th>\n",
       "      <td>TW-56-WHNA</td>\n",
       "      <td>David Hall</td>\n",
       "      <td>1993-02-06</td>\n",
       "      <td>M</td>\n",
       "      <td>0</td>\n",
       "      <td>0</td>\n",
       "      <td>TW</td>\n",
       "    </tr>\n",
       "    <tr>\n",
       "      <th>1652</th>\n",
       "      <td>KW-24-EJNZ</td>\n",
       "      <td>Erica Gonzalez</td>\n",
       "      <td>1998-11-09</td>\n",
       "      <td>F</td>\n",
       "      <td>0</td>\n",
       "      <td>0</td>\n",
       "      <td>KW</td>\n",
       "    </tr>\n",
       "  </tbody>\n",
       "</table>\n",
       "<p>108 rows × 7 columns</p>\n",
       "</div>"
      ],
      "text/plain": [
       "       Player_ID       Player_Name         DOB Gender  FIDE_Percentile  \\\n",
       "47    KG-63-NPRU   Jeffery Frazier  1966-11-20      M                0   \n",
       "56    NO-72-SVLU      Samuel Moore  1983-09-06      M                0   \n",
       "67    IT-59-BTTN   Andres Williams  1970-10-19      M                0   \n",
       "68    NE-62-IHMM     Patrick Smith  1980-10-20      M                0   \n",
       "83    TJ-06-ATOI      Maureen Lowe  1980-09-28      F                0   \n",
       "...          ...               ...         ...    ...              ...   \n",
       "1574  CV-05-CPVI     Victor Harris  1964-02-29      M                0   \n",
       "1580  KP-33-QAPQ  Sarah Cunningham  1993-08-19      F                0   \n",
       "1605  FR-92-EJDA       Aaron Small  1973-08-29      M                0   \n",
       "1648  TW-56-WHNA        David Hall  1993-02-06      M                0   \n",
       "1652  KW-24-EJNZ    Erica Gonzalez  1998-11-09      F                0   \n",
       "\n",
       "      Player_Rating Country  \n",
       "47                0      KG  \n",
       "56                0      NO  \n",
       "67                0      IT  \n",
       "68                0      NE  \n",
       "83                0      TJ  \n",
       "...             ...     ...  \n",
       "1574              0      CV  \n",
       "1580              0      KP  \n",
       "1605              0      FR  \n",
       "1648              0      TW  \n",
       "1652              0      KW  \n",
       "\n",
       "[108 rows x 7 columns]"
      ]
     },
     "execution_count": 26,
     "metadata": {},
     "output_type": "execute_result"
    }
   ],
   "source": [
    "players[players['Player_Rating'] == 0]"
   ]
  },
  {
   "cell_type": "code",
   "execution_count": 27,
   "metadata": {},
   "outputs": [],
   "source": [
    "players.columns = ['Player_ID', 'Player_Name', 'DOB', 'Gender', 'FIDE_Percentile', 'Player_Rating', 'Country']"
   ]
  },
  {
   "cell_type": "code",
   "execution_count": 28,
   "metadata": {},
   "outputs": [],
   "source": [
    "from scipy import stats"
   ]
  },
  {
   "cell_type": "code",
   "execution_count": 29,
   "metadata": {},
   "outputs": [],
   "source": [
    "players['FIDE_Percentile'] = players['Player_Rating'].apply(lambda x: stats.percentileofscore(players['Player_Rating'], x))"
   ]
  },
  {
   "cell_type": "code",
   "execution_count": 30,
   "metadata": {},
   "outputs": [
    {
     "data": {
      "text/html": [
       "<div>\n",
       "<style scoped>\n",
       "    .dataframe tbody tr th:only-of-type {\n",
       "        vertical-align: middle;\n",
       "    }\n",
       "\n",
       "    .dataframe tbody tr th {\n",
       "        vertical-align: top;\n",
       "    }\n",
       "\n",
       "    .dataframe thead th {\n",
       "        text-align: right;\n",
       "    }\n",
       "</style>\n",
       "<table border=\"1\" class=\"dataframe\">\n",
       "  <thead>\n",
       "    <tr style=\"text-align: right;\">\n",
       "      <th></th>\n",
       "      <th>Player_ID</th>\n",
       "      <th>Player_Name</th>\n",
       "      <th>DOB</th>\n",
       "      <th>Gender</th>\n",
       "      <th>FIDE_Percentile</th>\n",
       "      <th>Player_Rating</th>\n",
       "      <th>Country</th>\n",
       "    </tr>\n",
       "  </thead>\n",
       "  <tbody>\n",
       "    <tr>\n",
       "      <th>0</th>\n",
       "      <td>GD-11-MCSU</td>\n",
       "      <td>Paul Fletcher</td>\n",
       "      <td>1957-06-13</td>\n",
       "      <td>M</td>\n",
       "      <td>91.947898</td>\n",
       "      <td>40</td>\n",
       "      <td>GD</td>\n",
       "    </tr>\n",
       "    <tr>\n",
       "      <th>1</th>\n",
       "      <td>CF-73-AWDV</td>\n",
       "      <td>Kaitlyn Sweeney</td>\n",
       "      <td>1970-12-01</td>\n",
       "      <td>F</td>\n",
       "      <td>70.011841</td>\n",
       "      <td>11</td>\n",
       "      <td>CF</td>\n",
       "    </tr>\n",
       "    <tr>\n",
       "      <th>2</th>\n",
       "      <td>SL-37-GVYX</td>\n",
       "      <td>Joshua Robinson</td>\n",
       "      <td>1988-10-16</td>\n",
       "      <td>M</td>\n",
       "      <td>70.011841</td>\n",
       "      <td>11</td>\n",
       "      <td>SL</td>\n",
       "    </tr>\n",
       "    <tr>\n",
       "      <th>3</th>\n",
       "      <td>PE-42-UTAT</td>\n",
       "      <td>James Banks</td>\n",
       "      <td>1975-11-20</td>\n",
       "      <td>M</td>\n",
       "      <td>17.702783</td>\n",
       "      <td>2</td>\n",
       "      <td>PE</td>\n",
       "    </tr>\n",
       "    <tr>\n",
       "      <th>4</th>\n",
       "      <td>BN-21-NJLH</td>\n",
       "      <td>Heidi Maldonado</td>\n",
       "      <td>1963-09-10</td>\n",
       "      <td>F</td>\n",
       "      <td>10.301954</td>\n",
       "      <td>1</td>\n",
       "      <td>BN</td>\n",
       "    </tr>\n",
       "    <tr>\n",
       "      <th>...</th>\n",
       "      <td>...</td>\n",
       "      <td>...</td>\n",
       "      <td>...</td>\n",
       "      <td>...</td>\n",
       "      <td>...</td>\n",
       "      <td>...</td>\n",
       "      <td>...</td>\n",
       "    </tr>\n",
       "    <tr>\n",
       "      <th>1684</th>\n",
       "      <td>NZ-96-GZBA</td>\n",
       "      <td>Roy Atkinson</td>\n",
       "      <td>1992-01-30</td>\n",
       "      <td>M</td>\n",
       "      <td>17.702783</td>\n",
       "      <td>2</td>\n",
       "      <td>NZ</td>\n",
       "    </tr>\n",
       "    <tr>\n",
       "      <th>1685</th>\n",
       "      <td>BN-21-QJHV</td>\n",
       "      <td>Mary Stout</td>\n",
       "      <td>1956-04-12</td>\n",
       "      <td>F</td>\n",
       "      <td>61.456483</td>\n",
       "      <td>9</td>\n",
       "      <td>BN</td>\n",
       "    </tr>\n",
       "    <tr>\n",
       "      <th>1686</th>\n",
       "      <td>CM-96-CDCJ</td>\n",
       "      <td>Chelsea Parks</td>\n",
       "      <td>1966-07-07</td>\n",
       "      <td>F</td>\n",
       "      <td>17.702783</td>\n",
       "      <td>2</td>\n",
       "      <td>CM</td>\n",
       "    </tr>\n",
       "    <tr>\n",
       "      <th>1687</th>\n",
       "      <td>PG-05-XORC</td>\n",
       "      <td>Katherine Johnson</td>\n",
       "      <td>1984-04-22</td>\n",
       "      <td>F</td>\n",
       "      <td>87.862641</td>\n",
       "      <td>27</td>\n",
       "      <td>PG</td>\n",
       "    </tr>\n",
       "    <tr>\n",
       "      <th>1688</th>\n",
       "      <td>BE-95-XMPN</td>\n",
       "      <td>Kenneth Contreras</td>\n",
       "      <td>1995-03-23</td>\n",
       "      <td>M</td>\n",
       "      <td>39.313203</td>\n",
       "      <td>5</td>\n",
       "      <td>BE</td>\n",
       "    </tr>\n",
       "  </tbody>\n",
       "</table>\n",
       "<p>1689 rows × 7 columns</p>\n",
       "</div>"
      ],
      "text/plain": [
       "       Player_ID        Player_Name         DOB Gender  FIDE_Percentile  \\\n",
       "0     GD-11-MCSU      Paul Fletcher  1957-06-13      M        91.947898   \n",
       "1     CF-73-AWDV    Kaitlyn Sweeney  1970-12-01      F        70.011841   \n",
       "2     SL-37-GVYX    Joshua Robinson  1988-10-16      M        70.011841   \n",
       "3     PE-42-UTAT        James Banks  1975-11-20      M        17.702783   \n",
       "4     BN-21-NJLH    Heidi Maldonado  1963-09-10      F        10.301954   \n",
       "...          ...                ...         ...    ...              ...   \n",
       "1684  NZ-96-GZBA       Roy Atkinson  1992-01-30      M        17.702783   \n",
       "1685  BN-21-QJHV         Mary Stout  1956-04-12      F        61.456483   \n",
       "1686  CM-96-CDCJ      Chelsea Parks  1966-07-07      F        17.702783   \n",
       "1687  PG-05-XORC  Katherine Johnson  1984-04-22      F        87.862641   \n",
       "1688  BE-95-XMPN  Kenneth Contreras  1995-03-23      M        39.313203   \n",
       "\n",
       "      Player_Rating Country  \n",
       "0                40      GD  \n",
       "1                11      CF  \n",
       "2                11      SL  \n",
       "3                 2      PE  \n",
       "4                 1      BN  \n",
       "...             ...     ...  \n",
       "1684              2      NZ  \n",
       "1685              9      BN  \n",
       "1686              2      CM  \n",
       "1687             27      PG  \n",
       "1688              5      BE  \n",
       "\n",
       "[1689 rows x 7 columns]"
      ]
     },
     "execution_count": 30,
     "metadata": {},
     "output_type": "execute_result"
    }
   ],
   "source": [
    "players"
   ]
  },
  {
   "cell_type": "code",
   "execution_count": 31,
   "metadata": {},
   "outputs": [],
   "source": [
    "players.to_csv('./Data Files/player.csv', index=False)\n",
    "plProfile.to_csv('./Data Files/playerProfile.csv', index=False)"
   ]
  },
  {
   "cell_type": "code",
   "execution_count": null,
   "metadata": {},
   "outputs": [],
   "source": []
  }
 ],
 "metadata": {
  "kernelspec": {
   "display_name": "Python 3.10.4 ('dbms')",
   "language": "python",
   "name": "python3"
  },
  "language_info": {
   "codemirror_mode": {
    "name": "ipython",
    "version": 3
   },
   "file_extension": ".py",
   "mimetype": "text/x-python",
   "name": "python",
   "nbconvert_exporter": "python",
   "pygments_lexer": "ipython3",
   "version": "3.10.4"
  },
  "orig_nbformat": 4,
  "vscode": {
   "interpreter": {
    "hash": "fe6733b6ea1a1cc8c8a474c8e9b92e287be752e68a7b5e4a4ee39ee605865c6d"
   }
  }
 },
 "nbformat": 4,
 "nbformat_minor": 2
}
