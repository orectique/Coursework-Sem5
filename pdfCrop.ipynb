{
 "cells": [
  {
   "cell_type": "code",
   "execution_count": 86,
   "metadata": {},
   "outputs": [],
   "source": [
    "import time"
   ]
  },
  {
   "cell_type": "code",
   "execution_count": 87,
   "metadata": {},
   "outputs": [],
   "source": [
    "start = time.perf_counter()"
   ]
  },
  {
   "cell_type": "code",
   "execution_count": 88,
   "metadata": {},
   "outputs": [],
   "source": [
    "import typing\n",
    "\n",
    "from borb.pdf import Document\n",
    "from borb.pdf import PDF\n",
    "from borb.toolkit import ImageExtraction"
   ]
  },
  {
   "cell_type": "code",
   "execution_count": 89,
   "metadata": {},
   "outputs": [],
   "source": [
    "l: ImageExtraction = ImageExtraction()\n",
    "\n",
    "\n",
    "doc: typing.Optional[Document] = None\n",
    "with open(\"./Books/Probability & Random Processes for Engineers.pdf\", \"rb\") as in_file_handle:\n",
    "    doc = PDF.loads(in_file_handle, [l])"
   ]
  },
  {
   "cell_type": "code",
   "execution_count": 90,
   "metadata": {},
   "outputs": [],
   "source": [
    "images = [l.extract_images()[i][0] for i in range(309)]"
   ]
  },
  {
   "cell_type": "code",
   "execution_count": 91,
   "metadata": {},
   "outputs": [],
   "source": [
    "cropped = []"
   ]
  },
  {
   "cell_type": "code",
   "execution_count": 92,
   "metadata": {},
   "outputs": [],
   "source": [
    "from PIL import Image"
   ]
  },
  {
   "cell_type": "code",
   "execution_count": 93,
   "metadata": {},
   "outputs": [],
   "source": [
    "for image in images:\n",
    "    width, height = image.size\n",
    "    if width > 530:\n",
    "        image = image.crop((width*107.5/570, height*108/808, width - width*87.5/570, height - height*88/808))\n",
    "    \n",
    "    cropped.append(image)"
   ]
  },
  {
   "cell_type": "code",
   "execution_count": 94,
   "metadata": {},
   "outputs": [],
   "source": [
    "path = \"./Books/Random Processes - Cropped 2.pdf\"\n",
    "\n",
    "cropped[0].save(\n",
    "    path, \"PDF\" ,resolution=100.0, save_all=True, append_images=cropped[1:]\n",
    ")"
   ]
  },
  {
   "cell_type": "code",
   "execution_count": 95,
   "metadata": {},
   "outputs": [],
   "source": [
    "end = time.perf_counter()"
   ]
  },
  {
   "cell_type": "code",
   "execution_count": 96,
   "metadata": {},
   "outputs": [
    {
     "name": "stdout",
     "output_type": "stream",
     "text": [
      "Finished in 13.162040300027002 seconds\n"
     ]
    }
   ],
   "source": [
    "print(f\"Finished in {end - start} seconds\")"
   ]
  }
 ],
 "metadata": {
  "kernelspec": {
   "display_name": "Python 3.10.4 ('embolden')",
   "language": "python",
   "name": "python3"
  },
  "language_info": {
   "codemirror_mode": {
    "name": "ipython",
    "version": 3
   },
   "file_extension": ".py",
   "mimetype": "text/x-python",
   "name": "python",
   "nbconvert_exporter": "python",
   "pygments_lexer": "ipython3",
   "version": "3.10.4"
  },
  "orig_nbformat": 4,
  "vscode": {
   "interpreter": {
    "hash": "3b1ec01f1976927f649f5037681711f5fdd13c59f2b1e7f94c020b10fda531b0"
   }
  }
 },
 "nbformat": 4,
 "nbformat_minor": 2
}
