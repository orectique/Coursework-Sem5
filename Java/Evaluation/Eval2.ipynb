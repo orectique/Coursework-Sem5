{
 "cells": [
  {
   "cell_type": "markdown",
   "metadata": {},
   "source": [
    "# Java Lab Evaluation 2\n",
    "## 2 Nov 2022\n",
    "Sreehari P Sreedhar\n",
    "CB.SC.I5DAS20032"
   ]
  },
  {
   "cell_type": "markdown",
   "metadata": {},
   "source": [
    "1. Write a Java program to count the number of occurrences of any character on String.The String and the character to be removed from the string has to be accepted from the user. "
   ]
  },
  {
   "cell_type": "code",
   "execution_count": 75,
   "metadata": {},
   "outputs": [
    {
     "name": "stdout",
     "output_type": "stream",
     "text": [
      "Enter string: \n",
      "JAva\n",
      "Enter target character: \n",
      "a\n",
      "Count: 2\n",
      "Cleaned text: Jv\n"
     ]
    }
   ],
   "source": [
    "Scanner input = new Scanner(System.in);\n",
    "System.out.println(\"Enter string: \");\n",
    "String str = input.nextLine();\n",
    "System.out.println(str);\n",
    "System.out.println(\"Enter target character: \");\n",
    "char ch = input.next().charAt(0);\n",
    "ch = Character.toLowerCase(ch);\n",
    "System.out.println(ch);\n",
    "\n",
    "input.close();\n",
    "\n",
    "int count = 0;\n",
    "String out = \"\";\n",
    "\n",
    "for(int i=0; i<str.length(); i++)\n",
    "{\n",
    "    if(Character.toLowerCase(str.charAt(i)) != ch)\n",
    "    {\n",
    "        out += str.charAt(i);\n",
    "    }\n",
    "    else\n",
    "    {\n",
    "        count++;\n",
    "    }\n",
    "}\n",
    "\n",
    "System.out.println(\"Count: \" + count);\n",
    "System.out.println(\"Cleaned text: \" + out);"
   ]
  },
  {
   "cell_type": "markdown",
   "metadata": {},
   "source": [
    "2. Write a program that extracts the digits of a given number and prints the sum of even and odd values."
   ]
  },
  {
   "cell_type": "code",
   "execution_count": 76,
   "metadata": {},
   "outputs": [
    {
     "name": "stdout",
     "output_type": "stream",
     "text": [
      "Enter number: \n",
      "568877\n",
      "Sum of Even: 22\n",
      "Sum of Odd: 19\n"
     ]
    }
   ],
   "source": [
    "Scanner input = new Scanner(System.in);\n",
    "System.out.println(\"Enter number: \");\n",
    "int num = input.nextInt();\n",
    "System.out.println(num);\n",
    "input.close();\n",
    "\n",
    "int even = 0;\n",
    "int odd = 0;\n",
    "\n",
    "while(num > 0)\n",
    "{\n",
    "    int digit = num % 10;\n",
    "    if(digit % 2 == 0)\n",
    "    {\n",
    "        even += digit;\n",
    "    }\n",
    "    else\n",
    "    {\n",
    "        odd += digit;\n",
    "    }\n",
    "    num /= 10;\n",
    "}\n",
    "\n",
    "System.out.println(\"Sum of Even: \" + even);\n",
    "System.out.println(\"Sum of Odd: \" + odd);"
   ]
  },
  {
   "cell_type": "markdown",
   "metadata": {},
   "source": [
    "3. Write a Java program to implement a super class Worker to store the details like Name and Basic Pay (Float / Double), having member functions to initialise (using the constructor) and display the basic details. A class Wages is to be derived from the super (Worker) class where the Wages class is going to have data members hours(worked), rate(per hour) and wage (overall wage) of the worker. This class needs to have two more member functions to return the overtime(double data type) to calculate the overtime amount for the worker (hours * rate).Use the constructor to set initial sample values for the data members and display the worker details, Salary and Overtime appropriately."
   ]
  },
  {
   "cell_type": "code",
   "execution_count": 1,
   "metadata": {},
   "outputs": [],
   "source": [
    "public static class Worker {\n",
    "    String Name;\n",
    "    float BasicPay;\n",
    "\n",
    "    public void Worker(String name, float basicPay) {\n",
    "        this.Name = name;\n",
    "        this.BasicPay = basicPay;\n",
    "    }\n",
    "\n",
    "    public void summaryWorker() {\n",
    "        System.out.println(\"Name: \" + this.Name);\n",
    "        System.out.println(\"Basic Pay: \" + this.BasicPay);\n",
    "    }\n",
    "}"
   ]
  },
  {
   "cell_type": "code",
   "execution_count": 2,
   "metadata": {},
   "outputs": [],
   "source": [
    "public static class Wages extends Worker {\n",
    "    float Hours;\n",
    "    float Rate;\n",
    "    float Wage;\n",
    "\n",
    "    public Wages(String name, float basicpay, float hrs, float rate) {\n",
    "        this.Hours = hrs;\n",
    "        this.Rate = rate;\n",
    "\n",
    "        this.Name = name;\n",
    "        this.BasicPay = basicpay;\n",
    "\n",
    "        summaryWorker();\n",
    "    }\n",
    "\n",
    "    public double overtime() {\n",
    "        float overTime = (this.Hours - 8) * this.Rate;\n",
    "        this.Wage = this.BasicPay + overTime;\n",
    "        return overTime; \n",
    "    }\n",
    "\n",
    "    public void summaryWages() {\n",
    "        System.out.println(\"Name: \" + this.Name);\n",
    "        System.out.println(\"Basic Pay: \" + this.BasicPay);\n",
    "        System.out.println(\"Hours: \" + this.Hours);\n",
    "        System.out.println(\"Rate: \" + this.Rate);\n",
    "\n",
    "        System.out.println(\"Overtime costs: \" + overtime());\n",
    "\n",
    "        System.out.println(\"Wage: \" + this.Wage);\n",
    "    }\n",
    "}"
   ]
  },
  {
   "cell_type": "code",
   "execution_count": 79,
   "metadata": {},
   "outputs": [
    {
     "name": "stdout",
     "output_type": "stream",
     "text": [
      "Name: Mycroft\n",
      "Basic Pay: 1000.0\n"
     ]
    }
   ],
   "source": [
    "Wages w = new Wages(\"Mycroft\", 1000, 10, 15);"
   ]
  },
  {
   "cell_type": "code",
   "execution_count": 80,
   "metadata": {},
   "outputs": [
    {
     "name": "stdout",
     "output_type": "stream",
     "text": [
      "Name: Mycroft\n",
      "Basic Pay: 1000.0\n",
      "Hours: 10.0\n",
      "Rate: 15.0\n",
      "Overtime costs: 30.0\n",
      "Wage: 1030.0\n"
     ]
    }
   ],
   "source": [
    "w.summaryWages();"
   ]
  },
  {
   "cell_type": "code",
   "execution_count": null,
   "metadata": {},
   "outputs": [],
   "source": []
  }
 ],
 "metadata": {
  "kernelspec": {
   "display_name": "Java",
   "language": "java",
   "name": "java"
  },
  "language_info": {
   "codemirror_mode": "java",
   "file_extension": ".jshell",
   "mimetype": "text/x-java-source",
   "name": "java",
   "pygments_lexer": "java",
   "version": "17.0.4+8"
  },
  "orig_nbformat": 4
 },
 "nbformat": 4,
 "nbformat_minor": 2
}
