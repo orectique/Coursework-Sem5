{
 "cells": [
  {
   "cell_type": "markdown",
   "metadata": {},
   "source": [
    "# Java Lab 8: Evaluation 2 - Set 1\n",
    "## Practice\n",
    "\n",
    "Sreehari P Sreedhar\n",
    "CB.SC.I5DAS20032"
   ]
  },
  {
   "cell_type": "code",
   "execution_count": 4,
   "metadata": {},
   "outputs": [],
   "source": [
    "import java.lang.Math;\n",
    "import java.lang.StringBuilder;"
   ]
  },
  {
   "cell_type": "markdown",
   "metadata": {},
   "source": [
    "1. Write a program to print all permutations of a String in Java. The string needs to be accepted from the user. "
   ]
  },
  {
   "cell_type": "code",
   "execution_count": 12,
   "metadata": {},
   "outputs": [
    {
     "name": "stdout",
     "output_type": "stream",
     "text": [
      "Enter string: \n",
      "Permutations of tESt\n",
      "tESt \n",
      "tEtS \n",
      "tSEt \n",
      "tStE \n",
      "ttES \n",
      "ttSE \n",
      "EtSt \n",
      "EttS \n",
      "EStt \n",
      "EStt \n",
      "EttS \n",
      "EtSt \n",
      "StEt \n",
      "SttE \n",
      "SEtt \n",
      "SEtt \n",
      "SttE \n",
      "StEt \n",
      "ttES \n",
      "ttSE \n",
      "tEtS \n",
      "tESt \n",
      "tStE \n",
      "tSEt \n"
     ]
    }
   ],
   "source": [
    "Scanner input = new Scanner(System.in);\n",
    "System.out.println(\"Enter string: \");\n",
    "String strIn = input.nextLine();\n",
    "System.out.println(\"Permutations of \" + strIn);\n",
    "input.close();\n",
    "\n",
    "public static void permutation(String str, String ans)\n",
    "    {\n",
    "        if (str.length() == 0) {\n",
    "            System.out.println(ans + \" \");\n",
    "            return;\n",
    "        }\n",
    "\n",
    "   for (int i = 0; i < str.length(); i++) {\n",
    "\n",
    "            char ch = str.charAt(i);\n",
    "\n",
    "            String sub = str.substring(0, i) +\n",
    "                    str.substring(i + 1);\n",
    "\n",
    "            permutation(sub, ans + ch);\n",
    "        }\n",
    "    }\n",
    "\n",
    "permutation(strIn, \"\");"
   ]
  },
  {
   "cell_type": "markdown",
   "metadata": {},
   "source": [
    "2. Write a Java program to create and store integer values from 1 to 50.Now create 3 new sub arrays by finding the elements of the integer array that are divisible by 2,5 and 10 and display the elements of the 3 new arrays created"
   ]
  },
  {
   "cell_type": "code",
   "execution_count": 6,
   "metadata": {},
   "outputs": [
    {
     "name": "stdout",
     "output_type": "stream",
     "text": [
      "Multiples of 2: \n",
      "[2, 4, 6, 8, 10, 12, 14, 16, 18, 20, 22, 24, 26, 28, 30, 32, 34, 36, 38, 40, 42, 44, 46, 48, 50]\n",
      "Multiples of 5: \n",
      "[5, 10, 15, 20, 25, 30, 35, 40, 45, 50]\n",
      "Multiples of 10: \n",
      "[10, 20, 30, 40, 50]\n"
     ]
    }
   ],
   "source": [
    "import java.util.ArrayList;\n",
    "import java.util.Scanner;\n",
    "\n",
    "int arr[] = new int[50];\n",
    "\n",
    "for (int i=0; i<50; i++){\n",
    "    arr[i] = i+1;\n",
    "}\n",
    "\n",
    "ArrayList<Integer> div2 = new ArrayList<Integer>();\n",
    "ArrayList<Integer> div5 = new ArrayList<Integer>();\n",
    "ArrayList<Integer> div10 = new ArrayList<Integer>();\n",
    "\n",
    "for (int i=0; i<50; i++){\n",
    "    if (arr[i]%2==0){\n",
    "        div2.add(arr[i]);\n",
    "    }\n",
    "\n",
    "    if (arr[i]%5==0){\n",
    "        div5.add(arr[i]);\n",
    "    }\n",
    "\n",
    "    if (arr[i]%10==0){\n",
    "        div10.add(arr[i]);\n",
    "    }\n",
    "}\n",
    "\n",
    "System.out.println(\"Multiples of 2: \");\n",
    "System.out.println(div2);\n",
    "\n",
    "System.out.println(\"Multiples of 5: \");\n",
    "System.out.println(div5);\n",
    "\n",
    "System.out.println(\"Multiples of 10: \");\n",
    "System.out.println(div10);\n"
   ]
  },
  {
   "cell_type": "markdown",
   "metadata": {},
   "source": [
    "3. Write a java program that involves implementing inheritance with a base class Account having two attributes Account Number and Principal (double precision real number) and two derived classes Simple and Compound. \n",
    "\n",
    "    Write methods in the classes to calculate and display the respective Interest for Simple and Compound Accounts."
   ]
  },
  {
   "cell_type": "code",
   "execution_count": 7,
   "metadata": {},
   "outputs": [],
   "source": [
    "public static class Account {\n",
    "    String AcctNo;\n",
    "    float Principal;\n",
    "\n",
    "    public void Print() {\n",
    "        System.out.println(\"From inside the Account\");\n",
    "        System.out.println(\"Account Number: \" + this.AcctNo);\n",
    "        System.out.println(\"Principal: \" + this.Principal);\n",
    "    }\n",
    "}\n",
    "\n",
    "public static class Simple extends Account {\n",
    "    float iRate;\n",
    "    int Period;\n",
    "    double Interest;\n",
    "\n",
    "    public Simple(float i, float p, String acct, int n) {\n",
    "        this.iRate = i;\n",
    "        this.AcctNo = acct;\n",
    "        this.Principal = p;\n",
    "        this.Period = n;\n",
    "\n",
    "        this.Interest = this.iRate * this.Period * this.Principal / 100;\n",
    "    }\n",
    "\n",
    "    public void interest() {\n",
    "        System.out.println(\"Simple interest: \" + this.Interest);\n",
    "    }\n",
    "}\n",
    "\n",
    "public static class Compound extends Account {\n",
    "    float iRate;\n",
    "    int Period;\n",
    "    double Interest;\n",
    "\n",
    "    public Compound(float i, float p, String acct, int n) {\n",
    "        this.iRate = i;\n",
    "        this.AcctNo = acct;\n",
    "        this.Principal = p;\n",
    "        this.Period = n;\n",
    "\n",
    "        this.Interest = this.Principal * Math.pow((1 + this.iRate/100), this.Period);\n",
    "    }\n",
    "\n",
    "    public void interest() {\n",
    "        System.out.println(\"Compound interest: \" + (this.Interest - this.Principal));\n",
    "    }\n",
    "}"
   ]
  },
  {
   "cell_type": "code",
   "execution_count": 8,
   "metadata": {},
   "outputs": [],
   "source": [
    "Simple s = new Simple(5, 1000, \"ACT1\", 10);\n",
    "Compound c = new Compound(5, 1000, \"ACT2\", 10);"
   ]
  },
  {
   "cell_type": "code",
   "execution_count": 9,
   "metadata": {},
   "outputs": [
    {
     "name": "stdout",
     "output_type": "stream",
     "text": [
      "Simple interest: 500.0\n"
     ]
    }
   ],
   "source": [
    "s.interest()"
   ]
  },
  {
   "cell_type": "code",
   "execution_count": 10,
   "metadata": {},
   "outputs": [
    {
     "name": "stdout",
     "output_type": "stream",
     "text": [
      "Compound interest: 628.8938870466548\n"
     ]
    }
   ],
   "source": [
    "c.interest()"
   ]
  },
  {
   "cell_type": "code",
   "execution_count": 11,
   "metadata": {},
   "outputs": [
    {
     "name": "stdout",
     "output_type": "stream",
     "text": [
      "From inside the Account\n",
      "Account Number: ACT1\n",
      "Principal: 1000.0\n"
     ]
    }
   ],
   "source": [
    "s.Print()"
   ]
  },
  {
   "cell_type": "code",
   "execution_count": null,
   "metadata": {},
   "outputs": [],
   "source": []
  }
 ],
 "metadata": {
  "kernelspec": {
   "display_name": "Java",
   "language": "java",
   "name": "java"
  },
  "language_info": {
   "codemirror_mode": "java",
   "file_extension": ".jshell",
   "mimetype": "text/x-java-source",
   "name": "java",
   "pygments_lexer": "java",
   "version": "17.0.4+8"
  },
  "orig_nbformat": 4,
  "vscode": {
   "interpreter": {
    "hash": "a6ae9d3c5abbe07b4a4eef03cc1aad290c4830ae64320dc0c5066ecb9bd33ac1"
   }
  }
 },
 "nbformat": 4,
 "nbformat_minor": 2
}
