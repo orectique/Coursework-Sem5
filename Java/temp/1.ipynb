{
 "cells": [
  {
   "cell_type": "code",
   "execution_count": 10,
   "metadata": {
    "vscode": {
     "languageId": "java"
    }
   },
   "outputs": [],
   "source": [
    "public static class Building {\n",
    "    int floor, room, footage;\n",
    "    \n",
    "    public void Building(int fl, int rm, int ft) {\n",
    "        this.floor = fl;\n",
    "        this.room = rm;\n",
    "        this.footage = ft;\n",
    "    }\n",
    "    \n",
    "    public void display1(){\n",
    "    System.out.println(\"floor : \"+this.floor);\n",
    "    System.out.println(\"room : \"+this.room);\n",
    "    System.out.println(\"foot : \"+this.footage);\n",
    "    }\n",
    "    \n",
    "}"
   ]
  },
  {
   "cell_type": "code",
   "execution_count": 11,
   "metadata": {
    "vscode": {
     "languageId": "java"
    }
   },
   "outputs": [],
   "source": [
    "public static class House1 extends Building {\n",
    "    int bed, bath;\n",
    "\n",
    "    public House1(int bed, int bath, int fl, int rm, int ft) {\n",
    "        this.bed = bed;\n",
    "        this.bath = bath;\n",
    "\n",
    "        this.floor = fl;\n",
    "        this.room = rm;\n",
    "        this.footage = ft;\n",
    "    }\n",
    "}"
   ]
  },
  {
   "cell_type": "code",
   "execution_count": 3,
   "metadata": {
    "vscode": {
     "languageId": "java"
    }
   },
   "outputs": [],
   "source": [
    "Building b = new Building(3, 5, 1500)"
   ]
  },
  {
   "cell_type": "code",
   "execution_count": 4,
   "metadata": {
    "vscode": {
     "languageId": "java"
    }
   },
   "outputs": [
    {
     "name": "stdout",
     "output_type": "stream",
     "text": [
      "floor : 3\n",
      "room : 5\n",
      "foot : 1500\n"
     ]
    }
   ],
   "source": [
    "b.display1()"
   ]
  },
  {
   "cell_type": "code",
   "execution_count": null,
   "metadata": {
    "vscode": {
     "languageId": "java"
    }
   },
   "outputs": [],
   "source": []
  }
 ],
 "metadata": {
  "kernelspec": {
   "display_name": "Java",
   "language": "java",
   "name": "java"
  },
  "language_info": {
   "codemirror_mode": "java",
   "file_extension": ".jshell",
   "mimetype": "text/x-java-source",
   "name": "Java",
   "pygments_lexer": "java",
   "version": "17.0.4+8"
  },
  "orig_nbformat": 4,
  "vscode": {
   "interpreter": {
    "hash": "b5dd14d93d27b726d997d18ea138910674eab894d46ed04c0f79e8db9aa67c03"
   }
  }
 },
 "nbformat": 4,
 "nbformat_minor": 2
}
