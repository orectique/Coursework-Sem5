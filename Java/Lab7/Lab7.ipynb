{
 "cells": [
  {
   "cell_type": "code",
   "execution_count": 4,
   "metadata": {},
   "outputs": [],
   "source": [
    "import java.util.Scanner;\n",
    "\n",
    "Scanner input = new Scanner(System.in)"
   ]
  },
  {
   "cell_type": "markdown",
   "metadata": {},
   "source": [
    "1.\tWrite a Program to find if the pair of numbers entered by the user is  \n",
    "“amicable”?\n",
    "Steps to find amicable numbers:\n",
    "-\tRead or initialize two numbers (N1, N2) from the user.\n",
    "-\tFind the divisor (divOfN1, divOfN2) of both numbers.\n",
    "-\tFind the sum of divisors (sumdiv1, sumdiv2) of both numbers.\n",
    "-\tCheck if the sum of divisors of one number is equal to the other number or not.\n",
    "- If equal, the pair of numbers is amicable. \n",
    "- Else, not amicable.\n"
   ]
  },
  {
   "cell_type": "code",
   "execution_count": 5,
   "metadata": {},
   "outputs": [
    {
     "name": "stdout",
     "output_type": "stream",
     "text": [
      "Enter first number: \n",
      "220\n",
      "Enter second number: \n",
      "284\n",
      "The numbers are amicable.\n"
     ]
    }
   ],
   "source": [
    "System.out.println(\"Enter first number: \");\n",
    "int N1 = input.nextInt();\n",
    "System.out.println(N1);\n",
    "\n",
    "System.out.println(\"Enter second number: \");\n",
    "int N2 = input.nextInt();\n",
    "System.out.println(N2);\n",
    "\n",
    "int sumdiv1 = 0;\n",
    "int sumdiv2 = 0;\n",
    "\n",
    "for (int i = 1; i < N1; i++) {\n",
    "    if (N1%i == 0) {\n",
    "        sumdiv1 += i;\n",
    "    }\n",
    "}\n",
    "\n",
    "for (int i = 1; i < N2; i++) {\n",
    "    if (N2%i == 0) {\n",
    "        sumdiv2 += i;\n",
    "    }\n",
    "}\n",
    "\n",
    "if (sumdiv1 == N2 && sumdiv2 == N1) {\n",
    "    System.out.println(\"The numbers are amicable.\");\n",
    "} else {\n",
    "    System.out.println(\"The numbers are not amicable.\");\n",
    "}\n",
    "\n",
    "input.close();"
   ]
  },
  {
   "cell_type": "markdown",
   "metadata": {},
   "source": [
    "2.\tWrite a program to find if the number entered (accept the input from user at run time) by \n",
    "     the user is a Magic Number."
   ]
  },
  {
   "cell_type": "code",
   "execution_count": 7,
   "metadata": {},
   "outputs": [
    {
     "name": "stdout",
     "output_type": "stream",
     "text": [
      "Enter number: \n",
      "Magic : True\n"
     ]
    }
   ],
   "source": [
    "Scanner input = new Scanner(System.in);\n",
    "\n",
    "System.out.println(\"Enter number: \");\n",
    "\n",
    "int num = input.nextInt();\n",
    "\n",
    "public static int findSum(int num)  \n",
    "{          \n",
    "int sum;      \n",
    "\n",
    "for (sum = 0; num > 0; sum = sum + num % 10, num = num / 10); \n",
    "\n",
    "return sum;  \n",
    "}\n",
    "\n",
    "while (num % 10 != num) {\n",
    "    num = findSum(num);\n",
    "}\n",
    "\n",
    "if (num == 1) {\n",
    "    System.out.println(\"Magic : True\");\n",
    "} else {\n",
    "    System.out.println(\"Magic : False\");\n",
    "}\n",
    "\n",
    "input.close();"
   ]
  },
  {
   "cell_type": "markdown",
   "metadata": {},
   "source": [
    "3.\tWrite a Java program to check whether the given input strings have no repetition of letters.     The input strings may be word (or) phrase (or) sentence."
   ]
  },
  {
   "cell_type": "code",
   "execution_count": 15,
   "metadata": {},
   "outputs": [
    {
     "name": "stdout",
     "output_type": "stream",
     "text": [
      "Enter string: \n",
      "rhythm\n",
      "No repetitions : false\n"
     ]
    }
   ],
   "source": [
    "Scanner input = new Scanner(System.in);\n",
    "\n",
    "System.out.println(\"Enter string: \");\n",
    "\n",
    "String str = input.nextLine();\n",
    "\n",
    "System.out.println(str);\n",
    "\n",
    "int len = str.length();\n",
    "\n",
    "boolean flag = true;\n",
    "\n",
    "List list  = new ArrayList<>();\n",
    "\n",
    "for (int i = 0; i < len; i++) {\n",
    "    if (list.contains(str.charAt(i))) {\n",
    "        flag = false;\n",
    "        break;\n",
    "    } else {\n",
    "        list.add(str.charAt(i));\n",
    "    }\n",
    "}\n",
    "\n",
    "System.out.println(\"No repetitions : \" + flag);\n",
    "\n",
    "input.close()"
   ]
  },
  {
   "cell_type": "markdown",
   "metadata": {},
   "source": [
    "4.\tDesign a class ‘Complex’ with data members for real and imaginary part. Provide default and Parameterized constructors. Write a program to perform arithmetic operations of two complex numbers."
   ]
  },
  {
   "cell_type": "code",
   "execution_count": 21,
   "metadata": {},
   "outputs": [],
   "source": [
    "import java.lang.Math;"
   ]
  },
  {
   "cell_type": "code",
   "execution_count": 26,
   "metadata": {},
   "outputs": [],
   "source": [
    "public static class Complex {\n",
    "    private double real;\n",
    "    private double imaginary;\n",
    "\n",
    "    public Complex(double real, double imaginary) {\n",
    "        this.real = real;\n",
    "        this.imaginary = imaginary;\n",
    "    } \n",
    "\n",
    "    public double getReal() {\n",
    "        return this.real;\n",
    "    }\n",
    "\n",
    "    public double getImaginary() {\n",
    "        return this.imaginary;\n",
    "    }\n",
    "}"
   ]
  },
  {
   "cell_type": "code",
   "execution_count": 27,
   "metadata": {},
   "outputs": [],
   "source": [
    "\n",
    "public void add(Complex a, Complex b) {\n",
    "    double real = a.getReal() + b.getReal();\n",
    "    double imaginary = a.getImaginary() + b.getImaginary();\n",
    "    System.out.println(\"Sum: \" + real + \" + \" + imaginary + \"i\");\n",
    "}"
   ]
  },
  {
   "cell_type": "code",
   "execution_count": 28,
   "metadata": {},
   "outputs": [],
   "source": [
    "\n",
    "public void subtract(Complex a, Complex b) {\n",
    "    double real = a.getReal() - b.getReal();\n",
    "    double imaginary = a.getImaginary() - b.getImaginary();\n",
    "    System.out.println(\"Difference: \" + real + \" + \" + imaginary + \"i\");\n",
    "}"
   ]
  },
  {
   "cell_type": "code",
   "execution_count": 33,
   "metadata": {},
   "outputs": [],
   "source": [
    "\n",
    "public void divide(Complex a, Complex b) {\n",
    "    double real = (a.getReal() * b.getReal() + a.getImaginary() * b.getImaginary()) / (Math.pow(b.getReal(), 2) + Math.pow(b.getImaginary(), 2));\n",
    "    double imaginary = (a.getImaginary() * b.getReal() - a.getReal() * b.getImaginary()) / (Math.pow(b.getReal(), 2) + Math.pow(b.getImaginary(), 2));\n",
    "\n",
    "    System.out.println(\"Quotient: \" + real + \" + \" + imaginary + \"i\");\n",
    "}"
   ]
  },
  {
   "cell_type": "code",
   "execution_count": 34,
   "metadata": {},
   "outputs": [],
   "source": [
    "\n",
    "public void multiply(Complex a, Complex b) {\n",
    "    double real = a.getReal() * b.getReal() + a.getImaginary() * b.getImaginary();\n",
    "    double imaginary = a.getImaginary() * b.getReal() + a.getReal() * b.getImaginary();\n",
    "\n",
    "    System.out.println(\"Product: \" + real + \" + \" + imaginary + \"i\");\n",
    "}"
   ]
  },
  {
   "cell_type": "code",
   "execution_count": 35,
   "metadata": {},
   "outputs": [
    {
     "name": "stdout",
     "output_type": "stream",
     "text": [
      "1.0\n",
      "2.0\n",
      "3.0\n",
      "4.0\n",
      "Sum: 4.0 + 6.0i\n",
      "Difference: -2.0 + -2.0i\n",
      "Quotient: 0.44 + 0.08i\n",
      "Product: 11.0 + 10.0i\n"
     ]
    }
   ],
   "source": [
    "Complex a = new Complex(1, 2);\n",
    "Complex b = new Complex(3, 4);\n",
    "\n",
    "System.out.println(a.getReal());\n",
    "System.out.println(a.getImaginary());\n",
    "\n",
    "System.out.println(b.getReal());\n",
    "System.out.println(b.getImaginary());\n",
    "\n",
    "add(a, b);\n",
    "subtract(a, b);\n",
    "divide(a, b);\n",
    "multiply(a, b);"
   ]
  },
  {
   "cell_type": "markdown",
   "metadata": {},
   "source": [
    "5.\tDesign and develop a context for implementing an interface for Vehicles. Consider the example of vehicles like bicycle, car and bike. All Vehicles have common functionalities such as Gear Change, Speed up and apply breaks. Make an interface and put all these common functionalities. Bicycle, Bike, Car classes should be implemented for all these functionalities in their own class in their own way.\n"
   ]
  },
  {
   "cell_type": "code",
   "execution_count": 36,
   "metadata": {},
   "outputs": [],
   "source": [
    "interface vehicle {\n",
    "    public void GearChange();\n",
    "    public void SpeedUp();\n",
    "    public void ApplyBrakes();\n",
    "}"
   ]
  },
  {
   "cell_type": "code",
   "execution_count": null,
   "metadata": {},
   "outputs": [],
   "source": [
    "class Bicycle implements vehicle {\n",
    "    private int gear;\n",
    "    private int speed;\n",
    "\n",
    "    public Bicycle(int gear, int speed) {\n",
    "        this.gear = gear;\n",
    "        this.speed = speed;\n",
    "    }\n",
    "\n",
    "    public void GearChange() {\n",
    "        if (this.gear < 18) {\n",
    "        this.gear++;\n",
    "        }\n",
    "    }\n",
    "\n",
    "    public void SpeedUp() {\n",
    "        if (this.speed < 50) {\n",
    "        this.speed++;\n",
    "        }\n",
    "    }\n",
    "\n",
    "    public void ApplyBrakes() {\n",
    "        if (this.speed > 0) {\n",
    "        this.speed--;\n",
    "        }\n",
    "    }\n",
    "\n",
    "    public void printStates() {\n",
    "        System.out.println(\"Gear: \" + this.gear);\n",
    "        System.out.println(\"Speed: \" + this.speed);\n",
    "    }\n",
    "}"
   ]
  },
  {
   "cell_type": "code",
   "execution_count": null,
   "metadata": {},
   "outputs": [],
   "source": [
    "class Bike implements vehicle {\n",
    "    private int gear;\n",
    "    private int speed;\n",
    "\n",
    "    public Bike(int gear, int speed) {\n",
    "        this.gear = gear;\n",
    "        this.speed = speed;\n",
    "    }\n",
    "\n",
    "    public void GearChange() {\n",
    "        if (this.gear < 18) {\n",
    "        this.gear++;\n",
    "        }\n",
    "    }\n",
    "\n",
    "    public void SpeedUp() {\n",
    "        if (this.speed < 50) {\n",
    "        this.speed++;\n",
    "        }\n",
    "    }\n",
    "\n",
    "    public void ApplyBrakes() {\n",
    "        if (this.speed > 0) {\n",
    "        this.speed--;\n",
    "        }\n",
    "    }\n",
    "\n",
    "    public void printStates() {\n",
    "        System.out.println(\"Gear: \" + this.gear);\n",
    "        System.out.println(\"Speed: \" + this.speed);\n",
    "    }\n",
    "}"
   ]
  },
  {
   "cell_type": "code",
   "execution_count": 37,
   "metadata": {},
   "outputs": [],
   "source": [
    "class Car implements vehicle {\n",
    "    private int gear;\n",
    "    private int speed;\n",
    "\n",
    "    public Car(int gear, int speed) {\n",
    "        this.gear = gear;\n",
    "        this.speed = speed;\n",
    "    }\n",
    "\n",
    "    public void GearChange() {\n",
    "        if (this.gear < 18) {\n",
    "        this.gear++;\n",
    "        }\n",
    "    }\n",
    "\n",
    "    public void SpeedUp() {\n",
    "        if (this.speed < 50) {\n",
    "        this.speed++;\n",
    "        }\n",
    "    }\n",
    "\n",
    "    public void ApplyBrakes() {\n",
    "        if (this.speed > 0) {\n",
    "        this.speed--;\n",
    "        }\n",
    "    }\n",
    "\n",
    "    public void printStates() {\n",
    "        System.out.println(\"Gear: \" + this.gear);\n",
    "        System.out.println(\"Speed: \" + this.speed);\n",
    "    }\n",
    "}"
   ]
  }
 ],
 "metadata": {
  "kernelspec": {
   "display_name": "Java",
   "language": "java",
   "name": "java"
  },
  "language_info": {
   "codemirror_mode": "java",
   "file_extension": ".jshell",
   "mimetype": "text/x-java-source",
   "name": "java",
   "pygments_lexer": "java",
   "version": "17.0.4+8"
  },
  "orig_nbformat": 4,
  "vscode": {
   "interpreter": {
    "hash": "b5dd14d93d27b726d997d18ea138910674eab894d46ed04c0f79e8db9aa67c03"
   }
  }
 },
 "nbformat": 4,
 "nbformat_minor": 2
}
